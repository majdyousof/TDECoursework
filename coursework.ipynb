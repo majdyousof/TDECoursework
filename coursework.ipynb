{
 "cells": [
  {
   "cell_type": "code",
   "execution_count": 5,
   "metadata": {},
   "outputs": [],
   "source": [
    "# Imports\n",
    "\n",
    "import pandas as pd\n",
    "import biogeme.biogeme as bio\n",
    "import biogeme.database as db\n",
    "from biogeme import models\n",
    "from biogeme.expressions import Beta\n",
    "from biogeme.tools import likelihood_ratio_test\n",
    "import numpy as np\n",
    "import matplotlib.pyplot as plt"
   ]
  },
  {
   "cell_type": "code",
   "execution_count": 6,
   "metadata": {},
   "outputs": [],
   "source": [
    "# initialising data\n",
    "df = pd.read_csv('Dataset 1 2024.csv')\n",
    "df.rename(columns={'Unnamed: 0':'ID','CAR OWNERSHIP':'CAR_OWNERSHIP'}, inplace=True)\n",
    "db = db.Database(\"Dataset 1 2024\",df)"
   ]
  },
  {
   "cell_type": "markdown",
   "metadata": {},
   "source": [
    "# Model Estimation"
   ]
  },
  {
   "cell_type": "code",
   "execution_count": 7,
   "metadata": {},
   "outputs": [],
   "source": [
    "## creating the model parameters\n",
    "\n",
    "# general parameters\n",
    "BetaTT = Beta('BetaTT', 0, None, None, 0)\n",
    "BetaTC = Beta('BetaTC', 0, None, None, 0)\n",
    "\n",
    "# total cost parameters\n",
    "BetaTC_car = Beta('BetaTC_car', 0, None, None, 0)\n",
    "BetaTC_PT = Beta('BetaTC_PT', 0, None, None, 0)\n",
    "BetaTC_cycling = Beta('BetaTC_cycling', 0, None, None, 0)\n",
    "BetaTC_walking = Beta('BetaTC_walking', 0, None, None, 0)\n",
    "\n",
    "# car alternative specific constants\n",
    "Beta0_car = Beta('Beta0_car', 0, None, None, 0)\n",
    "BetaTT_car = Beta('BetaTT_car', 0, None, None, 0)\n",
    "BetaFuel_car = Beta('BetaFuel_car', 0, None, None, 0)\n",
    "BetaParking_car = Beta('BetaParking_car', 0, None, None, 0)\n",
    "BetaCongestion_car = Beta('BetaCongestion_car', 0, None, None, 0)\n",
    "\n",
    "# public transport alternative specific constants\n",
    "Beta0_PT = Beta('Beta0_PT', 0, None, None, 0)\n",
    "BetaTT_PT = Beta('BetaTT_PT', 0, None, None, 0)\n",
    "BetaFare_PT = Beta('BetaFare_PT', 0, None, None, 0)\n",
    "BetaAC_PT = Beta('BetaAC_PT', 0, None, None, 0)\n",
    "BetaAT_PT = Beta('BetaAT_PT', 0, None, None, 0)\n",
    "BetaWT_PT = Beta('BetaWT_PT', 0, None, None, 0)\n",
    "\n",
    "\n",
    "# cycling alternative specific constants\n",
    "Beta0_cycling = Beta('Beta0_cycling', 0, None, None, 0)\n",
    "BetaTT_cycling = Beta('BetaTT_cycling', 0, None, None, 0)\n",
    "BetaBikeability_cycling = Beta('BetaBikeability_cycling', 0, None, None, 0)\n",
    "\n",
    "# walking alternative specific constants\n",
    "Beta0_walking = Beta('Beta0_walking', 0, None, None, 1)\n",
    "BetaTT_walking = Beta('BetaTT_walking', 0, None, None, 0)\n",
    "BetaWalkability_walking = Beta('BetaWalkability_walking', 0, None, None, 0)\n",
    "\n",
    "# demographic attribute generic parameters\n",
    "BetaAge = Beta('BetaAge', 0, None, None, 0)\n",
    "BetaGender = Beta('BetaGender', 0, None, None, 0)\n",
    "BetaIncome = Beta('BetaIncome', 0, None, None, 0)\n",
    "BetaCarOwnership = Beta('BetaCarOwnership', 0, None, None, 0)\n"
   ]
  },
  {
   "cell_type": "code",
   "execution_count": 8,
   "metadata": {},
   "outputs": [],
   "source": [
    "globals().update(db.variables)"
   ]
  },
  {
   "cell_type": "code",
   "execution_count": 9,
   "metadata": {},
   "outputs": [],
   "source": [
    "# baseline utility functions\n",
    "baseline_user = BetaAge * AGE + BetaGender * GENDER + BetaIncome * INCOME + BetaCarOwnership * CAR_OWNERSHIP\n",
    "\n",
    "V_baseline_car = Beta0_car + BetaTT_car * TT_CAR + BetaFuel_car * FC_CAR + BetaParking_car * PC_CAR + BetaCongestion_car * CC_CAR + baseline_user\n",
    "V_baseline_PT = Beta0_PT + BetaTT_PT * TT_PT + BetaFare_PT * FARE_PT + BetaAC_PT * AC_PT + BetaAT_PT * AT_PT + BetaWT_PT * WT_PT + baseline_user\n",
    "V_baseline_cycling = Beta0_cycling + BetaTT_cycling * TT_CYCLE + BetaBikeability_cycling * BIKEABILITY_INDEX + baseline_user\n",
    "V_baseline_walking = Beta0_walking + BetaTT_walking * TT_WALK + BetaWalkability_walking * WALKABILITY_INDEX + baseline_user"
   ]
  },
  {
   "cell_type": "code",
   "execution_count": 10,
   "metadata": {},
   "outputs": [],
   "source": [
    "# generalised utility functions for chi squared test\n",
    "\n",
    "V_baseline_car_generalised = Beta0_car + BetaTT * TT_CAR + BetaTC * (FC_CAR + PC_CAR + CC_CAR) + baseline_user\n",
    "V_baseline_PT_generalised = Beta0_PT + BetaTT * TT_PT + BetaTC * (FARE_PT + AC_PT + AT_PT + WT_PT) + baseline_user\n",
    "V_baseline_cycling_generalised = Beta0_cycling + BetaTT * TT_CYCLE + BetaTC * BIKEABILITY_INDEX + baseline_user\n",
    "V_baseline_walking_generalised = Beta0_walking + BetaTT * TT_WALK + BetaTC * WALKABILITY_INDEX + baseline_user"
   ]
  },
  {
   "cell_type": "code",
   "execution_count": 11,
   "metadata": {},
   "outputs": [],
   "source": [
    "# model that compiles all the costs together for alternative specific constants for chi squared test again\n",
    "\n",
    "V_baseline_car_totalcost = Beta0_car + BetaTT_car * TT_CAR + BetaTC_car * (FC_CAR + PC_CAR + CC_CAR) + baseline_user\n",
    "V_baseline_PT_totalcost = Beta0_PT + BetaTT_PT * TT_PT + BetaTC_PT * (FARE_PT + AC_PT + AT_PT + WT_PT) + baseline_user\n",
    "V_baseline_cycling_totalcost = Beta0_cycling + BetaTT_cycling * TT_CYCLE + BetaTC_cycling * BIKEABILITY_INDEX + baseline_user\n",
    "V_baseline_walking_totalcost = Beta0_walking + BetaTT_walking * TT_WALK + BetaTC_walking * WALKABILITY_INDEX + baseline_user"
   ]
  },
  {
   "cell_type": "code",
   "execution_count": 12,
   "metadata": {},
   "outputs": [],
   "source": [
    "# associate utility functions with the numbering of alternatives\n",
    "V_base = {4: V_baseline_car, 3: V_baseline_PT, 2: V_baseline_cycling, 1: V_baseline_walking}\n",
    "V_base_generalised = {4: V_baseline_car_generalised, 3: V_baseline_PT_generalised, 2: V_baseline_cycling_generalised, 1: V_baseline_walking_generalised}\n",
    "V_base_totalcost = {4: V_baseline_car_totalcost, 3: V_baseline_PT_totalcost, 2: V_baseline_cycling_totalcost, 1: V_baseline_walking_totalcost}\n",
    "av = {4: 1, 3: 1, 2: 1, 1: 1}"
   ]
  },
  {
   "cell_type": "code",
   "execution_count": 13,
   "metadata": {},
   "outputs": [],
   "source": [
    "# logit model\n",
    "logprob_base = models.loglogit(V_base, av, CHOSEN_MODE)\n",
    "logprob_base_generalised = models.loglogit(V_base_generalised, av, CHOSEN_MODE)\n",
    "logprob_base_totalcost = models.loglogit(V_base_totalcost, av, CHOSEN_MODE)"
   ]
  },
  {
   "cell_type": "code",
   "execution_count": 14,
   "metadata": {},
   "outputs": [],
   "source": [
    "# initialising the models\n",
    "baseline = bio.BIOGEME(db, logprob_base)\n",
    "baseline_generalised = bio.BIOGEME(db, logprob_base_generalised)\n",
    "baseline_totalcost = bio.BIOGEME(db, logprob_base_totalcost)\n",
    "\n",
    "baseline.modelName = \"baseline_model\"\n",
    "baseline_generalised.modelName = \"baseline_generalised_model\"\n",
    "baseline_totalcost.modelName = \"baseline_totalcost_model\""
   ]
  },
  {
   "cell_type": "code",
   "execution_count": 15,
   "metadata": {},
   "outputs": [
    {
     "data": {
      "text/html": [
       "<div>\n",
       "<style scoped>\n",
       "    .dataframe tbody tr th:only-of-type {\n",
       "        vertical-align: middle;\n",
       "    }\n",
       "\n",
       "    .dataframe tbody tr th {\n",
       "        vertical-align: top;\n",
       "    }\n",
       "\n",
       "    .dataframe thead th {\n",
       "        text-align: right;\n",
       "    }\n",
       "</style>\n",
       "<table border=\"1\" class=\"dataframe\">\n",
       "  <thead>\n",
       "    <tr style=\"text-align: right;\">\n",
       "      <th></th>\n",
       "      <th>Value</th>\n",
       "      <th>Rob. Std err</th>\n",
       "      <th>Rob. t-test</th>\n",
       "      <th>Rob. p-value</th>\n",
       "    </tr>\n",
       "  </thead>\n",
       "  <tbody>\n",
       "    <tr>\n",
       "      <th>Beta0_PT</th>\n",
       "      <td>3.356366e+00</td>\n",
       "      <td>3.259708e-01</td>\n",
       "      <td>10.296522</td>\n",
       "      <td>0.000000e+00</td>\n",
       "    </tr>\n",
       "    <tr>\n",
       "      <th>Beta0_car</th>\n",
       "      <td>3.044512e+00</td>\n",
       "      <td>1.721684e-01</td>\n",
       "      <td>17.683335</td>\n",
       "      <td>0.000000e+00</td>\n",
       "    </tr>\n",
       "    <tr>\n",
       "      <th>Beta0_cycling</th>\n",
       "      <td>6.438489e-02</td>\n",
       "      <td>9.854961e-02</td>\n",
       "      <td>0.653325</td>\n",
       "      <td>5.135470e-01</td>\n",
       "    </tr>\n",
       "    <tr>\n",
       "      <th>BetaAC_PT</th>\n",
       "      <td>-5.667310e-01</td>\n",
       "      <td>4.436359e-02</td>\n",
       "      <td>-12.774690</td>\n",
       "      <td>0.000000e+00</td>\n",
       "    </tr>\n",
       "    <tr>\n",
       "      <th>BetaAT_PT</th>\n",
       "      <td>-9.698061e-02</td>\n",
       "      <td>9.415210e-03</td>\n",
       "      <td>-10.300419</td>\n",
       "      <td>0.000000e+00</td>\n",
       "    </tr>\n",
       "    <tr>\n",
       "      <th>BetaAge</th>\n",
       "      <td>-7.380632e-14</td>\n",
       "      <td>1.961691e-14</td>\n",
       "      <td>-3.762383</td>\n",
       "      <td>1.683018e-04</td>\n",
       "    </tr>\n",
       "    <tr>\n",
       "      <th>BetaBikeability_cycling</th>\n",
       "      <td>5.355559e-03</td>\n",
       "      <td>8.614293e-04</td>\n",
       "      <td>6.217062</td>\n",
       "      <td>5.065504e-10</td>\n",
       "    </tr>\n",
       "    <tr>\n",
       "      <th>BetaCarOwnership</th>\n",
       "      <td>9.515456e-17</td>\n",
       "      <td>5.295153e-15</td>\n",
       "      <td>0.017970</td>\n",
       "      <td>9.856627e-01</td>\n",
       "    </tr>\n",
       "    <tr>\n",
       "      <th>BetaCongestion_car</th>\n",
       "      <td>-1.294034e-01</td>\n",
       "      <td>1.293246e-02</td>\n",
       "      <td>-10.006095</td>\n",
       "      <td>0.000000e+00</td>\n",
       "    </tr>\n",
       "    <tr>\n",
       "      <th>BetaFare_PT</th>\n",
       "      <td>-1.137915e+00</td>\n",
       "      <td>6.898014e-02</td>\n",
       "      <td>-16.496271</td>\n",
       "      <td>0.000000e+00</td>\n",
       "    </tr>\n",
       "    <tr>\n",
       "      <th>BetaFuel_car</th>\n",
       "      <td>-5.530274e-01</td>\n",
       "      <td>3.991655e-02</td>\n",
       "      <td>-13.854590</td>\n",
       "      <td>0.000000e+00</td>\n",
       "    </tr>\n",
       "    <tr>\n",
       "      <th>BetaGender</th>\n",
       "      <td>3.746772e-16</td>\n",
       "      <td>3.835649e-16</td>\n",
       "      <td>0.976829</td>\n",
       "      <td>3.286539e-01</td>\n",
       "    </tr>\n",
       "    <tr>\n",
       "      <th>BetaIncome</th>\n",
       "      <td>7.864451e-14</td>\n",
       "      <td>1.269511e-15</td>\n",
       "      <td>61.948665</td>\n",
       "      <td>0.000000e+00</td>\n",
       "    </tr>\n",
       "    <tr>\n",
       "      <th>BetaParking_car</th>\n",
       "      <td>-2.429837e-01</td>\n",
       "      <td>1.459012e-02</td>\n",
       "      <td>-16.653987</td>\n",
       "      <td>0.000000e+00</td>\n",
       "    </tr>\n",
       "    <tr>\n",
       "      <th>BetaTT_PT</th>\n",
       "      <td>-6.910084e-02</td>\n",
       "      <td>5.579551e-03</td>\n",
       "      <td>-12.384659</td>\n",
       "      <td>0.000000e+00</td>\n",
       "    </tr>\n",
       "    <tr>\n",
       "      <th>BetaTT_car</th>\n",
       "      <td>-1.062911e-01</td>\n",
       "      <td>2.992613e-03</td>\n",
       "      <td>-35.517837</td>\n",
       "      <td>0.000000e+00</td>\n",
       "    </tr>\n",
       "    <tr>\n",
       "      <th>BetaTT_cycling</th>\n",
       "      <td>-7.218610e-02</td>\n",
       "      <td>1.837219e-03</td>\n",
       "      <td>-39.290958</td>\n",
       "      <td>0.000000e+00</td>\n",
       "    </tr>\n",
       "    <tr>\n",
       "      <th>BetaTT_walking</th>\n",
       "      <td>-7.010715e-02</td>\n",
       "      <td>1.763657e-03</td>\n",
       "      <td>-39.751016</td>\n",
       "      <td>0.000000e+00</td>\n",
       "    </tr>\n",
       "    <tr>\n",
       "      <th>BetaWT_PT</th>\n",
       "      <td>-4.509253e-02</td>\n",
       "      <td>1.293558e-02</td>\n",
       "      <td>-3.485931</td>\n",
       "      <td>4.904268e-04</td>\n",
       "    </tr>\n",
       "    <tr>\n",
       "      <th>BetaWalkability_walking</th>\n",
       "      <td>8.081596e-03</td>\n",
       "      <td>8.346430e-04</td>\n",
       "      <td>9.682698</td>\n",
       "      <td>0.000000e+00</td>\n",
       "    </tr>\n",
       "  </tbody>\n",
       "</table>\n",
       "</div>"
      ],
      "text/plain": [
       "                                Value  Rob. Std err  Rob. t-test  Rob. p-value\n",
       "Beta0_PT                 3.356366e+00  3.259708e-01    10.296522  0.000000e+00\n",
       "Beta0_car                3.044512e+00  1.721684e-01    17.683335  0.000000e+00\n",
       "Beta0_cycling            6.438489e-02  9.854961e-02     0.653325  5.135470e-01\n",
       "BetaAC_PT               -5.667310e-01  4.436359e-02   -12.774690  0.000000e+00\n",
       "BetaAT_PT               -9.698061e-02  9.415210e-03   -10.300419  0.000000e+00\n",
       "BetaAge                 -7.380632e-14  1.961691e-14    -3.762383  1.683018e-04\n",
       "BetaBikeability_cycling  5.355559e-03  8.614293e-04     6.217062  5.065504e-10\n",
       "BetaCarOwnership         9.515456e-17  5.295153e-15     0.017970  9.856627e-01\n",
       "BetaCongestion_car      -1.294034e-01  1.293246e-02   -10.006095  0.000000e+00\n",
       "BetaFare_PT             -1.137915e+00  6.898014e-02   -16.496271  0.000000e+00\n",
       "BetaFuel_car            -5.530274e-01  3.991655e-02   -13.854590  0.000000e+00\n",
       "BetaGender               3.746772e-16  3.835649e-16     0.976829  3.286539e-01\n",
       "BetaIncome               7.864451e-14  1.269511e-15    61.948665  0.000000e+00\n",
       "BetaParking_car         -2.429837e-01  1.459012e-02   -16.653987  0.000000e+00\n",
       "BetaTT_PT               -6.910084e-02  5.579551e-03   -12.384659  0.000000e+00\n",
       "BetaTT_car              -1.062911e-01  2.992613e-03   -35.517837  0.000000e+00\n",
       "BetaTT_cycling          -7.218610e-02  1.837219e-03   -39.290958  0.000000e+00\n",
       "BetaTT_walking          -7.010715e-02  1.763657e-03   -39.751016  0.000000e+00\n",
       "BetaWT_PT               -4.509253e-02  1.293558e-02    -3.485931  4.904268e-04\n",
       "BetaWalkability_walking  8.081596e-03  8.346430e-04     9.682698  0.000000e+00"
      ]
     },
     "execution_count": 15,
     "metadata": {},
     "output_type": "execute_result"
    }
   ],
   "source": [
    "# baseline model estimation\n",
    "results_baseline = baseline.estimate()\n",
    "results_baseline.get_estimated_parameters()"
   ]
  },
  {
   "cell_type": "code",
   "execution_count": 16,
   "metadata": {},
   "outputs": [
    {
     "data": {
      "text/html": [
       "<div>\n",
       "<style scoped>\n",
       "    .dataframe tbody tr th:only-of-type {\n",
       "        vertical-align: middle;\n",
       "    }\n",
       "\n",
       "    .dataframe tbody tr th {\n",
       "        vertical-align: top;\n",
       "    }\n",
       "\n",
       "    .dataframe thead th {\n",
       "        text-align: right;\n",
       "    }\n",
       "</style>\n",
       "<table border=\"1\" class=\"dataframe\">\n",
       "  <thead>\n",
       "    <tr style=\"text-align: right;\">\n",
       "      <th></th>\n",
       "      <th>Value</th>\n",
       "      <th>Rob. Std err</th>\n",
       "      <th>Rob. t-test</th>\n",
       "      <th>Rob. p-value</th>\n",
       "    </tr>\n",
       "  </thead>\n",
       "  <tbody>\n",
       "    <tr>\n",
       "      <th>Beta0_PT</th>\n",
       "      <td>-2.984911e+00</td>\n",
       "      <td>6.383947e-02</td>\n",
       "      <td>-4.675652e+01</td>\n",
       "      <td>0.000000e+00</td>\n",
       "    </tr>\n",
       "    <tr>\n",
       "      <th>Beta0_car</th>\n",
       "      <td>-9.859077e-01</td>\n",
       "      <td>3.925295e-02</td>\n",
       "      <td>-2.511678e+01</td>\n",
       "      <td>0.000000e+00</td>\n",
       "    </tr>\n",
       "    <tr>\n",
       "      <th>Beta0_cycling</th>\n",
       "      <td>-1.413638e-01</td>\n",
       "      <td>2.684252e-02</td>\n",
       "      <td>-5.266414e+00</td>\n",
       "      <td>1.391142e-07</td>\n",
       "    </tr>\n",
       "    <tr>\n",
       "      <th>BetaAge</th>\n",
       "      <td>-7.216421e-15</td>\n",
       "      <td>1.972906e-17</td>\n",
       "      <td>-3.657762e+02</td>\n",
       "      <td>0.000000e+00</td>\n",
       "    </tr>\n",
       "    <tr>\n",
       "      <th>BetaCarOwnership</th>\n",
       "      <td>9.274919e-18</td>\n",
       "      <td>8.778636e-20</td>\n",
       "      <td>1.056533e+02</td>\n",
       "      <td>0.000000e+00</td>\n",
       "    </tr>\n",
       "    <tr>\n",
       "      <th>BetaGender</th>\n",
       "      <td>1.505564e-17</td>\n",
       "      <td>4.818747e-20</td>\n",
       "      <td>3.124389e+02</td>\n",
       "      <td>0.000000e+00</td>\n",
       "    </tr>\n",
       "    <tr>\n",
       "      <th>BetaIncome</th>\n",
       "      <td>-9.345428e-15</td>\n",
       "      <td>1.797693e+308</td>\n",
       "      <td>-5.434722e-323</td>\n",
       "      <td>1.000000e+00</td>\n",
       "    </tr>\n",
       "    <tr>\n",
       "      <th>BetaTC</th>\n",
       "      <td>4.777857e-03</td>\n",
       "      <td>5.950271e-04</td>\n",
       "      <td>8.029647e+00</td>\n",
       "      <td>8.881784e-16</td>\n",
       "    </tr>\n",
       "    <tr>\n",
       "      <th>BetaTT</th>\n",
       "      <td>-7.317127e-02</td>\n",
       "      <td>1.178168e-03</td>\n",
       "      <td>-6.210596e+01</td>\n",
       "      <td>0.000000e+00</td>\n",
       "    </tr>\n",
       "  </tbody>\n",
       "</table>\n",
       "</div>"
      ],
      "text/plain": [
       "                         Value   Rob. Std err    Rob. t-test  Rob. p-value\n",
       "Beta0_PT         -2.984911e+00   6.383947e-02  -4.675652e+01  0.000000e+00\n",
       "Beta0_car        -9.859077e-01   3.925295e-02  -2.511678e+01  0.000000e+00\n",
       "Beta0_cycling    -1.413638e-01   2.684252e-02  -5.266414e+00  1.391142e-07\n",
       "BetaAge          -7.216421e-15   1.972906e-17  -3.657762e+02  0.000000e+00\n",
       "BetaCarOwnership  9.274919e-18   8.778636e-20   1.056533e+02  0.000000e+00\n",
       "BetaGender        1.505564e-17   4.818747e-20   3.124389e+02  0.000000e+00\n",
       "BetaIncome       -9.345428e-15  1.797693e+308 -5.434722e-323  1.000000e+00\n",
       "BetaTC            4.777857e-03   5.950271e-04   8.029647e+00  8.881784e-16\n",
       "BetaTT           -7.317127e-02   1.178168e-03  -6.210596e+01  0.000000e+00"
      ]
     },
     "execution_count": 16,
     "metadata": {},
     "output_type": "execute_result"
    }
   ],
   "source": [
    "# baseline generalised model estimation\n",
    "results_baseline_generalised = baseline_generalised.estimate()\n",
    "results_baseline_generalised.get_estimated_parameters()"
   ]
  },
  {
   "cell_type": "code",
   "execution_count": 17,
   "metadata": {},
   "outputs": [
    {
     "data": {
      "text/html": [
       "<div>\n",
       "<style scoped>\n",
       "    .dataframe tbody tr th:only-of-type {\n",
       "        vertical-align: middle;\n",
       "    }\n",
       "\n",
       "    .dataframe tbody tr th {\n",
       "        vertical-align: top;\n",
       "    }\n",
       "\n",
       "    .dataframe thead th {\n",
       "        text-align: right;\n",
       "    }\n",
       "</style>\n",
       "<table border=\"1\" class=\"dataframe\">\n",
       "  <thead>\n",
       "    <tr style=\"text-align: right;\">\n",
       "      <th></th>\n",
       "      <th>Value</th>\n",
       "      <th>Rob. Std err</th>\n",
       "      <th>Rob. t-test</th>\n",
       "      <th>Rob. p-value</th>\n",
       "    </tr>\n",
       "  </thead>\n",
       "  <tbody>\n",
       "    <tr>\n",
       "      <th>Beta0_PT</th>\n",
       "      <td>4.636015e-01</td>\n",
       "      <td>2.477302e-01</td>\n",
       "      <td>1.871397e+00</td>\n",
       "      <td>6.129011e-02</td>\n",
       "    </tr>\n",
       "    <tr>\n",
       "      <th>Beta0_car</th>\n",
       "      <td>2.515980e+00</td>\n",
       "      <td>1.575676e-01</td>\n",
       "      <td>1.596763e+01</td>\n",
       "      <td>0.000000e+00</td>\n",
       "    </tr>\n",
       "    <tr>\n",
       "      <th>Beta0_cycling</th>\n",
       "      <td>6.887743e-02</td>\n",
       "      <td>9.772029e-02</td>\n",
       "      <td>7.048426e-01</td>\n",
       "      <td>4.809082e-01</td>\n",
       "    </tr>\n",
       "    <tr>\n",
       "      <th>BetaAge</th>\n",
       "      <td>7.466399e-14</td>\n",
       "      <td>1.797693e+308</td>\n",
       "      <td>4.150151e-322</td>\n",
       "      <td>1.000000e+00</td>\n",
       "    </tr>\n",
       "    <tr>\n",
       "      <th>BetaCarOwnership</th>\n",
       "      <td>2.733280e-17</td>\n",
       "      <td>7.001766e-14</td>\n",
       "      <td>3.903701e-04</td>\n",
       "      <td>9.996885e-01</td>\n",
       "    </tr>\n",
       "    <tr>\n",
       "      <th>BetaGender</th>\n",
       "      <td>-4.750387e-16</td>\n",
       "      <td>1.797693e+308</td>\n",
       "      <td>-4.940656e-324</td>\n",
       "      <td>1.000000e+00</td>\n",
       "    </tr>\n",
       "    <tr>\n",
       "      <th>BetaIncome</th>\n",
       "      <td>-3.912357e-14</td>\n",
       "      <td>5.878772e-15</td>\n",
       "      <td>-6.655058e+00</td>\n",
       "      <td>2.831890e-11</td>\n",
       "    </tr>\n",
       "    <tr>\n",
       "      <th>BetaTC_PT</th>\n",
       "      <td>-1.081079e-01</td>\n",
       "      <td>7.208485e-03</td>\n",
       "      <td>-1.499732e+01</td>\n",
       "      <td>0.000000e+00</td>\n",
       "    </tr>\n",
       "    <tr>\n",
       "      <th>BetaTC_car</th>\n",
       "      <td>-1.955748e-01</td>\n",
       "      <td>9.505163e-03</td>\n",
       "      <td>-2.057564e+01</td>\n",
       "      <td>0.000000e+00</td>\n",
       "    </tr>\n",
       "    <tr>\n",
       "      <th>BetaTC_cycling</th>\n",
       "      <td>5.365577e-03</td>\n",
       "      <td>8.516906e-04</td>\n",
       "      <td>6.299913e+00</td>\n",
       "      <td>2.978129e-10</td>\n",
       "    </tr>\n",
       "    <tr>\n",
       "      <th>BetaTC_walking</th>\n",
       "      <td>7.937742e-03</td>\n",
       "      <td>8.289044e-04</td>\n",
       "      <td>9.576185e+00</td>\n",
       "      <td>0.000000e+00</td>\n",
       "    </tr>\n",
       "    <tr>\n",
       "      <th>BetaTT_PT</th>\n",
       "      <td>-5.876385e-02</td>\n",
       "      <td>4.976732e-03</td>\n",
       "      <td>-1.180772e+01</td>\n",
       "      <td>0.000000e+00</td>\n",
       "    </tr>\n",
       "    <tr>\n",
       "      <th>BetaTT_car</th>\n",
       "      <td>-1.044118e-01</td>\n",
       "      <td>2.943901e-03</td>\n",
       "      <td>-3.546717e+01</td>\n",
       "      <td>0.000000e+00</td>\n",
       "    </tr>\n",
       "    <tr>\n",
       "      <th>BetaTT_cycling</th>\n",
       "      <td>-7.159325e-02</td>\n",
       "      <td>1.814094e-03</td>\n",
       "      <td>-3.946502e+01</td>\n",
       "      <td>0.000000e+00</td>\n",
       "    </tr>\n",
       "    <tr>\n",
       "      <th>BetaTT_walking</th>\n",
       "      <td>-6.923923e-02</td>\n",
       "      <td>1.741429e-03</td>\n",
       "      <td>-3.976001e+01</td>\n",
       "      <td>0.000000e+00</td>\n",
       "    </tr>\n",
       "  </tbody>\n",
       "</table>\n",
       "</div>"
      ],
      "text/plain": [
       "                         Value   Rob. Std err    Rob. t-test  Rob. p-value\n",
       "Beta0_PT          4.636015e-01   2.477302e-01   1.871397e+00  6.129011e-02\n",
       "Beta0_car         2.515980e+00   1.575676e-01   1.596763e+01  0.000000e+00\n",
       "Beta0_cycling     6.887743e-02   9.772029e-02   7.048426e-01  4.809082e-01\n",
       "BetaAge           7.466399e-14  1.797693e+308  4.150151e-322  1.000000e+00\n",
       "BetaCarOwnership  2.733280e-17   7.001766e-14   3.903701e-04  9.996885e-01\n",
       "BetaGender       -4.750387e-16  1.797693e+308 -4.940656e-324  1.000000e+00\n",
       "BetaIncome       -3.912357e-14   5.878772e-15  -6.655058e+00  2.831890e-11\n",
       "BetaTC_PT        -1.081079e-01   7.208485e-03  -1.499732e+01  0.000000e+00\n",
       "BetaTC_car       -1.955748e-01   9.505163e-03  -2.057564e+01  0.000000e+00\n",
       "BetaTC_cycling    5.365577e-03   8.516906e-04   6.299913e+00  2.978129e-10\n",
       "BetaTC_walking    7.937742e-03   8.289044e-04   9.576185e+00  0.000000e+00\n",
       "BetaTT_PT        -5.876385e-02   4.976732e-03  -1.180772e+01  0.000000e+00\n",
       "BetaTT_car       -1.044118e-01   2.943901e-03  -3.546717e+01  0.000000e+00\n",
       "BetaTT_cycling   -7.159325e-02   1.814094e-03  -3.946502e+01  0.000000e+00\n",
       "BetaTT_walking   -6.923923e-02   1.741429e-03  -3.976001e+01  0.000000e+00"
      ]
     },
     "execution_count": 17,
     "metadata": {},
     "output_type": "execute_result"
    }
   ],
   "source": [
    "# baseline total cost model estimation\n",
    "results_baseline_totalcost = baseline_totalcost.estimate()\n",
    "results_baseline_totalcost.get_estimated_parameters()"
   ]
  },
  {
   "cell_type": "markdown",
   "metadata": {},
   "source": [
    "# Analysis"
   ]
  },
  {
   "cell_type": "code",
   "execution_count": 18,
   "metadata": {},
   "outputs": [
    {
     "name": "stderr",
     "output_type": "stream",
     "text": [
      "C:\\Users\\majdy\\AppData\\Local\\Temp\\ipykernel_15056\\3121988993.py:2: DeprecationWarning: getGeneralStatistics is deprecated; use get_general_statistics instead.\n",
      "  baseline_stats = results_baseline.getGeneralStatistics()\n",
      "C:\\Users\\majdy\\AppData\\Local\\Temp\\ipykernel_15056\\3121988993.py:3: DeprecationWarning: getGeneralStatistics is deprecated; use get_general_statistics instead.\n",
      "  baseline_generalised_stats = results_baseline_generalised.getGeneralStatistics()\n",
      "C:\\Users\\majdy\\AppData\\Local\\Temp\\ipykernel_15056\\3121988993.py:4: DeprecationWarning: getGeneralStatistics is deprecated; use get_general_statistics instead.\n",
      "  baseline_totalcost_stats = results_baseline_totalcost.getGeneralStatistics()\n"
     ]
    }
   ],
   "source": [
    "# extracting the general statistics\n",
    "baseline_stats = results_baseline.getGeneralStatistics()\n",
    "baseline_generalised_stats = results_baseline_generalised.getGeneralStatistics()\n",
    "baseline_totalcost_stats = results_baseline_totalcost.getGeneralStatistics()"
   ]
  },
  {
   "cell_type": "code",
   "execution_count": 19,
   "metadata": {},
   "outputs": [
    {
     "data": {
      "text/plain": [
       "LRTuple(message='H0 can be rejected at level 5.0%', statistic=1652.0390671734222, threshold=np.float64(19.67513757268249))"
      ]
     },
     "execution_count": 19,
     "metadata": {},
     "output_type": "execute_result"
    }
   ],
   "source": [
    "#likelihood ratio test between the generalised model and the baseline model\n",
    "\n",
    "LRbase = [baseline_stats['Final log likelihood'].value, baseline_stats['Number of estimated parameters'].value]\n",
    "LRgeneralised = [baseline_generalised_stats['Final log likelihood'].value, baseline_generalised_stats['Number of estimated parameters'].value]\n",
    "\n",
    "LR_test_1 = likelihood_ratio_test(LRgeneralised, LRbase)\n",
    "LR_test_1"
   ]
  },
  {
   "cell_type": "code",
   "execution_count": 20,
   "metadata": {},
   "outputs": [
    {
     "data": {
      "text/plain": [
       "LRTuple(message='H0 can be rejected at level 5.0%', statistic=727.4611186908423, threshold=np.float64(11.070497693516351))"
      ]
     },
     "execution_count": 20,
     "metadata": {},
     "output_type": "execute_result"
    }
   ],
   "source": [
    "# likelihood ratio test between the total cost model and the baseline model\n",
    "\n",
    "LRtotalcost = [baseline_totalcost_stats['Final log likelihood'].value, baseline_totalcost_stats['Number of estimated parameters'].value]\n",
    "\n",
    "LR_test_2 = likelihood_ratio_test(LRtotalcost, LRbase)\n",
    "LR_test_2"
   ]
  },
  {
   "cell_type": "markdown",
   "metadata": {},
   "source": [
    "# interventions"
   ]
  },
  {
   "cell_type": "code",
   "execution_count": 21,
   "metadata": {},
   "outputs": [
    {
     "name": "stderr",
     "output_type": "stream",
     "text": [
      "C:\\Users\\majdy\\AppData\\Local\\Temp\\ipykernel_15056\\2469950845.py:49: FutureWarning: Series.__getitem__ treating keys as positions is deprecated. In a future version, integer keys will always be treated as labels (consistent with DataFrame behavior). To access a value by position, use `ser.iloc[pos]`\n",
      "  pt_market_share[i,j] = market_shares[1]\n",
      "C:\\Users\\majdy\\AppData\\Local\\Temp\\ipykernel_15056\\2469950845.py:50: FutureWarning: Series.__getitem__ treating keys as positions is deprecated. In a future version, integer keys will always be treated as labels (consistent with DataFrame behavior). To access a value by position, use `ser.iloc[pos]`\n",
      "  cycling_market_share[i,j] = market_shares[2]\n",
      "C:\\Users\\majdy\\AppData\\Local\\Temp\\ipykernel_15056\\2469950845.py:51: FutureWarning: Series.__getitem__ treating keys as positions is deprecated. In a future version, integer keys will always be treated as labels (consistent with DataFrame behavior). To access a value by position, use `ser.iloc[pos]`\n",
      "  walking_market_share[i,j] = market_shares[3]\n",
      "C:\\Users\\majdy\\AppData\\Local\\Temp\\ipykernel_15056\\2469950845.py:52: FutureWarning: Series.__getitem__ treating keys as positions is deprecated. In a future version, integer keys will always be treated as labels (consistent with DataFrame behavior). To access a value by position, use `ser.iloc[pos]`\n",
      "  car_market_share[i,j] = market_shares[0]\n"
     ]
    },
    {
     "name": "stdout",
     "output_type": "stream",
     "text": [
      "iteration (0, 0) completed\n"
     ]
    },
    {
     "name": "stderr",
     "output_type": "stream",
     "text": [
      "C:\\Users\\majdy\\AppData\\Local\\Temp\\ipykernel_15056\\2469950845.py:49: FutureWarning: Series.__getitem__ treating keys as positions is deprecated. In a future version, integer keys will always be treated as labels (consistent with DataFrame behavior). To access a value by position, use `ser.iloc[pos]`\n",
      "  pt_market_share[i,j] = market_shares[1]\n",
      "C:\\Users\\majdy\\AppData\\Local\\Temp\\ipykernel_15056\\2469950845.py:50: FutureWarning: Series.__getitem__ treating keys as positions is deprecated. In a future version, integer keys will always be treated as labels (consistent with DataFrame behavior). To access a value by position, use `ser.iloc[pos]`\n",
      "  cycling_market_share[i,j] = market_shares[2]\n",
      "C:\\Users\\majdy\\AppData\\Local\\Temp\\ipykernel_15056\\2469950845.py:51: FutureWarning: Series.__getitem__ treating keys as positions is deprecated. In a future version, integer keys will always be treated as labels (consistent with DataFrame behavior). To access a value by position, use `ser.iloc[pos]`\n",
      "  walking_market_share[i,j] = market_shares[3]\n",
      "C:\\Users\\majdy\\AppData\\Local\\Temp\\ipykernel_15056\\2469950845.py:52: FutureWarning: Series.__getitem__ treating keys as positions is deprecated. In a future version, integer keys will always be treated as labels (consistent with DataFrame behavior). To access a value by position, use `ser.iloc[pos]`\n",
      "  car_market_share[i,j] = market_shares[0]\n"
     ]
    },
    {
     "name": "stdout",
     "output_type": "stream",
     "text": [
      "iteration (1, 0) completed\n"
     ]
    },
    {
     "name": "stderr",
     "output_type": "stream",
     "text": [
      "C:\\Users\\majdy\\AppData\\Local\\Temp\\ipykernel_15056\\2469950845.py:49: FutureWarning: Series.__getitem__ treating keys as positions is deprecated. In a future version, integer keys will always be treated as labels (consistent with DataFrame behavior). To access a value by position, use `ser.iloc[pos]`\n",
      "  pt_market_share[i,j] = market_shares[1]\n",
      "C:\\Users\\majdy\\AppData\\Local\\Temp\\ipykernel_15056\\2469950845.py:50: FutureWarning: Series.__getitem__ treating keys as positions is deprecated. In a future version, integer keys will always be treated as labels (consistent with DataFrame behavior). To access a value by position, use `ser.iloc[pos]`\n",
      "  cycling_market_share[i,j] = market_shares[2]\n",
      "C:\\Users\\majdy\\AppData\\Local\\Temp\\ipykernel_15056\\2469950845.py:51: FutureWarning: Series.__getitem__ treating keys as positions is deprecated. In a future version, integer keys will always be treated as labels (consistent with DataFrame behavior). To access a value by position, use `ser.iloc[pos]`\n",
      "  walking_market_share[i,j] = market_shares[3]\n",
      "C:\\Users\\majdy\\AppData\\Local\\Temp\\ipykernel_15056\\2469950845.py:52: FutureWarning: Series.__getitem__ treating keys as positions is deprecated. In a future version, integer keys will always be treated as labels (consistent with DataFrame behavior). To access a value by position, use `ser.iloc[pos]`\n",
      "  car_market_share[i,j] = market_shares[0]\n"
     ]
    },
    {
     "name": "stdout",
     "output_type": "stream",
     "text": [
      "iteration (2, 0) completed\n"
     ]
    },
    {
     "name": "stderr",
     "output_type": "stream",
     "text": [
      "C:\\Users\\majdy\\AppData\\Local\\Temp\\ipykernel_15056\\2469950845.py:49: FutureWarning: Series.__getitem__ treating keys as positions is deprecated. In a future version, integer keys will always be treated as labels (consistent with DataFrame behavior). To access a value by position, use `ser.iloc[pos]`\n",
      "  pt_market_share[i,j] = market_shares[1]\n",
      "C:\\Users\\majdy\\AppData\\Local\\Temp\\ipykernel_15056\\2469950845.py:50: FutureWarning: Series.__getitem__ treating keys as positions is deprecated. In a future version, integer keys will always be treated as labels (consistent with DataFrame behavior). To access a value by position, use `ser.iloc[pos]`\n",
      "  cycling_market_share[i,j] = market_shares[2]\n",
      "C:\\Users\\majdy\\AppData\\Local\\Temp\\ipykernel_15056\\2469950845.py:51: FutureWarning: Series.__getitem__ treating keys as positions is deprecated. In a future version, integer keys will always be treated as labels (consistent with DataFrame behavior). To access a value by position, use `ser.iloc[pos]`\n",
      "  walking_market_share[i,j] = market_shares[3]\n",
      "C:\\Users\\majdy\\AppData\\Local\\Temp\\ipykernel_15056\\2469950845.py:52: FutureWarning: Series.__getitem__ treating keys as positions is deprecated. In a future version, integer keys will always be treated as labels (consistent with DataFrame behavior). To access a value by position, use `ser.iloc[pos]`\n",
      "  car_market_share[i,j] = market_shares[0]\n"
     ]
    },
    {
     "name": "stdout",
     "output_type": "stream",
     "text": [
      "iteration (3, 0) completed\n"
     ]
    },
    {
     "name": "stderr",
     "output_type": "stream",
     "text": [
      "C:\\Users\\majdy\\AppData\\Local\\Temp\\ipykernel_15056\\2469950845.py:49: FutureWarning: Series.__getitem__ treating keys as positions is deprecated. In a future version, integer keys will always be treated as labels (consistent with DataFrame behavior). To access a value by position, use `ser.iloc[pos]`\n",
      "  pt_market_share[i,j] = market_shares[1]\n",
      "C:\\Users\\majdy\\AppData\\Local\\Temp\\ipykernel_15056\\2469950845.py:50: FutureWarning: Series.__getitem__ treating keys as positions is deprecated. In a future version, integer keys will always be treated as labels (consistent with DataFrame behavior). To access a value by position, use `ser.iloc[pos]`\n",
      "  cycling_market_share[i,j] = market_shares[2]\n",
      "C:\\Users\\majdy\\AppData\\Local\\Temp\\ipykernel_15056\\2469950845.py:51: FutureWarning: Series.__getitem__ treating keys as positions is deprecated. In a future version, integer keys will always be treated as labels (consistent with DataFrame behavior). To access a value by position, use `ser.iloc[pos]`\n",
      "  walking_market_share[i,j] = market_shares[3]\n",
      "C:\\Users\\majdy\\AppData\\Local\\Temp\\ipykernel_15056\\2469950845.py:52: FutureWarning: Series.__getitem__ treating keys as positions is deprecated. In a future version, integer keys will always be treated as labels (consistent with DataFrame behavior). To access a value by position, use `ser.iloc[pos]`\n",
      "  car_market_share[i,j] = market_shares[0]\n"
     ]
    },
    {
     "name": "stdout",
     "output_type": "stream",
     "text": [
      "iteration (4, 0) completed\n"
     ]
    },
    {
     "name": "stderr",
     "output_type": "stream",
     "text": [
      "C:\\Users\\majdy\\AppData\\Local\\Temp\\ipykernel_15056\\2469950845.py:49: FutureWarning: Series.__getitem__ treating keys as positions is deprecated. In a future version, integer keys will always be treated as labels (consistent with DataFrame behavior). To access a value by position, use `ser.iloc[pos]`\n",
      "  pt_market_share[i,j] = market_shares[1]\n",
      "C:\\Users\\majdy\\AppData\\Local\\Temp\\ipykernel_15056\\2469950845.py:50: FutureWarning: Series.__getitem__ treating keys as positions is deprecated. In a future version, integer keys will always be treated as labels (consistent with DataFrame behavior). To access a value by position, use `ser.iloc[pos]`\n",
      "  cycling_market_share[i,j] = market_shares[2]\n",
      "C:\\Users\\majdy\\AppData\\Local\\Temp\\ipykernel_15056\\2469950845.py:51: FutureWarning: Series.__getitem__ treating keys as positions is deprecated. In a future version, integer keys will always be treated as labels (consistent with DataFrame behavior). To access a value by position, use `ser.iloc[pos]`\n",
      "  walking_market_share[i,j] = market_shares[3]\n",
      "C:\\Users\\majdy\\AppData\\Local\\Temp\\ipykernel_15056\\2469950845.py:52: FutureWarning: Series.__getitem__ treating keys as positions is deprecated. In a future version, integer keys will always be treated as labels (consistent with DataFrame behavior). To access a value by position, use `ser.iloc[pos]`\n",
      "  car_market_share[i,j] = market_shares[0]\n"
     ]
    },
    {
     "name": "stdout",
     "output_type": "stream",
     "text": [
      "iteration (5, 0) completed\n"
     ]
    },
    {
     "name": "stderr",
     "output_type": "stream",
     "text": [
      "C:\\Users\\majdy\\AppData\\Local\\Temp\\ipykernel_15056\\2469950845.py:49: FutureWarning: Series.__getitem__ treating keys as positions is deprecated. In a future version, integer keys will always be treated as labels (consistent with DataFrame behavior). To access a value by position, use `ser.iloc[pos]`\n",
      "  pt_market_share[i,j] = market_shares[1]\n",
      "C:\\Users\\majdy\\AppData\\Local\\Temp\\ipykernel_15056\\2469950845.py:50: FutureWarning: Series.__getitem__ treating keys as positions is deprecated. In a future version, integer keys will always be treated as labels (consistent with DataFrame behavior). To access a value by position, use `ser.iloc[pos]`\n",
      "  cycling_market_share[i,j] = market_shares[2]\n",
      "C:\\Users\\majdy\\AppData\\Local\\Temp\\ipykernel_15056\\2469950845.py:51: FutureWarning: Series.__getitem__ treating keys as positions is deprecated. In a future version, integer keys will always be treated as labels (consistent with DataFrame behavior). To access a value by position, use `ser.iloc[pos]`\n",
      "  walking_market_share[i,j] = market_shares[3]\n",
      "C:\\Users\\majdy\\AppData\\Local\\Temp\\ipykernel_15056\\2469950845.py:52: FutureWarning: Series.__getitem__ treating keys as positions is deprecated. In a future version, integer keys will always be treated as labels (consistent with DataFrame behavior). To access a value by position, use `ser.iloc[pos]`\n",
      "  car_market_share[i,j] = market_shares[0]\n"
     ]
    },
    {
     "name": "stdout",
     "output_type": "stream",
     "text": [
      "iteration (6, 0) completed\n"
     ]
    },
    {
     "name": "stderr",
     "output_type": "stream",
     "text": [
      "C:\\Users\\majdy\\AppData\\Local\\Temp\\ipykernel_15056\\2469950845.py:49: FutureWarning: Series.__getitem__ treating keys as positions is deprecated. In a future version, integer keys will always be treated as labels (consistent with DataFrame behavior). To access a value by position, use `ser.iloc[pos]`\n",
      "  pt_market_share[i,j] = market_shares[1]\n",
      "C:\\Users\\majdy\\AppData\\Local\\Temp\\ipykernel_15056\\2469950845.py:50: FutureWarning: Series.__getitem__ treating keys as positions is deprecated. In a future version, integer keys will always be treated as labels (consistent with DataFrame behavior). To access a value by position, use `ser.iloc[pos]`\n",
      "  cycling_market_share[i,j] = market_shares[2]\n",
      "C:\\Users\\majdy\\AppData\\Local\\Temp\\ipykernel_15056\\2469950845.py:51: FutureWarning: Series.__getitem__ treating keys as positions is deprecated. In a future version, integer keys will always be treated as labels (consistent with DataFrame behavior). To access a value by position, use `ser.iloc[pos]`\n",
      "  walking_market_share[i,j] = market_shares[3]\n",
      "C:\\Users\\majdy\\AppData\\Local\\Temp\\ipykernel_15056\\2469950845.py:52: FutureWarning: Series.__getitem__ treating keys as positions is deprecated. In a future version, integer keys will always be treated as labels (consistent with DataFrame behavior). To access a value by position, use `ser.iloc[pos]`\n",
      "  car_market_share[i,j] = market_shares[0]\n"
     ]
    },
    {
     "name": "stdout",
     "output_type": "stream",
     "text": [
      "iteration (7, 0) completed\n"
     ]
    },
    {
     "name": "stderr",
     "output_type": "stream",
     "text": [
      "C:\\Users\\majdy\\AppData\\Local\\Temp\\ipykernel_15056\\2469950845.py:49: FutureWarning: Series.__getitem__ treating keys as positions is deprecated. In a future version, integer keys will always be treated as labels (consistent with DataFrame behavior). To access a value by position, use `ser.iloc[pos]`\n",
      "  pt_market_share[i,j] = market_shares[1]\n",
      "C:\\Users\\majdy\\AppData\\Local\\Temp\\ipykernel_15056\\2469950845.py:50: FutureWarning: Series.__getitem__ treating keys as positions is deprecated. In a future version, integer keys will always be treated as labels (consistent with DataFrame behavior). To access a value by position, use `ser.iloc[pos]`\n",
      "  cycling_market_share[i,j] = market_shares[2]\n",
      "C:\\Users\\majdy\\AppData\\Local\\Temp\\ipykernel_15056\\2469950845.py:51: FutureWarning: Series.__getitem__ treating keys as positions is deprecated. In a future version, integer keys will always be treated as labels (consistent with DataFrame behavior). To access a value by position, use `ser.iloc[pos]`\n",
      "  walking_market_share[i,j] = market_shares[3]\n",
      "C:\\Users\\majdy\\AppData\\Local\\Temp\\ipykernel_15056\\2469950845.py:52: FutureWarning: Series.__getitem__ treating keys as positions is deprecated. In a future version, integer keys will always be treated as labels (consistent with DataFrame behavior). To access a value by position, use `ser.iloc[pos]`\n",
      "  car_market_share[i,j] = market_shares[0]\n"
     ]
    },
    {
     "name": "stdout",
     "output_type": "stream",
     "text": [
      "iteration (8, 0) completed\n"
     ]
    },
    {
     "name": "stderr",
     "output_type": "stream",
     "text": [
      "C:\\Users\\majdy\\AppData\\Local\\Temp\\ipykernel_15056\\2469950845.py:49: FutureWarning: Series.__getitem__ treating keys as positions is deprecated. In a future version, integer keys will always be treated as labels (consistent with DataFrame behavior). To access a value by position, use `ser.iloc[pos]`\n",
      "  pt_market_share[i,j] = market_shares[1]\n",
      "C:\\Users\\majdy\\AppData\\Local\\Temp\\ipykernel_15056\\2469950845.py:50: FutureWarning: Series.__getitem__ treating keys as positions is deprecated. In a future version, integer keys will always be treated as labels (consistent with DataFrame behavior). To access a value by position, use `ser.iloc[pos]`\n",
      "  cycling_market_share[i,j] = market_shares[2]\n",
      "C:\\Users\\majdy\\AppData\\Local\\Temp\\ipykernel_15056\\2469950845.py:51: FutureWarning: Series.__getitem__ treating keys as positions is deprecated. In a future version, integer keys will always be treated as labels (consistent with DataFrame behavior). To access a value by position, use `ser.iloc[pos]`\n",
      "  walking_market_share[i,j] = market_shares[3]\n",
      "C:\\Users\\majdy\\AppData\\Local\\Temp\\ipykernel_15056\\2469950845.py:52: FutureWarning: Series.__getitem__ treating keys as positions is deprecated. In a future version, integer keys will always be treated as labels (consistent with DataFrame behavior). To access a value by position, use `ser.iloc[pos]`\n",
      "  car_market_share[i,j] = market_shares[0]\n"
     ]
    },
    {
     "name": "stdout",
     "output_type": "stream",
     "text": [
      "iteration (9, 0) completed\n"
     ]
    },
    {
     "name": "stderr",
     "output_type": "stream",
     "text": [
      "C:\\Users\\majdy\\AppData\\Local\\Temp\\ipykernel_15056\\2469950845.py:49: FutureWarning: Series.__getitem__ treating keys as positions is deprecated. In a future version, integer keys will always be treated as labels (consistent with DataFrame behavior). To access a value by position, use `ser.iloc[pos]`\n",
      "  pt_market_share[i,j] = market_shares[1]\n",
      "C:\\Users\\majdy\\AppData\\Local\\Temp\\ipykernel_15056\\2469950845.py:50: FutureWarning: Series.__getitem__ treating keys as positions is deprecated. In a future version, integer keys will always be treated as labels (consistent with DataFrame behavior). To access a value by position, use `ser.iloc[pos]`\n",
      "  cycling_market_share[i,j] = market_shares[2]\n",
      "C:\\Users\\majdy\\AppData\\Local\\Temp\\ipykernel_15056\\2469950845.py:51: FutureWarning: Series.__getitem__ treating keys as positions is deprecated. In a future version, integer keys will always be treated as labels (consistent with DataFrame behavior). To access a value by position, use `ser.iloc[pos]`\n",
      "  walking_market_share[i,j] = market_shares[3]\n",
      "C:\\Users\\majdy\\AppData\\Local\\Temp\\ipykernel_15056\\2469950845.py:52: FutureWarning: Series.__getitem__ treating keys as positions is deprecated. In a future version, integer keys will always be treated as labels (consistent with DataFrame behavior). To access a value by position, use `ser.iloc[pos]`\n",
      "  car_market_share[i,j] = market_shares[0]\n"
     ]
    },
    {
     "name": "stdout",
     "output_type": "stream",
     "text": [
      "iteration (10, 0) completed\n"
     ]
    },
    {
     "name": "stderr",
     "output_type": "stream",
     "text": [
      "C:\\Users\\majdy\\AppData\\Local\\Temp\\ipykernel_15056\\2469950845.py:49: FutureWarning: Series.__getitem__ treating keys as positions is deprecated. In a future version, integer keys will always be treated as labels (consistent with DataFrame behavior). To access a value by position, use `ser.iloc[pos]`\n",
      "  pt_market_share[i,j] = market_shares[1]\n",
      "C:\\Users\\majdy\\AppData\\Local\\Temp\\ipykernel_15056\\2469950845.py:50: FutureWarning: Series.__getitem__ treating keys as positions is deprecated. In a future version, integer keys will always be treated as labels (consistent with DataFrame behavior). To access a value by position, use `ser.iloc[pos]`\n",
      "  cycling_market_share[i,j] = market_shares[2]\n",
      "C:\\Users\\majdy\\AppData\\Local\\Temp\\ipykernel_15056\\2469950845.py:51: FutureWarning: Series.__getitem__ treating keys as positions is deprecated. In a future version, integer keys will always be treated as labels (consistent with DataFrame behavior). To access a value by position, use `ser.iloc[pos]`\n",
      "  walking_market_share[i,j] = market_shares[3]\n",
      "C:\\Users\\majdy\\AppData\\Local\\Temp\\ipykernel_15056\\2469950845.py:52: FutureWarning: Series.__getitem__ treating keys as positions is deprecated. In a future version, integer keys will always be treated as labels (consistent with DataFrame behavior). To access a value by position, use `ser.iloc[pos]`\n",
      "  car_market_share[i,j] = market_shares[0]\n"
     ]
    },
    {
     "name": "stdout",
     "output_type": "stream",
     "text": [
      "iteration (0, 1) completed\n"
     ]
    },
    {
     "name": "stderr",
     "output_type": "stream",
     "text": [
      "C:\\Users\\majdy\\AppData\\Local\\Temp\\ipykernel_15056\\2469950845.py:49: FutureWarning: Series.__getitem__ treating keys as positions is deprecated. In a future version, integer keys will always be treated as labels (consistent with DataFrame behavior). To access a value by position, use `ser.iloc[pos]`\n",
      "  pt_market_share[i,j] = market_shares[1]\n",
      "C:\\Users\\majdy\\AppData\\Local\\Temp\\ipykernel_15056\\2469950845.py:50: FutureWarning: Series.__getitem__ treating keys as positions is deprecated. In a future version, integer keys will always be treated as labels (consistent with DataFrame behavior). To access a value by position, use `ser.iloc[pos]`\n",
      "  cycling_market_share[i,j] = market_shares[2]\n",
      "C:\\Users\\majdy\\AppData\\Local\\Temp\\ipykernel_15056\\2469950845.py:51: FutureWarning: Series.__getitem__ treating keys as positions is deprecated. In a future version, integer keys will always be treated as labels (consistent with DataFrame behavior). To access a value by position, use `ser.iloc[pos]`\n",
      "  walking_market_share[i,j] = market_shares[3]\n",
      "C:\\Users\\majdy\\AppData\\Local\\Temp\\ipykernel_15056\\2469950845.py:52: FutureWarning: Series.__getitem__ treating keys as positions is deprecated. In a future version, integer keys will always be treated as labels (consistent with DataFrame behavior). To access a value by position, use `ser.iloc[pos]`\n",
      "  car_market_share[i,j] = market_shares[0]\n"
     ]
    },
    {
     "name": "stdout",
     "output_type": "stream",
     "text": [
      "iteration (1, 1) completed\n"
     ]
    },
    {
     "name": "stderr",
     "output_type": "stream",
     "text": [
      "C:\\Users\\majdy\\AppData\\Local\\Temp\\ipykernel_15056\\2469950845.py:49: FutureWarning: Series.__getitem__ treating keys as positions is deprecated. In a future version, integer keys will always be treated as labels (consistent with DataFrame behavior). To access a value by position, use `ser.iloc[pos]`\n",
      "  pt_market_share[i,j] = market_shares[1]\n",
      "C:\\Users\\majdy\\AppData\\Local\\Temp\\ipykernel_15056\\2469950845.py:50: FutureWarning: Series.__getitem__ treating keys as positions is deprecated. In a future version, integer keys will always be treated as labels (consistent with DataFrame behavior). To access a value by position, use `ser.iloc[pos]`\n",
      "  cycling_market_share[i,j] = market_shares[2]\n",
      "C:\\Users\\majdy\\AppData\\Local\\Temp\\ipykernel_15056\\2469950845.py:51: FutureWarning: Series.__getitem__ treating keys as positions is deprecated. In a future version, integer keys will always be treated as labels (consistent with DataFrame behavior). To access a value by position, use `ser.iloc[pos]`\n",
      "  walking_market_share[i,j] = market_shares[3]\n",
      "C:\\Users\\majdy\\AppData\\Local\\Temp\\ipykernel_15056\\2469950845.py:52: FutureWarning: Series.__getitem__ treating keys as positions is deprecated. In a future version, integer keys will always be treated as labels (consistent with DataFrame behavior). To access a value by position, use `ser.iloc[pos]`\n",
      "  car_market_share[i,j] = market_shares[0]\n"
     ]
    },
    {
     "name": "stdout",
     "output_type": "stream",
     "text": [
      "iteration (2, 1) completed\n"
     ]
    },
    {
     "name": "stderr",
     "output_type": "stream",
     "text": [
      "C:\\Users\\majdy\\AppData\\Local\\Temp\\ipykernel_15056\\2469950845.py:49: FutureWarning: Series.__getitem__ treating keys as positions is deprecated. In a future version, integer keys will always be treated as labels (consistent with DataFrame behavior). To access a value by position, use `ser.iloc[pos]`\n",
      "  pt_market_share[i,j] = market_shares[1]\n",
      "C:\\Users\\majdy\\AppData\\Local\\Temp\\ipykernel_15056\\2469950845.py:50: FutureWarning: Series.__getitem__ treating keys as positions is deprecated. In a future version, integer keys will always be treated as labels (consistent with DataFrame behavior). To access a value by position, use `ser.iloc[pos]`\n",
      "  cycling_market_share[i,j] = market_shares[2]\n",
      "C:\\Users\\majdy\\AppData\\Local\\Temp\\ipykernel_15056\\2469950845.py:51: FutureWarning: Series.__getitem__ treating keys as positions is deprecated. In a future version, integer keys will always be treated as labels (consistent with DataFrame behavior). To access a value by position, use `ser.iloc[pos]`\n",
      "  walking_market_share[i,j] = market_shares[3]\n",
      "C:\\Users\\majdy\\AppData\\Local\\Temp\\ipykernel_15056\\2469950845.py:52: FutureWarning: Series.__getitem__ treating keys as positions is deprecated. In a future version, integer keys will always be treated as labels (consistent with DataFrame behavior). To access a value by position, use `ser.iloc[pos]`\n",
      "  car_market_share[i,j] = market_shares[0]\n"
     ]
    },
    {
     "name": "stdout",
     "output_type": "stream",
     "text": [
      "iteration (3, 1) completed\n"
     ]
    },
    {
     "name": "stderr",
     "output_type": "stream",
     "text": [
      "C:\\Users\\majdy\\AppData\\Local\\Temp\\ipykernel_15056\\2469950845.py:49: FutureWarning: Series.__getitem__ treating keys as positions is deprecated. In a future version, integer keys will always be treated as labels (consistent with DataFrame behavior). To access a value by position, use `ser.iloc[pos]`\n",
      "  pt_market_share[i,j] = market_shares[1]\n",
      "C:\\Users\\majdy\\AppData\\Local\\Temp\\ipykernel_15056\\2469950845.py:50: FutureWarning: Series.__getitem__ treating keys as positions is deprecated. In a future version, integer keys will always be treated as labels (consistent with DataFrame behavior). To access a value by position, use `ser.iloc[pos]`\n",
      "  cycling_market_share[i,j] = market_shares[2]\n",
      "C:\\Users\\majdy\\AppData\\Local\\Temp\\ipykernel_15056\\2469950845.py:51: FutureWarning: Series.__getitem__ treating keys as positions is deprecated. In a future version, integer keys will always be treated as labels (consistent with DataFrame behavior). To access a value by position, use `ser.iloc[pos]`\n",
      "  walking_market_share[i,j] = market_shares[3]\n",
      "C:\\Users\\majdy\\AppData\\Local\\Temp\\ipykernel_15056\\2469950845.py:52: FutureWarning: Series.__getitem__ treating keys as positions is deprecated. In a future version, integer keys will always be treated as labels (consistent with DataFrame behavior). To access a value by position, use `ser.iloc[pos]`\n",
      "  car_market_share[i,j] = market_shares[0]\n"
     ]
    },
    {
     "name": "stdout",
     "output_type": "stream",
     "text": [
      "iteration (4, 1) completed\n"
     ]
    },
    {
     "name": "stderr",
     "output_type": "stream",
     "text": [
      "C:\\Users\\majdy\\AppData\\Local\\Temp\\ipykernel_15056\\2469950845.py:49: FutureWarning: Series.__getitem__ treating keys as positions is deprecated. In a future version, integer keys will always be treated as labels (consistent with DataFrame behavior). To access a value by position, use `ser.iloc[pos]`\n",
      "  pt_market_share[i,j] = market_shares[1]\n",
      "C:\\Users\\majdy\\AppData\\Local\\Temp\\ipykernel_15056\\2469950845.py:50: FutureWarning: Series.__getitem__ treating keys as positions is deprecated. In a future version, integer keys will always be treated as labels (consistent with DataFrame behavior). To access a value by position, use `ser.iloc[pos]`\n",
      "  cycling_market_share[i,j] = market_shares[2]\n",
      "C:\\Users\\majdy\\AppData\\Local\\Temp\\ipykernel_15056\\2469950845.py:51: FutureWarning: Series.__getitem__ treating keys as positions is deprecated. In a future version, integer keys will always be treated as labels (consistent with DataFrame behavior). To access a value by position, use `ser.iloc[pos]`\n",
      "  walking_market_share[i,j] = market_shares[3]\n",
      "C:\\Users\\majdy\\AppData\\Local\\Temp\\ipykernel_15056\\2469950845.py:52: FutureWarning: Series.__getitem__ treating keys as positions is deprecated. In a future version, integer keys will always be treated as labels (consistent with DataFrame behavior). To access a value by position, use `ser.iloc[pos]`\n",
      "  car_market_share[i,j] = market_shares[0]\n"
     ]
    },
    {
     "name": "stdout",
     "output_type": "stream",
     "text": [
      "iteration (5, 1) completed\n"
     ]
    },
    {
     "name": "stderr",
     "output_type": "stream",
     "text": [
      "C:\\Users\\majdy\\AppData\\Local\\Temp\\ipykernel_15056\\2469950845.py:49: FutureWarning: Series.__getitem__ treating keys as positions is deprecated. In a future version, integer keys will always be treated as labels (consistent with DataFrame behavior). To access a value by position, use `ser.iloc[pos]`\n",
      "  pt_market_share[i,j] = market_shares[1]\n",
      "C:\\Users\\majdy\\AppData\\Local\\Temp\\ipykernel_15056\\2469950845.py:50: FutureWarning: Series.__getitem__ treating keys as positions is deprecated. In a future version, integer keys will always be treated as labels (consistent with DataFrame behavior). To access a value by position, use `ser.iloc[pos]`\n",
      "  cycling_market_share[i,j] = market_shares[2]\n",
      "C:\\Users\\majdy\\AppData\\Local\\Temp\\ipykernel_15056\\2469950845.py:51: FutureWarning: Series.__getitem__ treating keys as positions is deprecated. In a future version, integer keys will always be treated as labels (consistent with DataFrame behavior). To access a value by position, use `ser.iloc[pos]`\n",
      "  walking_market_share[i,j] = market_shares[3]\n",
      "C:\\Users\\majdy\\AppData\\Local\\Temp\\ipykernel_15056\\2469950845.py:52: FutureWarning: Series.__getitem__ treating keys as positions is deprecated. In a future version, integer keys will always be treated as labels (consistent with DataFrame behavior). To access a value by position, use `ser.iloc[pos]`\n",
      "  car_market_share[i,j] = market_shares[0]\n"
     ]
    },
    {
     "name": "stdout",
     "output_type": "stream",
     "text": [
      "iteration (6, 1) completed\n"
     ]
    },
    {
     "name": "stderr",
     "output_type": "stream",
     "text": [
      "C:\\Users\\majdy\\AppData\\Local\\Temp\\ipykernel_15056\\2469950845.py:49: FutureWarning: Series.__getitem__ treating keys as positions is deprecated. In a future version, integer keys will always be treated as labels (consistent with DataFrame behavior). To access a value by position, use `ser.iloc[pos]`\n",
      "  pt_market_share[i,j] = market_shares[1]\n",
      "C:\\Users\\majdy\\AppData\\Local\\Temp\\ipykernel_15056\\2469950845.py:50: FutureWarning: Series.__getitem__ treating keys as positions is deprecated. In a future version, integer keys will always be treated as labels (consistent with DataFrame behavior). To access a value by position, use `ser.iloc[pos]`\n",
      "  cycling_market_share[i,j] = market_shares[2]\n",
      "C:\\Users\\majdy\\AppData\\Local\\Temp\\ipykernel_15056\\2469950845.py:51: FutureWarning: Series.__getitem__ treating keys as positions is deprecated. In a future version, integer keys will always be treated as labels (consistent with DataFrame behavior). To access a value by position, use `ser.iloc[pos]`\n",
      "  walking_market_share[i,j] = market_shares[3]\n",
      "C:\\Users\\majdy\\AppData\\Local\\Temp\\ipykernel_15056\\2469950845.py:52: FutureWarning: Series.__getitem__ treating keys as positions is deprecated. In a future version, integer keys will always be treated as labels (consistent with DataFrame behavior). To access a value by position, use `ser.iloc[pos]`\n",
      "  car_market_share[i,j] = market_shares[0]\n"
     ]
    },
    {
     "name": "stdout",
     "output_type": "stream",
     "text": [
      "iteration (7, 1) completed\n"
     ]
    },
    {
     "name": "stderr",
     "output_type": "stream",
     "text": [
      "C:\\Users\\majdy\\AppData\\Local\\Temp\\ipykernel_15056\\2469950845.py:49: FutureWarning: Series.__getitem__ treating keys as positions is deprecated. In a future version, integer keys will always be treated as labels (consistent with DataFrame behavior). To access a value by position, use `ser.iloc[pos]`\n",
      "  pt_market_share[i,j] = market_shares[1]\n",
      "C:\\Users\\majdy\\AppData\\Local\\Temp\\ipykernel_15056\\2469950845.py:50: FutureWarning: Series.__getitem__ treating keys as positions is deprecated. In a future version, integer keys will always be treated as labels (consistent with DataFrame behavior). To access a value by position, use `ser.iloc[pos]`\n",
      "  cycling_market_share[i,j] = market_shares[2]\n",
      "C:\\Users\\majdy\\AppData\\Local\\Temp\\ipykernel_15056\\2469950845.py:51: FutureWarning: Series.__getitem__ treating keys as positions is deprecated. In a future version, integer keys will always be treated as labels (consistent with DataFrame behavior). To access a value by position, use `ser.iloc[pos]`\n",
      "  walking_market_share[i,j] = market_shares[3]\n",
      "C:\\Users\\majdy\\AppData\\Local\\Temp\\ipykernel_15056\\2469950845.py:52: FutureWarning: Series.__getitem__ treating keys as positions is deprecated. In a future version, integer keys will always be treated as labels (consistent with DataFrame behavior). To access a value by position, use `ser.iloc[pos]`\n",
      "  car_market_share[i,j] = market_shares[0]\n"
     ]
    },
    {
     "name": "stdout",
     "output_type": "stream",
     "text": [
      "iteration (8, 1) completed\n"
     ]
    },
    {
     "name": "stderr",
     "output_type": "stream",
     "text": [
      "C:\\Users\\majdy\\AppData\\Local\\Temp\\ipykernel_15056\\2469950845.py:49: FutureWarning: Series.__getitem__ treating keys as positions is deprecated. In a future version, integer keys will always be treated as labels (consistent with DataFrame behavior). To access a value by position, use `ser.iloc[pos]`\n",
      "  pt_market_share[i,j] = market_shares[1]\n",
      "C:\\Users\\majdy\\AppData\\Local\\Temp\\ipykernel_15056\\2469950845.py:50: FutureWarning: Series.__getitem__ treating keys as positions is deprecated. In a future version, integer keys will always be treated as labels (consistent with DataFrame behavior). To access a value by position, use `ser.iloc[pos]`\n",
      "  cycling_market_share[i,j] = market_shares[2]\n",
      "C:\\Users\\majdy\\AppData\\Local\\Temp\\ipykernel_15056\\2469950845.py:51: FutureWarning: Series.__getitem__ treating keys as positions is deprecated. In a future version, integer keys will always be treated as labels (consistent with DataFrame behavior). To access a value by position, use `ser.iloc[pos]`\n",
      "  walking_market_share[i,j] = market_shares[3]\n",
      "C:\\Users\\majdy\\AppData\\Local\\Temp\\ipykernel_15056\\2469950845.py:52: FutureWarning: Series.__getitem__ treating keys as positions is deprecated. In a future version, integer keys will always be treated as labels (consistent with DataFrame behavior). To access a value by position, use `ser.iloc[pos]`\n",
      "  car_market_share[i,j] = market_shares[0]\n"
     ]
    },
    {
     "name": "stdout",
     "output_type": "stream",
     "text": [
      "iteration (9, 1) completed\n"
     ]
    },
    {
     "name": "stderr",
     "output_type": "stream",
     "text": [
      "C:\\Users\\majdy\\AppData\\Local\\Temp\\ipykernel_15056\\2469950845.py:49: FutureWarning: Series.__getitem__ treating keys as positions is deprecated. In a future version, integer keys will always be treated as labels (consistent with DataFrame behavior). To access a value by position, use `ser.iloc[pos]`\n",
      "  pt_market_share[i,j] = market_shares[1]\n",
      "C:\\Users\\majdy\\AppData\\Local\\Temp\\ipykernel_15056\\2469950845.py:50: FutureWarning: Series.__getitem__ treating keys as positions is deprecated. In a future version, integer keys will always be treated as labels (consistent with DataFrame behavior). To access a value by position, use `ser.iloc[pos]`\n",
      "  cycling_market_share[i,j] = market_shares[2]\n",
      "C:\\Users\\majdy\\AppData\\Local\\Temp\\ipykernel_15056\\2469950845.py:51: FutureWarning: Series.__getitem__ treating keys as positions is deprecated. In a future version, integer keys will always be treated as labels (consistent with DataFrame behavior). To access a value by position, use `ser.iloc[pos]`\n",
      "  walking_market_share[i,j] = market_shares[3]\n",
      "C:\\Users\\majdy\\AppData\\Local\\Temp\\ipykernel_15056\\2469950845.py:52: FutureWarning: Series.__getitem__ treating keys as positions is deprecated. In a future version, integer keys will always be treated as labels (consistent with DataFrame behavior). To access a value by position, use `ser.iloc[pos]`\n",
      "  car_market_share[i,j] = market_shares[0]\n"
     ]
    },
    {
     "name": "stdout",
     "output_type": "stream",
     "text": [
      "iteration (10, 1) completed\n"
     ]
    },
    {
     "name": "stderr",
     "output_type": "stream",
     "text": [
      "C:\\Users\\majdy\\AppData\\Local\\Temp\\ipykernel_15056\\2469950845.py:49: FutureWarning: Series.__getitem__ treating keys as positions is deprecated. In a future version, integer keys will always be treated as labels (consistent with DataFrame behavior). To access a value by position, use `ser.iloc[pos]`\n",
      "  pt_market_share[i,j] = market_shares[1]\n",
      "C:\\Users\\majdy\\AppData\\Local\\Temp\\ipykernel_15056\\2469950845.py:50: FutureWarning: Series.__getitem__ treating keys as positions is deprecated. In a future version, integer keys will always be treated as labels (consistent with DataFrame behavior). To access a value by position, use `ser.iloc[pos]`\n",
      "  cycling_market_share[i,j] = market_shares[2]\n",
      "C:\\Users\\majdy\\AppData\\Local\\Temp\\ipykernel_15056\\2469950845.py:51: FutureWarning: Series.__getitem__ treating keys as positions is deprecated. In a future version, integer keys will always be treated as labels (consistent with DataFrame behavior). To access a value by position, use `ser.iloc[pos]`\n",
      "  walking_market_share[i,j] = market_shares[3]\n",
      "C:\\Users\\majdy\\AppData\\Local\\Temp\\ipykernel_15056\\2469950845.py:52: FutureWarning: Series.__getitem__ treating keys as positions is deprecated. In a future version, integer keys will always be treated as labels (consistent with DataFrame behavior). To access a value by position, use `ser.iloc[pos]`\n",
      "  car_market_share[i,j] = market_shares[0]\n"
     ]
    },
    {
     "name": "stdout",
     "output_type": "stream",
     "text": [
      "iteration (0, 2) completed\n"
     ]
    },
    {
     "name": "stderr",
     "output_type": "stream",
     "text": [
      "C:\\Users\\majdy\\AppData\\Local\\Temp\\ipykernel_15056\\2469950845.py:49: FutureWarning: Series.__getitem__ treating keys as positions is deprecated. In a future version, integer keys will always be treated as labels (consistent with DataFrame behavior). To access a value by position, use `ser.iloc[pos]`\n",
      "  pt_market_share[i,j] = market_shares[1]\n",
      "C:\\Users\\majdy\\AppData\\Local\\Temp\\ipykernel_15056\\2469950845.py:50: FutureWarning: Series.__getitem__ treating keys as positions is deprecated. In a future version, integer keys will always be treated as labels (consistent with DataFrame behavior). To access a value by position, use `ser.iloc[pos]`\n",
      "  cycling_market_share[i,j] = market_shares[2]\n",
      "C:\\Users\\majdy\\AppData\\Local\\Temp\\ipykernel_15056\\2469950845.py:51: FutureWarning: Series.__getitem__ treating keys as positions is deprecated. In a future version, integer keys will always be treated as labels (consistent with DataFrame behavior). To access a value by position, use `ser.iloc[pos]`\n",
      "  walking_market_share[i,j] = market_shares[3]\n",
      "C:\\Users\\majdy\\AppData\\Local\\Temp\\ipykernel_15056\\2469950845.py:52: FutureWarning: Series.__getitem__ treating keys as positions is deprecated. In a future version, integer keys will always be treated as labels (consistent with DataFrame behavior). To access a value by position, use `ser.iloc[pos]`\n",
      "  car_market_share[i,j] = market_shares[0]\n"
     ]
    },
    {
     "name": "stdout",
     "output_type": "stream",
     "text": [
      "iteration (1, 2) completed\n"
     ]
    },
    {
     "name": "stderr",
     "output_type": "stream",
     "text": [
      "C:\\Users\\majdy\\AppData\\Local\\Temp\\ipykernel_15056\\2469950845.py:49: FutureWarning: Series.__getitem__ treating keys as positions is deprecated. In a future version, integer keys will always be treated as labels (consistent with DataFrame behavior). To access a value by position, use `ser.iloc[pos]`\n",
      "  pt_market_share[i,j] = market_shares[1]\n",
      "C:\\Users\\majdy\\AppData\\Local\\Temp\\ipykernel_15056\\2469950845.py:50: FutureWarning: Series.__getitem__ treating keys as positions is deprecated. In a future version, integer keys will always be treated as labels (consistent with DataFrame behavior). To access a value by position, use `ser.iloc[pos]`\n",
      "  cycling_market_share[i,j] = market_shares[2]\n",
      "C:\\Users\\majdy\\AppData\\Local\\Temp\\ipykernel_15056\\2469950845.py:51: FutureWarning: Series.__getitem__ treating keys as positions is deprecated. In a future version, integer keys will always be treated as labels (consistent with DataFrame behavior). To access a value by position, use `ser.iloc[pos]`\n",
      "  walking_market_share[i,j] = market_shares[3]\n",
      "C:\\Users\\majdy\\AppData\\Local\\Temp\\ipykernel_15056\\2469950845.py:52: FutureWarning: Series.__getitem__ treating keys as positions is deprecated. In a future version, integer keys will always be treated as labels (consistent with DataFrame behavior). To access a value by position, use `ser.iloc[pos]`\n",
      "  car_market_share[i,j] = market_shares[0]\n"
     ]
    },
    {
     "name": "stdout",
     "output_type": "stream",
     "text": [
      "iteration (2, 2) completed\n"
     ]
    },
    {
     "name": "stderr",
     "output_type": "stream",
     "text": [
      "C:\\Users\\majdy\\AppData\\Local\\Temp\\ipykernel_15056\\2469950845.py:49: FutureWarning: Series.__getitem__ treating keys as positions is deprecated. In a future version, integer keys will always be treated as labels (consistent with DataFrame behavior). To access a value by position, use `ser.iloc[pos]`\n",
      "  pt_market_share[i,j] = market_shares[1]\n",
      "C:\\Users\\majdy\\AppData\\Local\\Temp\\ipykernel_15056\\2469950845.py:50: FutureWarning: Series.__getitem__ treating keys as positions is deprecated. In a future version, integer keys will always be treated as labels (consistent with DataFrame behavior). To access a value by position, use `ser.iloc[pos]`\n",
      "  cycling_market_share[i,j] = market_shares[2]\n",
      "C:\\Users\\majdy\\AppData\\Local\\Temp\\ipykernel_15056\\2469950845.py:51: FutureWarning: Series.__getitem__ treating keys as positions is deprecated. In a future version, integer keys will always be treated as labels (consistent with DataFrame behavior). To access a value by position, use `ser.iloc[pos]`\n",
      "  walking_market_share[i,j] = market_shares[3]\n",
      "C:\\Users\\majdy\\AppData\\Local\\Temp\\ipykernel_15056\\2469950845.py:52: FutureWarning: Series.__getitem__ treating keys as positions is deprecated. In a future version, integer keys will always be treated as labels (consistent with DataFrame behavior). To access a value by position, use `ser.iloc[pos]`\n",
      "  car_market_share[i,j] = market_shares[0]\n"
     ]
    },
    {
     "name": "stdout",
     "output_type": "stream",
     "text": [
      "iteration (3, 2) completed\n"
     ]
    },
    {
     "name": "stderr",
     "output_type": "stream",
     "text": [
      "C:\\Users\\majdy\\AppData\\Local\\Temp\\ipykernel_15056\\2469950845.py:49: FutureWarning: Series.__getitem__ treating keys as positions is deprecated. In a future version, integer keys will always be treated as labels (consistent with DataFrame behavior). To access a value by position, use `ser.iloc[pos]`\n",
      "  pt_market_share[i,j] = market_shares[1]\n",
      "C:\\Users\\majdy\\AppData\\Local\\Temp\\ipykernel_15056\\2469950845.py:50: FutureWarning: Series.__getitem__ treating keys as positions is deprecated. In a future version, integer keys will always be treated as labels (consistent with DataFrame behavior). To access a value by position, use `ser.iloc[pos]`\n",
      "  cycling_market_share[i,j] = market_shares[2]\n",
      "C:\\Users\\majdy\\AppData\\Local\\Temp\\ipykernel_15056\\2469950845.py:51: FutureWarning: Series.__getitem__ treating keys as positions is deprecated. In a future version, integer keys will always be treated as labels (consistent with DataFrame behavior). To access a value by position, use `ser.iloc[pos]`\n",
      "  walking_market_share[i,j] = market_shares[3]\n",
      "C:\\Users\\majdy\\AppData\\Local\\Temp\\ipykernel_15056\\2469950845.py:52: FutureWarning: Series.__getitem__ treating keys as positions is deprecated. In a future version, integer keys will always be treated as labels (consistent with DataFrame behavior). To access a value by position, use `ser.iloc[pos]`\n",
      "  car_market_share[i,j] = market_shares[0]\n"
     ]
    },
    {
     "name": "stdout",
     "output_type": "stream",
     "text": [
      "iteration (4, 2) completed\n"
     ]
    },
    {
     "name": "stderr",
     "output_type": "stream",
     "text": [
      "C:\\Users\\majdy\\AppData\\Local\\Temp\\ipykernel_15056\\2469950845.py:49: FutureWarning: Series.__getitem__ treating keys as positions is deprecated. In a future version, integer keys will always be treated as labels (consistent with DataFrame behavior). To access a value by position, use `ser.iloc[pos]`\n",
      "  pt_market_share[i,j] = market_shares[1]\n",
      "C:\\Users\\majdy\\AppData\\Local\\Temp\\ipykernel_15056\\2469950845.py:50: FutureWarning: Series.__getitem__ treating keys as positions is deprecated. In a future version, integer keys will always be treated as labels (consistent with DataFrame behavior). To access a value by position, use `ser.iloc[pos]`\n",
      "  cycling_market_share[i,j] = market_shares[2]\n",
      "C:\\Users\\majdy\\AppData\\Local\\Temp\\ipykernel_15056\\2469950845.py:51: FutureWarning: Series.__getitem__ treating keys as positions is deprecated. In a future version, integer keys will always be treated as labels (consistent with DataFrame behavior). To access a value by position, use `ser.iloc[pos]`\n",
      "  walking_market_share[i,j] = market_shares[3]\n",
      "C:\\Users\\majdy\\AppData\\Local\\Temp\\ipykernel_15056\\2469950845.py:52: FutureWarning: Series.__getitem__ treating keys as positions is deprecated. In a future version, integer keys will always be treated as labels (consistent with DataFrame behavior). To access a value by position, use `ser.iloc[pos]`\n",
      "  car_market_share[i,j] = market_shares[0]\n"
     ]
    },
    {
     "name": "stdout",
     "output_type": "stream",
     "text": [
      "iteration (5, 2) completed\n"
     ]
    },
    {
     "name": "stderr",
     "output_type": "stream",
     "text": [
      "C:\\Users\\majdy\\AppData\\Local\\Temp\\ipykernel_15056\\2469950845.py:49: FutureWarning: Series.__getitem__ treating keys as positions is deprecated. In a future version, integer keys will always be treated as labels (consistent with DataFrame behavior). To access a value by position, use `ser.iloc[pos]`\n",
      "  pt_market_share[i,j] = market_shares[1]\n",
      "C:\\Users\\majdy\\AppData\\Local\\Temp\\ipykernel_15056\\2469950845.py:50: FutureWarning: Series.__getitem__ treating keys as positions is deprecated. In a future version, integer keys will always be treated as labels (consistent with DataFrame behavior). To access a value by position, use `ser.iloc[pos]`\n",
      "  cycling_market_share[i,j] = market_shares[2]\n",
      "C:\\Users\\majdy\\AppData\\Local\\Temp\\ipykernel_15056\\2469950845.py:51: FutureWarning: Series.__getitem__ treating keys as positions is deprecated. In a future version, integer keys will always be treated as labels (consistent with DataFrame behavior). To access a value by position, use `ser.iloc[pos]`\n",
      "  walking_market_share[i,j] = market_shares[3]\n",
      "C:\\Users\\majdy\\AppData\\Local\\Temp\\ipykernel_15056\\2469950845.py:52: FutureWarning: Series.__getitem__ treating keys as positions is deprecated. In a future version, integer keys will always be treated as labels (consistent with DataFrame behavior). To access a value by position, use `ser.iloc[pos]`\n",
      "  car_market_share[i,j] = market_shares[0]\n"
     ]
    },
    {
     "name": "stdout",
     "output_type": "stream",
     "text": [
      "iteration (6, 2) completed\n"
     ]
    },
    {
     "name": "stderr",
     "output_type": "stream",
     "text": [
      "C:\\Users\\majdy\\AppData\\Local\\Temp\\ipykernel_15056\\2469950845.py:49: FutureWarning: Series.__getitem__ treating keys as positions is deprecated. In a future version, integer keys will always be treated as labels (consistent with DataFrame behavior). To access a value by position, use `ser.iloc[pos]`\n",
      "  pt_market_share[i,j] = market_shares[1]\n",
      "C:\\Users\\majdy\\AppData\\Local\\Temp\\ipykernel_15056\\2469950845.py:50: FutureWarning: Series.__getitem__ treating keys as positions is deprecated. In a future version, integer keys will always be treated as labels (consistent with DataFrame behavior). To access a value by position, use `ser.iloc[pos]`\n",
      "  cycling_market_share[i,j] = market_shares[2]\n",
      "C:\\Users\\majdy\\AppData\\Local\\Temp\\ipykernel_15056\\2469950845.py:51: FutureWarning: Series.__getitem__ treating keys as positions is deprecated. In a future version, integer keys will always be treated as labels (consistent with DataFrame behavior). To access a value by position, use `ser.iloc[pos]`\n",
      "  walking_market_share[i,j] = market_shares[3]\n",
      "C:\\Users\\majdy\\AppData\\Local\\Temp\\ipykernel_15056\\2469950845.py:52: FutureWarning: Series.__getitem__ treating keys as positions is deprecated. In a future version, integer keys will always be treated as labels (consistent with DataFrame behavior). To access a value by position, use `ser.iloc[pos]`\n",
      "  car_market_share[i,j] = market_shares[0]\n"
     ]
    },
    {
     "name": "stdout",
     "output_type": "stream",
     "text": [
      "iteration (7, 2) completed\n"
     ]
    },
    {
     "name": "stderr",
     "output_type": "stream",
     "text": [
      "C:\\Users\\majdy\\AppData\\Local\\Temp\\ipykernel_15056\\2469950845.py:49: FutureWarning: Series.__getitem__ treating keys as positions is deprecated. In a future version, integer keys will always be treated as labels (consistent with DataFrame behavior). To access a value by position, use `ser.iloc[pos]`\n",
      "  pt_market_share[i,j] = market_shares[1]\n",
      "C:\\Users\\majdy\\AppData\\Local\\Temp\\ipykernel_15056\\2469950845.py:50: FutureWarning: Series.__getitem__ treating keys as positions is deprecated. In a future version, integer keys will always be treated as labels (consistent with DataFrame behavior). To access a value by position, use `ser.iloc[pos]`\n",
      "  cycling_market_share[i,j] = market_shares[2]\n",
      "C:\\Users\\majdy\\AppData\\Local\\Temp\\ipykernel_15056\\2469950845.py:51: FutureWarning: Series.__getitem__ treating keys as positions is deprecated. In a future version, integer keys will always be treated as labels (consistent with DataFrame behavior). To access a value by position, use `ser.iloc[pos]`\n",
      "  walking_market_share[i,j] = market_shares[3]\n",
      "C:\\Users\\majdy\\AppData\\Local\\Temp\\ipykernel_15056\\2469950845.py:52: FutureWarning: Series.__getitem__ treating keys as positions is deprecated. In a future version, integer keys will always be treated as labels (consistent with DataFrame behavior). To access a value by position, use `ser.iloc[pos]`\n",
      "  car_market_share[i,j] = market_shares[0]\n"
     ]
    },
    {
     "name": "stdout",
     "output_type": "stream",
     "text": [
      "iteration (8, 2) completed\n"
     ]
    },
    {
     "name": "stderr",
     "output_type": "stream",
     "text": [
      "C:\\Users\\majdy\\AppData\\Local\\Temp\\ipykernel_15056\\2469950845.py:49: FutureWarning: Series.__getitem__ treating keys as positions is deprecated. In a future version, integer keys will always be treated as labels (consistent with DataFrame behavior). To access a value by position, use `ser.iloc[pos]`\n",
      "  pt_market_share[i,j] = market_shares[1]\n",
      "C:\\Users\\majdy\\AppData\\Local\\Temp\\ipykernel_15056\\2469950845.py:50: FutureWarning: Series.__getitem__ treating keys as positions is deprecated. In a future version, integer keys will always be treated as labels (consistent with DataFrame behavior). To access a value by position, use `ser.iloc[pos]`\n",
      "  cycling_market_share[i,j] = market_shares[2]\n",
      "C:\\Users\\majdy\\AppData\\Local\\Temp\\ipykernel_15056\\2469950845.py:51: FutureWarning: Series.__getitem__ treating keys as positions is deprecated. In a future version, integer keys will always be treated as labels (consistent with DataFrame behavior). To access a value by position, use `ser.iloc[pos]`\n",
      "  walking_market_share[i,j] = market_shares[3]\n",
      "C:\\Users\\majdy\\AppData\\Local\\Temp\\ipykernel_15056\\2469950845.py:52: FutureWarning: Series.__getitem__ treating keys as positions is deprecated. In a future version, integer keys will always be treated as labels (consistent with DataFrame behavior). To access a value by position, use `ser.iloc[pos]`\n",
      "  car_market_share[i,j] = market_shares[0]\n"
     ]
    },
    {
     "name": "stdout",
     "output_type": "stream",
     "text": [
      "iteration (9, 2) completed\n"
     ]
    },
    {
     "name": "stderr",
     "output_type": "stream",
     "text": [
      "C:\\Users\\majdy\\AppData\\Local\\Temp\\ipykernel_15056\\2469950845.py:49: FutureWarning: Series.__getitem__ treating keys as positions is deprecated. In a future version, integer keys will always be treated as labels (consistent with DataFrame behavior). To access a value by position, use `ser.iloc[pos]`\n",
      "  pt_market_share[i,j] = market_shares[1]\n",
      "C:\\Users\\majdy\\AppData\\Local\\Temp\\ipykernel_15056\\2469950845.py:50: FutureWarning: Series.__getitem__ treating keys as positions is deprecated. In a future version, integer keys will always be treated as labels (consistent with DataFrame behavior). To access a value by position, use `ser.iloc[pos]`\n",
      "  cycling_market_share[i,j] = market_shares[2]\n",
      "C:\\Users\\majdy\\AppData\\Local\\Temp\\ipykernel_15056\\2469950845.py:51: FutureWarning: Series.__getitem__ treating keys as positions is deprecated. In a future version, integer keys will always be treated as labels (consistent with DataFrame behavior). To access a value by position, use `ser.iloc[pos]`\n",
      "  walking_market_share[i,j] = market_shares[3]\n",
      "C:\\Users\\majdy\\AppData\\Local\\Temp\\ipykernel_15056\\2469950845.py:52: FutureWarning: Series.__getitem__ treating keys as positions is deprecated. In a future version, integer keys will always be treated as labels (consistent with DataFrame behavior). To access a value by position, use `ser.iloc[pos]`\n",
      "  car_market_share[i,j] = market_shares[0]\n"
     ]
    },
    {
     "name": "stdout",
     "output_type": "stream",
     "text": [
      "iteration (10, 2) completed\n"
     ]
    },
    {
     "name": "stderr",
     "output_type": "stream",
     "text": [
      "C:\\Users\\majdy\\AppData\\Local\\Temp\\ipykernel_15056\\2469950845.py:49: FutureWarning: Series.__getitem__ treating keys as positions is deprecated. In a future version, integer keys will always be treated as labels (consistent with DataFrame behavior). To access a value by position, use `ser.iloc[pos]`\n",
      "  pt_market_share[i,j] = market_shares[1]\n",
      "C:\\Users\\majdy\\AppData\\Local\\Temp\\ipykernel_15056\\2469950845.py:50: FutureWarning: Series.__getitem__ treating keys as positions is deprecated. In a future version, integer keys will always be treated as labels (consistent with DataFrame behavior). To access a value by position, use `ser.iloc[pos]`\n",
      "  cycling_market_share[i,j] = market_shares[2]\n",
      "C:\\Users\\majdy\\AppData\\Local\\Temp\\ipykernel_15056\\2469950845.py:51: FutureWarning: Series.__getitem__ treating keys as positions is deprecated. In a future version, integer keys will always be treated as labels (consistent with DataFrame behavior). To access a value by position, use `ser.iloc[pos]`\n",
      "  walking_market_share[i,j] = market_shares[3]\n",
      "C:\\Users\\majdy\\AppData\\Local\\Temp\\ipykernel_15056\\2469950845.py:52: FutureWarning: Series.__getitem__ treating keys as positions is deprecated. In a future version, integer keys will always be treated as labels (consistent with DataFrame behavior). To access a value by position, use `ser.iloc[pos]`\n",
      "  car_market_share[i,j] = market_shares[0]\n"
     ]
    },
    {
     "name": "stdout",
     "output_type": "stream",
     "text": [
      "iteration (0, 3) completed\n"
     ]
    },
    {
     "name": "stderr",
     "output_type": "stream",
     "text": [
      "C:\\Users\\majdy\\AppData\\Local\\Temp\\ipykernel_15056\\2469950845.py:49: FutureWarning: Series.__getitem__ treating keys as positions is deprecated. In a future version, integer keys will always be treated as labels (consistent with DataFrame behavior). To access a value by position, use `ser.iloc[pos]`\n",
      "  pt_market_share[i,j] = market_shares[1]\n",
      "C:\\Users\\majdy\\AppData\\Local\\Temp\\ipykernel_15056\\2469950845.py:50: FutureWarning: Series.__getitem__ treating keys as positions is deprecated. In a future version, integer keys will always be treated as labels (consistent with DataFrame behavior). To access a value by position, use `ser.iloc[pos]`\n",
      "  cycling_market_share[i,j] = market_shares[2]\n",
      "C:\\Users\\majdy\\AppData\\Local\\Temp\\ipykernel_15056\\2469950845.py:51: FutureWarning: Series.__getitem__ treating keys as positions is deprecated. In a future version, integer keys will always be treated as labels (consistent with DataFrame behavior). To access a value by position, use `ser.iloc[pos]`\n",
      "  walking_market_share[i,j] = market_shares[3]\n",
      "C:\\Users\\majdy\\AppData\\Local\\Temp\\ipykernel_15056\\2469950845.py:52: FutureWarning: Series.__getitem__ treating keys as positions is deprecated. In a future version, integer keys will always be treated as labels (consistent with DataFrame behavior). To access a value by position, use `ser.iloc[pos]`\n",
      "  car_market_share[i,j] = market_shares[0]\n"
     ]
    },
    {
     "name": "stdout",
     "output_type": "stream",
     "text": [
      "iteration (1, 3) completed\n"
     ]
    },
    {
     "name": "stderr",
     "output_type": "stream",
     "text": [
      "C:\\Users\\majdy\\AppData\\Local\\Temp\\ipykernel_15056\\2469950845.py:49: FutureWarning: Series.__getitem__ treating keys as positions is deprecated. In a future version, integer keys will always be treated as labels (consistent with DataFrame behavior). To access a value by position, use `ser.iloc[pos]`\n",
      "  pt_market_share[i,j] = market_shares[1]\n",
      "C:\\Users\\majdy\\AppData\\Local\\Temp\\ipykernel_15056\\2469950845.py:50: FutureWarning: Series.__getitem__ treating keys as positions is deprecated. In a future version, integer keys will always be treated as labels (consistent with DataFrame behavior). To access a value by position, use `ser.iloc[pos]`\n",
      "  cycling_market_share[i,j] = market_shares[2]\n",
      "C:\\Users\\majdy\\AppData\\Local\\Temp\\ipykernel_15056\\2469950845.py:51: FutureWarning: Series.__getitem__ treating keys as positions is deprecated. In a future version, integer keys will always be treated as labels (consistent with DataFrame behavior). To access a value by position, use `ser.iloc[pos]`\n",
      "  walking_market_share[i,j] = market_shares[3]\n",
      "C:\\Users\\majdy\\AppData\\Local\\Temp\\ipykernel_15056\\2469950845.py:52: FutureWarning: Series.__getitem__ treating keys as positions is deprecated. In a future version, integer keys will always be treated as labels (consistent with DataFrame behavior). To access a value by position, use `ser.iloc[pos]`\n",
      "  car_market_share[i,j] = market_shares[0]\n"
     ]
    },
    {
     "name": "stdout",
     "output_type": "stream",
     "text": [
      "iteration (2, 3) completed\n"
     ]
    },
    {
     "name": "stderr",
     "output_type": "stream",
     "text": [
      "C:\\Users\\majdy\\AppData\\Local\\Temp\\ipykernel_15056\\2469950845.py:49: FutureWarning: Series.__getitem__ treating keys as positions is deprecated. In a future version, integer keys will always be treated as labels (consistent with DataFrame behavior). To access a value by position, use `ser.iloc[pos]`\n",
      "  pt_market_share[i,j] = market_shares[1]\n",
      "C:\\Users\\majdy\\AppData\\Local\\Temp\\ipykernel_15056\\2469950845.py:50: FutureWarning: Series.__getitem__ treating keys as positions is deprecated. In a future version, integer keys will always be treated as labels (consistent with DataFrame behavior). To access a value by position, use `ser.iloc[pos]`\n",
      "  cycling_market_share[i,j] = market_shares[2]\n",
      "C:\\Users\\majdy\\AppData\\Local\\Temp\\ipykernel_15056\\2469950845.py:51: FutureWarning: Series.__getitem__ treating keys as positions is deprecated. In a future version, integer keys will always be treated as labels (consistent with DataFrame behavior). To access a value by position, use `ser.iloc[pos]`\n",
      "  walking_market_share[i,j] = market_shares[3]\n",
      "C:\\Users\\majdy\\AppData\\Local\\Temp\\ipykernel_15056\\2469950845.py:52: FutureWarning: Series.__getitem__ treating keys as positions is deprecated. In a future version, integer keys will always be treated as labels (consistent with DataFrame behavior). To access a value by position, use `ser.iloc[pos]`\n",
      "  car_market_share[i,j] = market_shares[0]\n"
     ]
    },
    {
     "name": "stdout",
     "output_type": "stream",
     "text": [
      "iteration (3, 3) completed\n"
     ]
    },
    {
     "name": "stderr",
     "output_type": "stream",
     "text": [
      "C:\\Users\\majdy\\AppData\\Local\\Temp\\ipykernel_15056\\2469950845.py:49: FutureWarning: Series.__getitem__ treating keys as positions is deprecated. In a future version, integer keys will always be treated as labels (consistent with DataFrame behavior). To access a value by position, use `ser.iloc[pos]`\n",
      "  pt_market_share[i,j] = market_shares[1]\n",
      "C:\\Users\\majdy\\AppData\\Local\\Temp\\ipykernel_15056\\2469950845.py:50: FutureWarning: Series.__getitem__ treating keys as positions is deprecated. In a future version, integer keys will always be treated as labels (consistent with DataFrame behavior). To access a value by position, use `ser.iloc[pos]`\n",
      "  cycling_market_share[i,j] = market_shares[2]\n",
      "C:\\Users\\majdy\\AppData\\Local\\Temp\\ipykernel_15056\\2469950845.py:51: FutureWarning: Series.__getitem__ treating keys as positions is deprecated. In a future version, integer keys will always be treated as labels (consistent with DataFrame behavior). To access a value by position, use `ser.iloc[pos]`\n",
      "  walking_market_share[i,j] = market_shares[3]\n",
      "C:\\Users\\majdy\\AppData\\Local\\Temp\\ipykernel_15056\\2469950845.py:52: FutureWarning: Series.__getitem__ treating keys as positions is deprecated. In a future version, integer keys will always be treated as labels (consistent with DataFrame behavior). To access a value by position, use `ser.iloc[pos]`\n",
      "  car_market_share[i,j] = market_shares[0]\n"
     ]
    },
    {
     "name": "stdout",
     "output_type": "stream",
     "text": [
      "iteration (4, 3) completed\n"
     ]
    },
    {
     "name": "stderr",
     "output_type": "stream",
     "text": [
      "C:\\Users\\majdy\\AppData\\Local\\Temp\\ipykernel_15056\\2469950845.py:49: FutureWarning: Series.__getitem__ treating keys as positions is deprecated. In a future version, integer keys will always be treated as labels (consistent with DataFrame behavior). To access a value by position, use `ser.iloc[pos]`\n",
      "  pt_market_share[i,j] = market_shares[1]\n",
      "C:\\Users\\majdy\\AppData\\Local\\Temp\\ipykernel_15056\\2469950845.py:50: FutureWarning: Series.__getitem__ treating keys as positions is deprecated. In a future version, integer keys will always be treated as labels (consistent with DataFrame behavior). To access a value by position, use `ser.iloc[pos]`\n",
      "  cycling_market_share[i,j] = market_shares[2]\n",
      "C:\\Users\\majdy\\AppData\\Local\\Temp\\ipykernel_15056\\2469950845.py:51: FutureWarning: Series.__getitem__ treating keys as positions is deprecated. In a future version, integer keys will always be treated as labels (consistent with DataFrame behavior). To access a value by position, use `ser.iloc[pos]`\n",
      "  walking_market_share[i,j] = market_shares[3]\n",
      "C:\\Users\\majdy\\AppData\\Local\\Temp\\ipykernel_15056\\2469950845.py:52: FutureWarning: Series.__getitem__ treating keys as positions is deprecated. In a future version, integer keys will always be treated as labels (consistent with DataFrame behavior). To access a value by position, use `ser.iloc[pos]`\n",
      "  car_market_share[i,j] = market_shares[0]\n"
     ]
    },
    {
     "name": "stdout",
     "output_type": "stream",
     "text": [
      "iteration (5, 3) completed\n"
     ]
    },
    {
     "name": "stderr",
     "output_type": "stream",
     "text": [
      "C:\\Users\\majdy\\AppData\\Local\\Temp\\ipykernel_15056\\2469950845.py:49: FutureWarning: Series.__getitem__ treating keys as positions is deprecated. In a future version, integer keys will always be treated as labels (consistent with DataFrame behavior). To access a value by position, use `ser.iloc[pos]`\n",
      "  pt_market_share[i,j] = market_shares[1]\n",
      "C:\\Users\\majdy\\AppData\\Local\\Temp\\ipykernel_15056\\2469950845.py:50: FutureWarning: Series.__getitem__ treating keys as positions is deprecated. In a future version, integer keys will always be treated as labels (consistent with DataFrame behavior). To access a value by position, use `ser.iloc[pos]`\n",
      "  cycling_market_share[i,j] = market_shares[2]\n",
      "C:\\Users\\majdy\\AppData\\Local\\Temp\\ipykernel_15056\\2469950845.py:51: FutureWarning: Series.__getitem__ treating keys as positions is deprecated. In a future version, integer keys will always be treated as labels (consistent with DataFrame behavior). To access a value by position, use `ser.iloc[pos]`\n",
      "  walking_market_share[i,j] = market_shares[3]\n",
      "C:\\Users\\majdy\\AppData\\Local\\Temp\\ipykernel_15056\\2469950845.py:52: FutureWarning: Series.__getitem__ treating keys as positions is deprecated. In a future version, integer keys will always be treated as labels (consistent with DataFrame behavior). To access a value by position, use `ser.iloc[pos]`\n",
      "  car_market_share[i,j] = market_shares[0]\n"
     ]
    },
    {
     "name": "stdout",
     "output_type": "stream",
     "text": [
      "iteration (6, 3) completed\n"
     ]
    },
    {
     "name": "stderr",
     "output_type": "stream",
     "text": [
      "C:\\Users\\majdy\\AppData\\Local\\Temp\\ipykernel_15056\\2469950845.py:49: FutureWarning: Series.__getitem__ treating keys as positions is deprecated. In a future version, integer keys will always be treated as labels (consistent with DataFrame behavior). To access a value by position, use `ser.iloc[pos]`\n",
      "  pt_market_share[i,j] = market_shares[1]\n",
      "C:\\Users\\majdy\\AppData\\Local\\Temp\\ipykernel_15056\\2469950845.py:50: FutureWarning: Series.__getitem__ treating keys as positions is deprecated. In a future version, integer keys will always be treated as labels (consistent with DataFrame behavior). To access a value by position, use `ser.iloc[pos]`\n",
      "  cycling_market_share[i,j] = market_shares[2]\n",
      "C:\\Users\\majdy\\AppData\\Local\\Temp\\ipykernel_15056\\2469950845.py:51: FutureWarning: Series.__getitem__ treating keys as positions is deprecated. In a future version, integer keys will always be treated as labels (consistent with DataFrame behavior). To access a value by position, use `ser.iloc[pos]`\n",
      "  walking_market_share[i,j] = market_shares[3]\n",
      "C:\\Users\\majdy\\AppData\\Local\\Temp\\ipykernel_15056\\2469950845.py:52: FutureWarning: Series.__getitem__ treating keys as positions is deprecated. In a future version, integer keys will always be treated as labels (consistent with DataFrame behavior). To access a value by position, use `ser.iloc[pos]`\n",
      "  car_market_share[i,j] = market_shares[0]\n"
     ]
    },
    {
     "name": "stdout",
     "output_type": "stream",
     "text": [
      "iteration (7, 3) completed\n"
     ]
    },
    {
     "name": "stderr",
     "output_type": "stream",
     "text": [
      "C:\\Users\\majdy\\AppData\\Local\\Temp\\ipykernel_15056\\2469950845.py:49: FutureWarning: Series.__getitem__ treating keys as positions is deprecated. In a future version, integer keys will always be treated as labels (consistent with DataFrame behavior). To access a value by position, use `ser.iloc[pos]`\n",
      "  pt_market_share[i,j] = market_shares[1]\n",
      "C:\\Users\\majdy\\AppData\\Local\\Temp\\ipykernel_15056\\2469950845.py:50: FutureWarning: Series.__getitem__ treating keys as positions is deprecated. In a future version, integer keys will always be treated as labels (consistent with DataFrame behavior). To access a value by position, use `ser.iloc[pos]`\n",
      "  cycling_market_share[i,j] = market_shares[2]\n",
      "C:\\Users\\majdy\\AppData\\Local\\Temp\\ipykernel_15056\\2469950845.py:51: FutureWarning: Series.__getitem__ treating keys as positions is deprecated. In a future version, integer keys will always be treated as labels (consistent with DataFrame behavior). To access a value by position, use `ser.iloc[pos]`\n",
      "  walking_market_share[i,j] = market_shares[3]\n",
      "C:\\Users\\majdy\\AppData\\Local\\Temp\\ipykernel_15056\\2469950845.py:52: FutureWarning: Series.__getitem__ treating keys as positions is deprecated. In a future version, integer keys will always be treated as labels (consistent with DataFrame behavior). To access a value by position, use `ser.iloc[pos]`\n",
      "  car_market_share[i,j] = market_shares[0]\n"
     ]
    },
    {
     "name": "stdout",
     "output_type": "stream",
     "text": [
      "iteration (8, 3) completed\n"
     ]
    },
    {
     "name": "stderr",
     "output_type": "stream",
     "text": [
      "C:\\Users\\majdy\\AppData\\Local\\Temp\\ipykernel_15056\\2469950845.py:49: FutureWarning: Series.__getitem__ treating keys as positions is deprecated. In a future version, integer keys will always be treated as labels (consistent with DataFrame behavior). To access a value by position, use `ser.iloc[pos]`\n",
      "  pt_market_share[i,j] = market_shares[1]\n",
      "C:\\Users\\majdy\\AppData\\Local\\Temp\\ipykernel_15056\\2469950845.py:50: FutureWarning: Series.__getitem__ treating keys as positions is deprecated. In a future version, integer keys will always be treated as labels (consistent with DataFrame behavior). To access a value by position, use `ser.iloc[pos]`\n",
      "  cycling_market_share[i,j] = market_shares[2]\n",
      "C:\\Users\\majdy\\AppData\\Local\\Temp\\ipykernel_15056\\2469950845.py:51: FutureWarning: Series.__getitem__ treating keys as positions is deprecated. In a future version, integer keys will always be treated as labels (consistent with DataFrame behavior). To access a value by position, use `ser.iloc[pos]`\n",
      "  walking_market_share[i,j] = market_shares[3]\n",
      "C:\\Users\\majdy\\AppData\\Local\\Temp\\ipykernel_15056\\2469950845.py:52: FutureWarning: Series.__getitem__ treating keys as positions is deprecated. In a future version, integer keys will always be treated as labels (consistent with DataFrame behavior). To access a value by position, use `ser.iloc[pos]`\n",
      "  car_market_share[i,j] = market_shares[0]\n"
     ]
    },
    {
     "name": "stdout",
     "output_type": "stream",
     "text": [
      "iteration (9, 3) completed\n"
     ]
    },
    {
     "name": "stderr",
     "output_type": "stream",
     "text": [
      "C:\\Users\\majdy\\AppData\\Local\\Temp\\ipykernel_15056\\2469950845.py:49: FutureWarning: Series.__getitem__ treating keys as positions is deprecated. In a future version, integer keys will always be treated as labels (consistent with DataFrame behavior). To access a value by position, use `ser.iloc[pos]`\n",
      "  pt_market_share[i,j] = market_shares[1]\n",
      "C:\\Users\\majdy\\AppData\\Local\\Temp\\ipykernel_15056\\2469950845.py:50: FutureWarning: Series.__getitem__ treating keys as positions is deprecated. In a future version, integer keys will always be treated as labels (consistent with DataFrame behavior). To access a value by position, use `ser.iloc[pos]`\n",
      "  cycling_market_share[i,j] = market_shares[2]\n",
      "C:\\Users\\majdy\\AppData\\Local\\Temp\\ipykernel_15056\\2469950845.py:51: FutureWarning: Series.__getitem__ treating keys as positions is deprecated. In a future version, integer keys will always be treated as labels (consistent with DataFrame behavior). To access a value by position, use `ser.iloc[pos]`\n",
      "  walking_market_share[i,j] = market_shares[3]\n",
      "C:\\Users\\majdy\\AppData\\Local\\Temp\\ipykernel_15056\\2469950845.py:52: FutureWarning: Series.__getitem__ treating keys as positions is deprecated. In a future version, integer keys will always be treated as labels (consistent with DataFrame behavior). To access a value by position, use `ser.iloc[pos]`\n",
      "  car_market_share[i,j] = market_shares[0]\n"
     ]
    },
    {
     "name": "stdout",
     "output_type": "stream",
     "text": [
      "iteration (10, 3) completed\n"
     ]
    },
    {
     "name": "stderr",
     "output_type": "stream",
     "text": [
      "C:\\Users\\majdy\\AppData\\Local\\Temp\\ipykernel_15056\\2469950845.py:49: FutureWarning: Series.__getitem__ treating keys as positions is deprecated. In a future version, integer keys will always be treated as labels (consistent with DataFrame behavior). To access a value by position, use `ser.iloc[pos]`\n",
      "  pt_market_share[i,j] = market_shares[1]\n",
      "C:\\Users\\majdy\\AppData\\Local\\Temp\\ipykernel_15056\\2469950845.py:50: FutureWarning: Series.__getitem__ treating keys as positions is deprecated. In a future version, integer keys will always be treated as labels (consistent with DataFrame behavior). To access a value by position, use `ser.iloc[pos]`\n",
      "  cycling_market_share[i,j] = market_shares[2]\n",
      "C:\\Users\\majdy\\AppData\\Local\\Temp\\ipykernel_15056\\2469950845.py:51: FutureWarning: Series.__getitem__ treating keys as positions is deprecated. In a future version, integer keys will always be treated as labels (consistent with DataFrame behavior). To access a value by position, use `ser.iloc[pos]`\n",
      "  walking_market_share[i,j] = market_shares[3]\n",
      "C:\\Users\\majdy\\AppData\\Local\\Temp\\ipykernel_15056\\2469950845.py:52: FutureWarning: Series.__getitem__ treating keys as positions is deprecated. In a future version, integer keys will always be treated as labels (consistent with DataFrame behavior). To access a value by position, use `ser.iloc[pos]`\n",
      "  car_market_share[i,j] = market_shares[0]\n"
     ]
    },
    {
     "name": "stdout",
     "output_type": "stream",
     "text": [
      "iteration (0, 4) completed\n"
     ]
    },
    {
     "name": "stderr",
     "output_type": "stream",
     "text": [
      "C:\\Users\\majdy\\AppData\\Local\\Temp\\ipykernel_15056\\2469950845.py:49: FutureWarning: Series.__getitem__ treating keys as positions is deprecated. In a future version, integer keys will always be treated as labels (consistent with DataFrame behavior). To access a value by position, use `ser.iloc[pos]`\n",
      "  pt_market_share[i,j] = market_shares[1]\n",
      "C:\\Users\\majdy\\AppData\\Local\\Temp\\ipykernel_15056\\2469950845.py:50: FutureWarning: Series.__getitem__ treating keys as positions is deprecated. In a future version, integer keys will always be treated as labels (consistent with DataFrame behavior). To access a value by position, use `ser.iloc[pos]`\n",
      "  cycling_market_share[i,j] = market_shares[2]\n",
      "C:\\Users\\majdy\\AppData\\Local\\Temp\\ipykernel_15056\\2469950845.py:51: FutureWarning: Series.__getitem__ treating keys as positions is deprecated. In a future version, integer keys will always be treated as labels (consistent with DataFrame behavior). To access a value by position, use `ser.iloc[pos]`\n",
      "  walking_market_share[i,j] = market_shares[3]\n",
      "C:\\Users\\majdy\\AppData\\Local\\Temp\\ipykernel_15056\\2469950845.py:52: FutureWarning: Series.__getitem__ treating keys as positions is deprecated. In a future version, integer keys will always be treated as labels (consistent with DataFrame behavior). To access a value by position, use `ser.iloc[pos]`\n",
      "  car_market_share[i,j] = market_shares[0]\n"
     ]
    },
    {
     "name": "stdout",
     "output_type": "stream",
     "text": [
      "iteration (1, 4) completed\n"
     ]
    },
    {
     "name": "stderr",
     "output_type": "stream",
     "text": [
      "C:\\Users\\majdy\\AppData\\Local\\Temp\\ipykernel_15056\\2469950845.py:49: FutureWarning: Series.__getitem__ treating keys as positions is deprecated. In a future version, integer keys will always be treated as labels (consistent with DataFrame behavior). To access a value by position, use `ser.iloc[pos]`\n",
      "  pt_market_share[i,j] = market_shares[1]\n",
      "C:\\Users\\majdy\\AppData\\Local\\Temp\\ipykernel_15056\\2469950845.py:50: FutureWarning: Series.__getitem__ treating keys as positions is deprecated. In a future version, integer keys will always be treated as labels (consistent with DataFrame behavior). To access a value by position, use `ser.iloc[pos]`\n",
      "  cycling_market_share[i,j] = market_shares[2]\n",
      "C:\\Users\\majdy\\AppData\\Local\\Temp\\ipykernel_15056\\2469950845.py:51: FutureWarning: Series.__getitem__ treating keys as positions is deprecated. In a future version, integer keys will always be treated as labels (consistent with DataFrame behavior). To access a value by position, use `ser.iloc[pos]`\n",
      "  walking_market_share[i,j] = market_shares[3]\n",
      "C:\\Users\\majdy\\AppData\\Local\\Temp\\ipykernel_15056\\2469950845.py:52: FutureWarning: Series.__getitem__ treating keys as positions is deprecated. In a future version, integer keys will always be treated as labels (consistent with DataFrame behavior). To access a value by position, use `ser.iloc[pos]`\n",
      "  car_market_share[i,j] = market_shares[0]\n"
     ]
    },
    {
     "name": "stdout",
     "output_type": "stream",
     "text": [
      "iteration (2, 4) completed\n"
     ]
    },
    {
     "name": "stderr",
     "output_type": "stream",
     "text": [
      "C:\\Users\\majdy\\AppData\\Local\\Temp\\ipykernel_15056\\2469950845.py:49: FutureWarning: Series.__getitem__ treating keys as positions is deprecated. In a future version, integer keys will always be treated as labels (consistent with DataFrame behavior). To access a value by position, use `ser.iloc[pos]`\n",
      "  pt_market_share[i,j] = market_shares[1]\n",
      "C:\\Users\\majdy\\AppData\\Local\\Temp\\ipykernel_15056\\2469950845.py:50: FutureWarning: Series.__getitem__ treating keys as positions is deprecated. In a future version, integer keys will always be treated as labels (consistent with DataFrame behavior). To access a value by position, use `ser.iloc[pos]`\n",
      "  cycling_market_share[i,j] = market_shares[2]\n",
      "C:\\Users\\majdy\\AppData\\Local\\Temp\\ipykernel_15056\\2469950845.py:51: FutureWarning: Series.__getitem__ treating keys as positions is deprecated. In a future version, integer keys will always be treated as labels (consistent with DataFrame behavior). To access a value by position, use `ser.iloc[pos]`\n",
      "  walking_market_share[i,j] = market_shares[3]\n",
      "C:\\Users\\majdy\\AppData\\Local\\Temp\\ipykernel_15056\\2469950845.py:52: FutureWarning: Series.__getitem__ treating keys as positions is deprecated. In a future version, integer keys will always be treated as labels (consistent with DataFrame behavior). To access a value by position, use `ser.iloc[pos]`\n",
      "  car_market_share[i,j] = market_shares[0]\n"
     ]
    },
    {
     "name": "stdout",
     "output_type": "stream",
     "text": [
      "iteration (3, 4) completed\n"
     ]
    },
    {
     "name": "stderr",
     "output_type": "stream",
     "text": [
      "C:\\Users\\majdy\\AppData\\Local\\Temp\\ipykernel_15056\\2469950845.py:49: FutureWarning: Series.__getitem__ treating keys as positions is deprecated. In a future version, integer keys will always be treated as labels (consistent with DataFrame behavior). To access a value by position, use `ser.iloc[pos]`\n",
      "  pt_market_share[i,j] = market_shares[1]\n",
      "C:\\Users\\majdy\\AppData\\Local\\Temp\\ipykernel_15056\\2469950845.py:50: FutureWarning: Series.__getitem__ treating keys as positions is deprecated. In a future version, integer keys will always be treated as labels (consistent with DataFrame behavior). To access a value by position, use `ser.iloc[pos]`\n",
      "  cycling_market_share[i,j] = market_shares[2]\n",
      "C:\\Users\\majdy\\AppData\\Local\\Temp\\ipykernel_15056\\2469950845.py:51: FutureWarning: Series.__getitem__ treating keys as positions is deprecated. In a future version, integer keys will always be treated as labels (consistent with DataFrame behavior). To access a value by position, use `ser.iloc[pos]`\n",
      "  walking_market_share[i,j] = market_shares[3]\n",
      "C:\\Users\\majdy\\AppData\\Local\\Temp\\ipykernel_15056\\2469950845.py:52: FutureWarning: Series.__getitem__ treating keys as positions is deprecated. In a future version, integer keys will always be treated as labels (consistent with DataFrame behavior). To access a value by position, use `ser.iloc[pos]`\n",
      "  car_market_share[i,j] = market_shares[0]\n"
     ]
    },
    {
     "name": "stdout",
     "output_type": "stream",
     "text": [
      "iteration (4, 4) completed\n"
     ]
    },
    {
     "name": "stderr",
     "output_type": "stream",
     "text": [
      "C:\\Users\\majdy\\AppData\\Local\\Temp\\ipykernel_15056\\2469950845.py:49: FutureWarning: Series.__getitem__ treating keys as positions is deprecated. In a future version, integer keys will always be treated as labels (consistent with DataFrame behavior). To access a value by position, use `ser.iloc[pos]`\n",
      "  pt_market_share[i,j] = market_shares[1]\n",
      "C:\\Users\\majdy\\AppData\\Local\\Temp\\ipykernel_15056\\2469950845.py:50: FutureWarning: Series.__getitem__ treating keys as positions is deprecated. In a future version, integer keys will always be treated as labels (consistent with DataFrame behavior). To access a value by position, use `ser.iloc[pos]`\n",
      "  cycling_market_share[i,j] = market_shares[2]\n",
      "C:\\Users\\majdy\\AppData\\Local\\Temp\\ipykernel_15056\\2469950845.py:51: FutureWarning: Series.__getitem__ treating keys as positions is deprecated. In a future version, integer keys will always be treated as labels (consistent with DataFrame behavior). To access a value by position, use `ser.iloc[pos]`\n",
      "  walking_market_share[i,j] = market_shares[3]\n",
      "C:\\Users\\majdy\\AppData\\Local\\Temp\\ipykernel_15056\\2469950845.py:52: FutureWarning: Series.__getitem__ treating keys as positions is deprecated. In a future version, integer keys will always be treated as labels (consistent with DataFrame behavior). To access a value by position, use `ser.iloc[pos]`\n",
      "  car_market_share[i,j] = market_shares[0]\n"
     ]
    },
    {
     "name": "stdout",
     "output_type": "stream",
     "text": [
      "iteration (5, 4) completed\n"
     ]
    },
    {
     "name": "stderr",
     "output_type": "stream",
     "text": [
      "C:\\Users\\majdy\\AppData\\Local\\Temp\\ipykernel_15056\\2469950845.py:49: FutureWarning: Series.__getitem__ treating keys as positions is deprecated. In a future version, integer keys will always be treated as labels (consistent with DataFrame behavior). To access a value by position, use `ser.iloc[pos]`\n",
      "  pt_market_share[i,j] = market_shares[1]\n",
      "C:\\Users\\majdy\\AppData\\Local\\Temp\\ipykernel_15056\\2469950845.py:50: FutureWarning: Series.__getitem__ treating keys as positions is deprecated. In a future version, integer keys will always be treated as labels (consistent with DataFrame behavior). To access a value by position, use `ser.iloc[pos]`\n",
      "  cycling_market_share[i,j] = market_shares[2]\n",
      "C:\\Users\\majdy\\AppData\\Local\\Temp\\ipykernel_15056\\2469950845.py:51: FutureWarning: Series.__getitem__ treating keys as positions is deprecated. In a future version, integer keys will always be treated as labels (consistent with DataFrame behavior). To access a value by position, use `ser.iloc[pos]`\n",
      "  walking_market_share[i,j] = market_shares[3]\n",
      "C:\\Users\\majdy\\AppData\\Local\\Temp\\ipykernel_15056\\2469950845.py:52: FutureWarning: Series.__getitem__ treating keys as positions is deprecated. In a future version, integer keys will always be treated as labels (consistent with DataFrame behavior). To access a value by position, use `ser.iloc[pos]`\n",
      "  car_market_share[i,j] = market_shares[0]\n"
     ]
    },
    {
     "name": "stdout",
     "output_type": "stream",
     "text": [
      "iteration (6, 4) completed\n"
     ]
    },
    {
     "name": "stderr",
     "output_type": "stream",
     "text": [
      "C:\\Users\\majdy\\AppData\\Local\\Temp\\ipykernel_15056\\2469950845.py:49: FutureWarning: Series.__getitem__ treating keys as positions is deprecated. In a future version, integer keys will always be treated as labels (consistent with DataFrame behavior). To access a value by position, use `ser.iloc[pos]`\n",
      "  pt_market_share[i,j] = market_shares[1]\n",
      "C:\\Users\\majdy\\AppData\\Local\\Temp\\ipykernel_15056\\2469950845.py:50: FutureWarning: Series.__getitem__ treating keys as positions is deprecated. In a future version, integer keys will always be treated as labels (consistent with DataFrame behavior). To access a value by position, use `ser.iloc[pos]`\n",
      "  cycling_market_share[i,j] = market_shares[2]\n",
      "C:\\Users\\majdy\\AppData\\Local\\Temp\\ipykernel_15056\\2469950845.py:51: FutureWarning: Series.__getitem__ treating keys as positions is deprecated. In a future version, integer keys will always be treated as labels (consistent with DataFrame behavior). To access a value by position, use `ser.iloc[pos]`\n",
      "  walking_market_share[i,j] = market_shares[3]\n",
      "C:\\Users\\majdy\\AppData\\Local\\Temp\\ipykernel_15056\\2469950845.py:52: FutureWarning: Series.__getitem__ treating keys as positions is deprecated. In a future version, integer keys will always be treated as labels (consistent with DataFrame behavior). To access a value by position, use `ser.iloc[pos]`\n",
      "  car_market_share[i,j] = market_shares[0]\n"
     ]
    },
    {
     "name": "stdout",
     "output_type": "stream",
     "text": [
      "iteration (7, 4) completed\n"
     ]
    },
    {
     "name": "stderr",
     "output_type": "stream",
     "text": [
      "C:\\Users\\majdy\\AppData\\Local\\Temp\\ipykernel_15056\\2469950845.py:49: FutureWarning: Series.__getitem__ treating keys as positions is deprecated. In a future version, integer keys will always be treated as labels (consistent with DataFrame behavior). To access a value by position, use `ser.iloc[pos]`\n",
      "  pt_market_share[i,j] = market_shares[1]\n",
      "C:\\Users\\majdy\\AppData\\Local\\Temp\\ipykernel_15056\\2469950845.py:50: FutureWarning: Series.__getitem__ treating keys as positions is deprecated. In a future version, integer keys will always be treated as labels (consistent with DataFrame behavior). To access a value by position, use `ser.iloc[pos]`\n",
      "  cycling_market_share[i,j] = market_shares[2]\n",
      "C:\\Users\\majdy\\AppData\\Local\\Temp\\ipykernel_15056\\2469950845.py:51: FutureWarning: Series.__getitem__ treating keys as positions is deprecated. In a future version, integer keys will always be treated as labels (consistent with DataFrame behavior). To access a value by position, use `ser.iloc[pos]`\n",
      "  walking_market_share[i,j] = market_shares[3]\n",
      "C:\\Users\\majdy\\AppData\\Local\\Temp\\ipykernel_15056\\2469950845.py:52: FutureWarning: Series.__getitem__ treating keys as positions is deprecated. In a future version, integer keys will always be treated as labels (consistent with DataFrame behavior). To access a value by position, use `ser.iloc[pos]`\n",
      "  car_market_share[i,j] = market_shares[0]\n"
     ]
    },
    {
     "name": "stdout",
     "output_type": "stream",
     "text": [
      "iteration (8, 4) completed\n"
     ]
    },
    {
     "name": "stderr",
     "output_type": "stream",
     "text": [
      "C:\\Users\\majdy\\AppData\\Local\\Temp\\ipykernel_15056\\2469950845.py:49: FutureWarning: Series.__getitem__ treating keys as positions is deprecated. In a future version, integer keys will always be treated as labels (consistent with DataFrame behavior). To access a value by position, use `ser.iloc[pos]`\n",
      "  pt_market_share[i,j] = market_shares[1]\n",
      "C:\\Users\\majdy\\AppData\\Local\\Temp\\ipykernel_15056\\2469950845.py:50: FutureWarning: Series.__getitem__ treating keys as positions is deprecated. In a future version, integer keys will always be treated as labels (consistent with DataFrame behavior). To access a value by position, use `ser.iloc[pos]`\n",
      "  cycling_market_share[i,j] = market_shares[2]\n",
      "C:\\Users\\majdy\\AppData\\Local\\Temp\\ipykernel_15056\\2469950845.py:51: FutureWarning: Series.__getitem__ treating keys as positions is deprecated. In a future version, integer keys will always be treated as labels (consistent with DataFrame behavior). To access a value by position, use `ser.iloc[pos]`\n",
      "  walking_market_share[i,j] = market_shares[3]\n",
      "C:\\Users\\majdy\\AppData\\Local\\Temp\\ipykernel_15056\\2469950845.py:52: FutureWarning: Series.__getitem__ treating keys as positions is deprecated. In a future version, integer keys will always be treated as labels (consistent with DataFrame behavior). To access a value by position, use `ser.iloc[pos]`\n",
      "  car_market_share[i,j] = market_shares[0]\n"
     ]
    },
    {
     "name": "stdout",
     "output_type": "stream",
     "text": [
      "iteration (9, 4) completed\n"
     ]
    },
    {
     "name": "stderr",
     "output_type": "stream",
     "text": [
      "C:\\Users\\majdy\\AppData\\Local\\Temp\\ipykernel_15056\\2469950845.py:49: FutureWarning: Series.__getitem__ treating keys as positions is deprecated. In a future version, integer keys will always be treated as labels (consistent with DataFrame behavior). To access a value by position, use `ser.iloc[pos]`\n",
      "  pt_market_share[i,j] = market_shares[1]\n",
      "C:\\Users\\majdy\\AppData\\Local\\Temp\\ipykernel_15056\\2469950845.py:50: FutureWarning: Series.__getitem__ treating keys as positions is deprecated. In a future version, integer keys will always be treated as labels (consistent with DataFrame behavior). To access a value by position, use `ser.iloc[pos]`\n",
      "  cycling_market_share[i,j] = market_shares[2]\n",
      "C:\\Users\\majdy\\AppData\\Local\\Temp\\ipykernel_15056\\2469950845.py:51: FutureWarning: Series.__getitem__ treating keys as positions is deprecated. In a future version, integer keys will always be treated as labels (consistent with DataFrame behavior). To access a value by position, use `ser.iloc[pos]`\n",
      "  walking_market_share[i,j] = market_shares[3]\n",
      "C:\\Users\\majdy\\AppData\\Local\\Temp\\ipykernel_15056\\2469950845.py:52: FutureWarning: Series.__getitem__ treating keys as positions is deprecated. In a future version, integer keys will always be treated as labels (consistent with DataFrame behavior). To access a value by position, use `ser.iloc[pos]`\n",
      "  car_market_share[i,j] = market_shares[0]\n"
     ]
    },
    {
     "name": "stdout",
     "output_type": "stream",
     "text": [
      "iteration (10, 4) completed\n"
     ]
    },
    {
     "name": "stderr",
     "output_type": "stream",
     "text": [
      "C:\\Users\\majdy\\AppData\\Local\\Temp\\ipykernel_15056\\2469950845.py:49: FutureWarning: Series.__getitem__ treating keys as positions is deprecated. In a future version, integer keys will always be treated as labels (consistent with DataFrame behavior). To access a value by position, use `ser.iloc[pos]`\n",
      "  pt_market_share[i,j] = market_shares[1]\n",
      "C:\\Users\\majdy\\AppData\\Local\\Temp\\ipykernel_15056\\2469950845.py:50: FutureWarning: Series.__getitem__ treating keys as positions is deprecated. In a future version, integer keys will always be treated as labels (consistent with DataFrame behavior). To access a value by position, use `ser.iloc[pos]`\n",
      "  cycling_market_share[i,j] = market_shares[2]\n",
      "C:\\Users\\majdy\\AppData\\Local\\Temp\\ipykernel_15056\\2469950845.py:51: FutureWarning: Series.__getitem__ treating keys as positions is deprecated. In a future version, integer keys will always be treated as labels (consistent with DataFrame behavior). To access a value by position, use `ser.iloc[pos]`\n",
      "  walking_market_share[i,j] = market_shares[3]\n",
      "C:\\Users\\majdy\\AppData\\Local\\Temp\\ipykernel_15056\\2469950845.py:52: FutureWarning: Series.__getitem__ treating keys as positions is deprecated. In a future version, integer keys will always be treated as labels (consistent with DataFrame behavior). To access a value by position, use `ser.iloc[pos]`\n",
      "  car_market_share[i,j] = market_shares[0]\n"
     ]
    },
    {
     "name": "stdout",
     "output_type": "stream",
     "text": [
      "iteration (0, 5) completed\n"
     ]
    },
    {
     "name": "stderr",
     "output_type": "stream",
     "text": [
      "C:\\Users\\majdy\\AppData\\Local\\Temp\\ipykernel_15056\\2469950845.py:49: FutureWarning: Series.__getitem__ treating keys as positions is deprecated. In a future version, integer keys will always be treated as labels (consistent with DataFrame behavior). To access a value by position, use `ser.iloc[pos]`\n",
      "  pt_market_share[i,j] = market_shares[1]\n",
      "C:\\Users\\majdy\\AppData\\Local\\Temp\\ipykernel_15056\\2469950845.py:50: FutureWarning: Series.__getitem__ treating keys as positions is deprecated. In a future version, integer keys will always be treated as labels (consistent with DataFrame behavior). To access a value by position, use `ser.iloc[pos]`\n",
      "  cycling_market_share[i,j] = market_shares[2]\n",
      "C:\\Users\\majdy\\AppData\\Local\\Temp\\ipykernel_15056\\2469950845.py:51: FutureWarning: Series.__getitem__ treating keys as positions is deprecated. In a future version, integer keys will always be treated as labels (consistent with DataFrame behavior). To access a value by position, use `ser.iloc[pos]`\n",
      "  walking_market_share[i,j] = market_shares[3]\n",
      "C:\\Users\\majdy\\AppData\\Local\\Temp\\ipykernel_15056\\2469950845.py:52: FutureWarning: Series.__getitem__ treating keys as positions is deprecated. In a future version, integer keys will always be treated as labels (consistent with DataFrame behavior). To access a value by position, use `ser.iloc[pos]`\n",
      "  car_market_share[i,j] = market_shares[0]\n"
     ]
    },
    {
     "name": "stdout",
     "output_type": "stream",
     "text": [
      "iteration (1, 5) completed\n"
     ]
    },
    {
     "name": "stderr",
     "output_type": "stream",
     "text": [
      "C:\\Users\\majdy\\AppData\\Local\\Temp\\ipykernel_15056\\2469950845.py:49: FutureWarning: Series.__getitem__ treating keys as positions is deprecated. In a future version, integer keys will always be treated as labels (consistent with DataFrame behavior). To access a value by position, use `ser.iloc[pos]`\n",
      "  pt_market_share[i,j] = market_shares[1]\n",
      "C:\\Users\\majdy\\AppData\\Local\\Temp\\ipykernel_15056\\2469950845.py:50: FutureWarning: Series.__getitem__ treating keys as positions is deprecated. In a future version, integer keys will always be treated as labels (consistent with DataFrame behavior). To access a value by position, use `ser.iloc[pos]`\n",
      "  cycling_market_share[i,j] = market_shares[2]\n",
      "C:\\Users\\majdy\\AppData\\Local\\Temp\\ipykernel_15056\\2469950845.py:51: FutureWarning: Series.__getitem__ treating keys as positions is deprecated. In a future version, integer keys will always be treated as labels (consistent with DataFrame behavior). To access a value by position, use `ser.iloc[pos]`\n",
      "  walking_market_share[i,j] = market_shares[3]\n",
      "C:\\Users\\majdy\\AppData\\Local\\Temp\\ipykernel_15056\\2469950845.py:52: FutureWarning: Series.__getitem__ treating keys as positions is deprecated. In a future version, integer keys will always be treated as labels (consistent with DataFrame behavior). To access a value by position, use `ser.iloc[pos]`\n",
      "  car_market_share[i,j] = market_shares[0]\n"
     ]
    },
    {
     "name": "stdout",
     "output_type": "stream",
     "text": [
      "iteration (2, 5) completed\n"
     ]
    },
    {
     "name": "stderr",
     "output_type": "stream",
     "text": [
      "C:\\Users\\majdy\\AppData\\Local\\Temp\\ipykernel_15056\\2469950845.py:49: FutureWarning: Series.__getitem__ treating keys as positions is deprecated. In a future version, integer keys will always be treated as labels (consistent with DataFrame behavior). To access a value by position, use `ser.iloc[pos]`\n",
      "  pt_market_share[i,j] = market_shares[1]\n",
      "C:\\Users\\majdy\\AppData\\Local\\Temp\\ipykernel_15056\\2469950845.py:50: FutureWarning: Series.__getitem__ treating keys as positions is deprecated. In a future version, integer keys will always be treated as labels (consistent with DataFrame behavior). To access a value by position, use `ser.iloc[pos]`\n",
      "  cycling_market_share[i,j] = market_shares[2]\n",
      "C:\\Users\\majdy\\AppData\\Local\\Temp\\ipykernel_15056\\2469950845.py:51: FutureWarning: Series.__getitem__ treating keys as positions is deprecated. In a future version, integer keys will always be treated as labels (consistent with DataFrame behavior). To access a value by position, use `ser.iloc[pos]`\n",
      "  walking_market_share[i,j] = market_shares[3]\n",
      "C:\\Users\\majdy\\AppData\\Local\\Temp\\ipykernel_15056\\2469950845.py:52: FutureWarning: Series.__getitem__ treating keys as positions is deprecated. In a future version, integer keys will always be treated as labels (consistent with DataFrame behavior). To access a value by position, use `ser.iloc[pos]`\n",
      "  car_market_share[i,j] = market_shares[0]\n"
     ]
    },
    {
     "name": "stdout",
     "output_type": "stream",
     "text": [
      "iteration (3, 5) completed\n"
     ]
    },
    {
     "name": "stderr",
     "output_type": "stream",
     "text": [
      "C:\\Users\\majdy\\AppData\\Local\\Temp\\ipykernel_15056\\2469950845.py:49: FutureWarning: Series.__getitem__ treating keys as positions is deprecated. In a future version, integer keys will always be treated as labels (consistent with DataFrame behavior). To access a value by position, use `ser.iloc[pos]`\n",
      "  pt_market_share[i,j] = market_shares[1]\n",
      "C:\\Users\\majdy\\AppData\\Local\\Temp\\ipykernel_15056\\2469950845.py:50: FutureWarning: Series.__getitem__ treating keys as positions is deprecated. In a future version, integer keys will always be treated as labels (consistent with DataFrame behavior). To access a value by position, use `ser.iloc[pos]`\n",
      "  cycling_market_share[i,j] = market_shares[2]\n",
      "C:\\Users\\majdy\\AppData\\Local\\Temp\\ipykernel_15056\\2469950845.py:51: FutureWarning: Series.__getitem__ treating keys as positions is deprecated. In a future version, integer keys will always be treated as labels (consistent with DataFrame behavior). To access a value by position, use `ser.iloc[pos]`\n",
      "  walking_market_share[i,j] = market_shares[3]\n",
      "C:\\Users\\majdy\\AppData\\Local\\Temp\\ipykernel_15056\\2469950845.py:52: FutureWarning: Series.__getitem__ treating keys as positions is deprecated. In a future version, integer keys will always be treated as labels (consistent with DataFrame behavior). To access a value by position, use `ser.iloc[pos]`\n",
      "  car_market_share[i,j] = market_shares[0]\n"
     ]
    },
    {
     "name": "stdout",
     "output_type": "stream",
     "text": [
      "iteration (4, 5) completed\n"
     ]
    },
    {
     "name": "stderr",
     "output_type": "stream",
     "text": [
      "C:\\Users\\majdy\\AppData\\Local\\Temp\\ipykernel_15056\\2469950845.py:49: FutureWarning: Series.__getitem__ treating keys as positions is deprecated. In a future version, integer keys will always be treated as labels (consistent with DataFrame behavior). To access a value by position, use `ser.iloc[pos]`\n",
      "  pt_market_share[i,j] = market_shares[1]\n",
      "C:\\Users\\majdy\\AppData\\Local\\Temp\\ipykernel_15056\\2469950845.py:50: FutureWarning: Series.__getitem__ treating keys as positions is deprecated. In a future version, integer keys will always be treated as labels (consistent with DataFrame behavior). To access a value by position, use `ser.iloc[pos]`\n",
      "  cycling_market_share[i,j] = market_shares[2]\n",
      "C:\\Users\\majdy\\AppData\\Local\\Temp\\ipykernel_15056\\2469950845.py:51: FutureWarning: Series.__getitem__ treating keys as positions is deprecated. In a future version, integer keys will always be treated as labels (consistent with DataFrame behavior). To access a value by position, use `ser.iloc[pos]`\n",
      "  walking_market_share[i,j] = market_shares[3]\n",
      "C:\\Users\\majdy\\AppData\\Local\\Temp\\ipykernel_15056\\2469950845.py:52: FutureWarning: Series.__getitem__ treating keys as positions is deprecated. In a future version, integer keys will always be treated as labels (consistent with DataFrame behavior). To access a value by position, use `ser.iloc[pos]`\n",
      "  car_market_share[i,j] = market_shares[0]\n"
     ]
    },
    {
     "name": "stdout",
     "output_type": "stream",
     "text": [
      "iteration (5, 5) completed\n"
     ]
    },
    {
     "name": "stderr",
     "output_type": "stream",
     "text": [
      "C:\\Users\\majdy\\AppData\\Local\\Temp\\ipykernel_15056\\2469950845.py:49: FutureWarning: Series.__getitem__ treating keys as positions is deprecated. In a future version, integer keys will always be treated as labels (consistent with DataFrame behavior). To access a value by position, use `ser.iloc[pos]`\n",
      "  pt_market_share[i,j] = market_shares[1]\n",
      "C:\\Users\\majdy\\AppData\\Local\\Temp\\ipykernel_15056\\2469950845.py:50: FutureWarning: Series.__getitem__ treating keys as positions is deprecated. In a future version, integer keys will always be treated as labels (consistent with DataFrame behavior). To access a value by position, use `ser.iloc[pos]`\n",
      "  cycling_market_share[i,j] = market_shares[2]\n",
      "C:\\Users\\majdy\\AppData\\Local\\Temp\\ipykernel_15056\\2469950845.py:51: FutureWarning: Series.__getitem__ treating keys as positions is deprecated. In a future version, integer keys will always be treated as labels (consistent with DataFrame behavior). To access a value by position, use `ser.iloc[pos]`\n",
      "  walking_market_share[i,j] = market_shares[3]\n",
      "C:\\Users\\majdy\\AppData\\Local\\Temp\\ipykernel_15056\\2469950845.py:52: FutureWarning: Series.__getitem__ treating keys as positions is deprecated. In a future version, integer keys will always be treated as labels (consistent with DataFrame behavior). To access a value by position, use `ser.iloc[pos]`\n",
      "  car_market_share[i,j] = market_shares[0]\n"
     ]
    },
    {
     "name": "stdout",
     "output_type": "stream",
     "text": [
      "iteration (6, 5) completed\n"
     ]
    },
    {
     "name": "stderr",
     "output_type": "stream",
     "text": [
      "C:\\Users\\majdy\\AppData\\Local\\Temp\\ipykernel_15056\\2469950845.py:49: FutureWarning: Series.__getitem__ treating keys as positions is deprecated. In a future version, integer keys will always be treated as labels (consistent with DataFrame behavior). To access a value by position, use `ser.iloc[pos]`\n",
      "  pt_market_share[i,j] = market_shares[1]\n",
      "C:\\Users\\majdy\\AppData\\Local\\Temp\\ipykernel_15056\\2469950845.py:50: FutureWarning: Series.__getitem__ treating keys as positions is deprecated. In a future version, integer keys will always be treated as labels (consistent with DataFrame behavior). To access a value by position, use `ser.iloc[pos]`\n",
      "  cycling_market_share[i,j] = market_shares[2]\n",
      "C:\\Users\\majdy\\AppData\\Local\\Temp\\ipykernel_15056\\2469950845.py:51: FutureWarning: Series.__getitem__ treating keys as positions is deprecated. In a future version, integer keys will always be treated as labels (consistent with DataFrame behavior). To access a value by position, use `ser.iloc[pos]`\n",
      "  walking_market_share[i,j] = market_shares[3]\n",
      "C:\\Users\\majdy\\AppData\\Local\\Temp\\ipykernel_15056\\2469950845.py:52: FutureWarning: Series.__getitem__ treating keys as positions is deprecated. In a future version, integer keys will always be treated as labels (consistent with DataFrame behavior). To access a value by position, use `ser.iloc[pos]`\n",
      "  car_market_share[i,j] = market_shares[0]\n"
     ]
    },
    {
     "name": "stdout",
     "output_type": "stream",
     "text": [
      "iteration (7, 5) completed\n"
     ]
    },
    {
     "name": "stderr",
     "output_type": "stream",
     "text": [
      "C:\\Users\\majdy\\AppData\\Local\\Temp\\ipykernel_15056\\2469950845.py:49: FutureWarning: Series.__getitem__ treating keys as positions is deprecated. In a future version, integer keys will always be treated as labels (consistent with DataFrame behavior). To access a value by position, use `ser.iloc[pos]`\n",
      "  pt_market_share[i,j] = market_shares[1]\n",
      "C:\\Users\\majdy\\AppData\\Local\\Temp\\ipykernel_15056\\2469950845.py:50: FutureWarning: Series.__getitem__ treating keys as positions is deprecated. In a future version, integer keys will always be treated as labels (consistent with DataFrame behavior). To access a value by position, use `ser.iloc[pos]`\n",
      "  cycling_market_share[i,j] = market_shares[2]\n",
      "C:\\Users\\majdy\\AppData\\Local\\Temp\\ipykernel_15056\\2469950845.py:51: FutureWarning: Series.__getitem__ treating keys as positions is deprecated. In a future version, integer keys will always be treated as labels (consistent with DataFrame behavior). To access a value by position, use `ser.iloc[pos]`\n",
      "  walking_market_share[i,j] = market_shares[3]\n",
      "C:\\Users\\majdy\\AppData\\Local\\Temp\\ipykernel_15056\\2469950845.py:52: FutureWarning: Series.__getitem__ treating keys as positions is deprecated. In a future version, integer keys will always be treated as labels (consistent with DataFrame behavior). To access a value by position, use `ser.iloc[pos]`\n",
      "  car_market_share[i,j] = market_shares[0]\n"
     ]
    },
    {
     "name": "stdout",
     "output_type": "stream",
     "text": [
      "iteration (8, 5) completed\n"
     ]
    },
    {
     "name": "stderr",
     "output_type": "stream",
     "text": [
      "C:\\Users\\majdy\\AppData\\Local\\Temp\\ipykernel_15056\\2469950845.py:49: FutureWarning: Series.__getitem__ treating keys as positions is deprecated. In a future version, integer keys will always be treated as labels (consistent with DataFrame behavior). To access a value by position, use `ser.iloc[pos]`\n",
      "  pt_market_share[i,j] = market_shares[1]\n",
      "C:\\Users\\majdy\\AppData\\Local\\Temp\\ipykernel_15056\\2469950845.py:50: FutureWarning: Series.__getitem__ treating keys as positions is deprecated. In a future version, integer keys will always be treated as labels (consistent with DataFrame behavior). To access a value by position, use `ser.iloc[pos]`\n",
      "  cycling_market_share[i,j] = market_shares[2]\n",
      "C:\\Users\\majdy\\AppData\\Local\\Temp\\ipykernel_15056\\2469950845.py:51: FutureWarning: Series.__getitem__ treating keys as positions is deprecated. In a future version, integer keys will always be treated as labels (consistent with DataFrame behavior). To access a value by position, use `ser.iloc[pos]`\n",
      "  walking_market_share[i,j] = market_shares[3]\n",
      "C:\\Users\\majdy\\AppData\\Local\\Temp\\ipykernel_15056\\2469950845.py:52: FutureWarning: Series.__getitem__ treating keys as positions is deprecated. In a future version, integer keys will always be treated as labels (consistent with DataFrame behavior). To access a value by position, use `ser.iloc[pos]`\n",
      "  car_market_share[i,j] = market_shares[0]\n"
     ]
    },
    {
     "name": "stdout",
     "output_type": "stream",
     "text": [
      "iteration (9, 5) completed\n"
     ]
    },
    {
     "name": "stderr",
     "output_type": "stream",
     "text": [
      "C:\\Users\\majdy\\AppData\\Local\\Temp\\ipykernel_15056\\2469950845.py:49: FutureWarning: Series.__getitem__ treating keys as positions is deprecated. In a future version, integer keys will always be treated as labels (consistent with DataFrame behavior). To access a value by position, use `ser.iloc[pos]`\n",
      "  pt_market_share[i,j] = market_shares[1]\n",
      "C:\\Users\\majdy\\AppData\\Local\\Temp\\ipykernel_15056\\2469950845.py:50: FutureWarning: Series.__getitem__ treating keys as positions is deprecated. In a future version, integer keys will always be treated as labels (consistent with DataFrame behavior). To access a value by position, use `ser.iloc[pos]`\n",
      "  cycling_market_share[i,j] = market_shares[2]\n",
      "C:\\Users\\majdy\\AppData\\Local\\Temp\\ipykernel_15056\\2469950845.py:51: FutureWarning: Series.__getitem__ treating keys as positions is deprecated. In a future version, integer keys will always be treated as labels (consistent with DataFrame behavior). To access a value by position, use `ser.iloc[pos]`\n",
      "  walking_market_share[i,j] = market_shares[3]\n",
      "C:\\Users\\majdy\\AppData\\Local\\Temp\\ipykernel_15056\\2469950845.py:52: FutureWarning: Series.__getitem__ treating keys as positions is deprecated. In a future version, integer keys will always be treated as labels (consistent with DataFrame behavior). To access a value by position, use `ser.iloc[pos]`\n",
      "  car_market_share[i,j] = market_shares[0]\n"
     ]
    },
    {
     "name": "stdout",
     "output_type": "stream",
     "text": [
      "iteration (10, 5) completed\n"
     ]
    },
    {
     "name": "stderr",
     "output_type": "stream",
     "text": [
      "C:\\Users\\majdy\\AppData\\Local\\Temp\\ipykernel_15056\\2469950845.py:49: FutureWarning: Series.__getitem__ treating keys as positions is deprecated. In a future version, integer keys will always be treated as labels (consistent with DataFrame behavior). To access a value by position, use `ser.iloc[pos]`\n",
      "  pt_market_share[i,j] = market_shares[1]\n",
      "C:\\Users\\majdy\\AppData\\Local\\Temp\\ipykernel_15056\\2469950845.py:50: FutureWarning: Series.__getitem__ treating keys as positions is deprecated. In a future version, integer keys will always be treated as labels (consistent with DataFrame behavior). To access a value by position, use `ser.iloc[pos]`\n",
      "  cycling_market_share[i,j] = market_shares[2]\n",
      "C:\\Users\\majdy\\AppData\\Local\\Temp\\ipykernel_15056\\2469950845.py:51: FutureWarning: Series.__getitem__ treating keys as positions is deprecated. In a future version, integer keys will always be treated as labels (consistent with DataFrame behavior). To access a value by position, use `ser.iloc[pos]`\n",
      "  walking_market_share[i,j] = market_shares[3]\n",
      "C:\\Users\\majdy\\AppData\\Local\\Temp\\ipykernel_15056\\2469950845.py:52: FutureWarning: Series.__getitem__ treating keys as positions is deprecated. In a future version, integer keys will always be treated as labels (consistent with DataFrame behavior). To access a value by position, use `ser.iloc[pos]`\n",
      "  car_market_share[i,j] = market_shares[0]\n"
     ]
    },
    {
     "name": "stdout",
     "output_type": "stream",
     "text": [
      "iteration (0, 6) completed\n"
     ]
    },
    {
     "name": "stderr",
     "output_type": "stream",
     "text": [
      "C:\\Users\\majdy\\AppData\\Local\\Temp\\ipykernel_15056\\2469950845.py:49: FutureWarning: Series.__getitem__ treating keys as positions is deprecated. In a future version, integer keys will always be treated as labels (consistent with DataFrame behavior). To access a value by position, use `ser.iloc[pos]`\n",
      "  pt_market_share[i,j] = market_shares[1]\n",
      "C:\\Users\\majdy\\AppData\\Local\\Temp\\ipykernel_15056\\2469950845.py:50: FutureWarning: Series.__getitem__ treating keys as positions is deprecated. In a future version, integer keys will always be treated as labels (consistent with DataFrame behavior). To access a value by position, use `ser.iloc[pos]`\n",
      "  cycling_market_share[i,j] = market_shares[2]\n",
      "C:\\Users\\majdy\\AppData\\Local\\Temp\\ipykernel_15056\\2469950845.py:51: FutureWarning: Series.__getitem__ treating keys as positions is deprecated. In a future version, integer keys will always be treated as labels (consistent with DataFrame behavior). To access a value by position, use `ser.iloc[pos]`\n",
      "  walking_market_share[i,j] = market_shares[3]\n",
      "C:\\Users\\majdy\\AppData\\Local\\Temp\\ipykernel_15056\\2469950845.py:52: FutureWarning: Series.__getitem__ treating keys as positions is deprecated. In a future version, integer keys will always be treated as labels (consistent with DataFrame behavior). To access a value by position, use `ser.iloc[pos]`\n",
      "  car_market_share[i,j] = market_shares[0]\n"
     ]
    },
    {
     "name": "stdout",
     "output_type": "stream",
     "text": [
      "iteration (1, 6) completed\n"
     ]
    },
    {
     "name": "stderr",
     "output_type": "stream",
     "text": [
      "C:\\Users\\majdy\\AppData\\Local\\Temp\\ipykernel_15056\\2469950845.py:49: FutureWarning: Series.__getitem__ treating keys as positions is deprecated. In a future version, integer keys will always be treated as labels (consistent with DataFrame behavior). To access a value by position, use `ser.iloc[pos]`\n",
      "  pt_market_share[i,j] = market_shares[1]\n",
      "C:\\Users\\majdy\\AppData\\Local\\Temp\\ipykernel_15056\\2469950845.py:50: FutureWarning: Series.__getitem__ treating keys as positions is deprecated. In a future version, integer keys will always be treated as labels (consistent with DataFrame behavior). To access a value by position, use `ser.iloc[pos]`\n",
      "  cycling_market_share[i,j] = market_shares[2]\n",
      "C:\\Users\\majdy\\AppData\\Local\\Temp\\ipykernel_15056\\2469950845.py:51: FutureWarning: Series.__getitem__ treating keys as positions is deprecated. In a future version, integer keys will always be treated as labels (consistent with DataFrame behavior). To access a value by position, use `ser.iloc[pos]`\n",
      "  walking_market_share[i,j] = market_shares[3]\n",
      "C:\\Users\\majdy\\AppData\\Local\\Temp\\ipykernel_15056\\2469950845.py:52: FutureWarning: Series.__getitem__ treating keys as positions is deprecated. In a future version, integer keys will always be treated as labels (consistent with DataFrame behavior). To access a value by position, use `ser.iloc[pos]`\n",
      "  car_market_share[i,j] = market_shares[0]\n"
     ]
    },
    {
     "name": "stdout",
     "output_type": "stream",
     "text": [
      "iteration (2, 6) completed\n"
     ]
    },
    {
     "name": "stderr",
     "output_type": "stream",
     "text": [
      "C:\\Users\\majdy\\AppData\\Local\\Temp\\ipykernel_15056\\2469950845.py:49: FutureWarning: Series.__getitem__ treating keys as positions is deprecated. In a future version, integer keys will always be treated as labels (consistent with DataFrame behavior). To access a value by position, use `ser.iloc[pos]`\n",
      "  pt_market_share[i,j] = market_shares[1]\n",
      "C:\\Users\\majdy\\AppData\\Local\\Temp\\ipykernel_15056\\2469950845.py:50: FutureWarning: Series.__getitem__ treating keys as positions is deprecated. In a future version, integer keys will always be treated as labels (consistent with DataFrame behavior). To access a value by position, use `ser.iloc[pos]`\n",
      "  cycling_market_share[i,j] = market_shares[2]\n",
      "C:\\Users\\majdy\\AppData\\Local\\Temp\\ipykernel_15056\\2469950845.py:51: FutureWarning: Series.__getitem__ treating keys as positions is deprecated. In a future version, integer keys will always be treated as labels (consistent with DataFrame behavior). To access a value by position, use `ser.iloc[pos]`\n",
      "  walking_market_share[i,j] = market_shares[3]\n",
      "C:\\Users\\majdy\\AppData\\Local\\Temp\\ipykernel_15056\\2469950845.py:52: FutureWarning: Series.__getitem__ treating keys as positions is deprecated. In a future version, integer keys will always be treated as labels (consistent with DataFrame behavior). To access a value by position, use `ser.iloc[pos]`\n",
      "  car_market_share[i,j] = market_shares[0]\n"
     ]
    },
    {
     "name": "stdout",
     "output_type": "stream",
     "text": [
      "iteration (3, 6) completed\n"
     ]
    },
    {
     "name": "stderr",
     "output_type": "stream",
     "text": [
      "C:\\Users\\majdy\\AppData\\Local\\Temp\\ipykernel_15056\\2469950845.py:49: FutureWarning: Series.__getitem__ treating keys as positions is deprecated. In a future version, integer keys will always be treated as labels (consistent with DataFrame behavior). To access a value by position, use `ser.iloc[pos]`\n",
      "  pt_market_share[i,j] = market_shares[1]\n",
      "C:\\Users\\majdy\\AppData\\Local\\Temp\\ipykernel_15056\\2469950845.py:50: FutureWarning: Series.__getitem__ treating keys as positions is deprecated. In a future version, integer keys will always be treated as labels (consistent with DataFrame behavior). To access a value by position, use `ser.iloc[pos]`\n",
      "  cycling_market_share[i,j] = market_shares[2]\n",
      "C:\\Users\\majdy\\AppData\\Local\\Temp\\ipykernel_15056\\2469950845.py:51: FutureWarning: Series.__getitem__ treating keys as positions is deprecated. In a future version, integer keys will always be treated as labels (consistent with DataFrame behavior). To access a value by position, use `ser.iloc[pos]`\n",
      "  walking_market_share[i,j] = market_shares[3]\n",
      "C:\\Users\\majdy\\AppData\\Local\\Temp\\ipykernel_15056\\2469950845.py:52: FutureWarning: Series.__getitem__ treating keys as positions is deprecated. In a future version, integer keys will always be treated as labels (consistent with DataFrame behavior). To access a value by position, use `ser.iloc[pos]`\n",
      "  car_market_share[i,j] = market_shares[0]\n"
     ]
    },
    {
     "name": "stdout",
     "output_type": "stream",
     "text": [
      "iteration (4, 6) completed\n"
     ]
    },
    {
     "name": "stderr",
     "output_type": "stream",
     "text": [
      "C:\\Users\\majdy\\AppData\\Local\\Temp\\ipykernel_15056\\2469950845.py:49: FutureWarning: Series.__getitem__ treating keys as positions is deprecated. In a future version, integer keys will always be treated as labels (consistent with DataFrame behavior). To access a value by position, use `ser.iloc[pos]`\n",
      "  pt_market_share[i,j] = market_shares[1]\n",
      "C:\\Users\\majdy\\AppData\\Local\\Temp\\ipykernel_15056\\2469950845.py:50: FutureWarning: Series.__getitem__ treating keys as positions is deprecated. In a future version, integer keys will always be treated as labels (consistent with DataFrame behavior). To access a value by position, use `ser.iloc[pos]`\n",
      "  cycling_market_share[i,j] = market_shares[2]\n",
      "C:\\Users\\majdy\\AppData\\Local\\Temp\\ipykernel_15056\\2469950845.py:51: FutureWarning: Series.__getitem__ treating keys as positions is deprecated. In a future version, integer keys will always be treated as labels (consistent with DataFrame behavior). To access a value by position, use `ser.iloc[pos]`\n",
      "  walking_market_share[i,j] = market_shares[3]\n",
      "C:\\Users\\majdy\\AppData\\Local\\Temp\\ipykernel_15056\\2469950845.py:52: FutureWarning: Series.__getitem__ treating keys as positions is deprecated. In a future version, integer keys will always be treated as labels (consistent with DataFrame behavior). To access a value by position, use `ser.iloc[pos]`\n",
      "  car_market_share[i,j] = market_shares[0]\n"
     ]
    },
    {
     "name": "stdout",
     "output_type": "stream",
     "text": [
      "iteration (5, 6) completed\n"
     ]
    },
    {
     "name": "stderr",
     "output_type": "stream",
     "text": [
      "C:\\Users\\majdy\\AppData\\Local\\Temp\\ipykernel_15056\\2469950845.py:49: FutureWarning: Series.__getitem__ treating keys as positions is deprecated. In a future version, integer keys will always be treated as labels (consistent with DataFrame behavior). To access a value by position, use `ser.iloc[pos]`\n",
      "  pt_market_share[i,j] = market_shares[1]\n",
      "C:\\Users\\majdy\\AppData\\Local\\Temp\\ipykernel_15056\\2469950845.py:50: FutureWarning: Series.__getitem__ treating keys as positions is deprecated. In a future version, integer keys will always be treated as labels (consistent with DataFrame behavior). To access a value by position, use `ser.iloc[pos]`\n",
      "  cycling_market_share[i,j] = market_shares[2]\n",
      "C:\\Users\\majdy\\AppData\\Local\\Temp\\ipykernel_15056\\2469950845.py:51: FutureWarning: Series.__getitem__ treating keys as positions is deprecated. In a future version, integer keys will always be treated as labels (consistent with DataFrame behavior). To access a value by position, use `ser.iloc[pos]`\n",
      "  walking_market_share[i,j] = market_shares[3]\n",
      "C:\\Users\\majdy\\AppData\\Local\\Temp\\ipykernel_15056\\2469950845.py:52: FutureWarning: Series.__getitem__ treating keys as positions is deprecated. In a future version, integer keys will always be treated as labels (consistent with DataFrame behavior). To access a value by position, use `ser.iloc[pos]`\n",
      "  car_market_share[i,j] = market_shares[0]\n"
     ]
    },
    {
     "name": "stdout",
     "output_type": "stream",
     "text": [
      "iteration (6, 6) completed\n"
     ]
    },
    {
     "name": "stderr",
     "output_type": "stream",
     "text": [
      "C:\\Users\\majdy\\AppData\\Local\\Temp\\ipykernel_15056\\2469950845.py:49: FutureWarning: Series.__getitem__ treating keys as positions is deprecated. In a future version, integer keys will always be treated as labels (consistent with DataFrame behavior). To access a value by position, use `ser.iloc[pos]`\n",
      "  pt_market_share[i,j] = market_shares[1]\n",
      "C:\\Users\\majdy\\AppData\\Local\\Temp\\ipykernel_15056\\2469950845.py:50: FutureWarning: Series.__getitem__ treating keys as positions is deprecated. In a future version, integer keys will always be treated as labels (consistent with DataFrame behavior). To access a value by position, use `ser.iloc[pos]`\n",
      "  cycling_market_share[i,j] = market_shares[2]\n",
      "C:\\Users\\majdy\\AppData\\Local\\Temp\\ipykernel_15056\\2469950845.py:51: FutureWarning: Series.__getitem__ treating keys as positions is deprecated. In a future version, integer keys will always be treated as labels (consistent with DataFrame behavior). To access a value by position, use `ser.iloc[pos]`\n",
      "  walking_market_share[i,j] = market_shares[3]\n",
      "C:\\Users\\majdy\\AppData\\Local\\Temp\\ipykernel_15056\\2469950845.py:52: FutureWarning: Series.__getitem__ treating keys as positions is deprecated. In a future version, integer keys will always be treated as labels (consistent with DataFrame behavior). To access a value by position, use `ser.iloc[pos]`\n",
      "  car_market_share[i,j] = market_shares[0]\n"
     ]
    },
    {
     "name": "stdout",
     "output_type": "stream",
     "text": [
      "iteration (7, 6) completed\n"
     ]
    },
    {
     "name": "stderr",
     "output_type": "stream",
     "text": [
      "C:\\Users\\majdy\\AppData\\Local\\Temp\\ipykernel_15056\\2469950845.py:49: FutureWarning: Series.__getitem__ treating keys as positions is deprecated. In a future version, integer keys will always be treated as labels (consistent with DataFrame behavior). To access a value by position, use `ser.iloc[pos]`\n",
      "  pt_market_share[i,j] = market_shares[1]\n",
      "C:\\Users\\majdy\\AppData\\Local\\Temp\\ipykernel_15056\\2469950845.py:50: FutureWarning: Series.__getitem__ treating keys as positions is deprecated. In a future version, integer keys will always be treated as labels (consistent with DataFrame behavior). To access a value by position, use `ser.iloc[pos]`\n",
      "  cycling_market_share[i,j] = market_shares[2]\n",
      "C:\\Users\\majdy\\AppData\\Local\\Temp\\ipykernel_15056\\2469950845.py:51: FutureWarning: Series.__getitem__ treating keys as positions is deprecated. In a future version, integer keys will always be treated as labels (consistent with DataFrame behavior). To access a value by position, use `ser.iloc[pos]`\n",
      "  walking_market_share[i,j] = market_shares[3]\n",
      "C:\\Users\\majdy\\AppData\\Local\\Temp\\ipykernel_15056\\2469950845.py:52: FutureWarning: Series.__getitem__ treating keys as positions is deprecated. In a future version, integer keys will always be treated as labels (consistent with DataFrame behavior). To access a value by position, use `ser.iloc[pos]`\n",
      "  car_market_share[i,j] = market_shares[0]\n"
     ]
    },
    {
     "name": "stdout",
     "output_type": "stream",
     "text": [
      "iteration (8, 6) completed\n"
     ]
    },
    {
     "name": "stderr",
     "output_type": "stream",
     "text": [
      "C:\\Users\\majdy\\AppData\\Local\\Temp\\ipykernel_15056\\2469950845.py:49: FutureWarning: Series.__getitem__ treating keys as positions is deprecated. In a future version, integer keys will always be treated as labels (consistent with DataFrame behavior). To access a value by position, use `ser.iloc[pos]`\n",
      "  pt_market_share[i,j] = market_shares[1]\n",
      "C:\\Users\\majdy\\AppData\\Local\\Temp\\ipykernel_15056\\2469950845.py:50: FutureWarning: Series.__getitem__ treating keys as positions is deprecated. In a future version, integer keys will always be treated as labels (consistent with DataFrame behavior). To access a value by position, use `ser.iloc[pos]`\n",
      "  cycling_market_share[i,j] = market_shares[2]\n",
      "C:\\Users\\majdy\\AppData\\Local\\Temp\\ipykernel_15056\\2469950845.py:51: FutureWarning: Series.__getitem__ treating keys as positions is deprecated. In a future version, integer keys will always be treated as labels (consistent with DataFrame behavior). To access a value by position, use `ser.iloc[pos]`\n",
      "  walking_market_share[i,j] = market_shares[3]\n",
      "C:\\Users\\majdy\\AppData\\Local\\Temp\\ipykernel_15056\\2469950845.py:52: FutureWarning: Series.__getitem__ treating keys as positions is deprecated. In a future version, integer keys will always be treated as labels (consistent with DataFrame behavior). To access a value by position, use `ser.iloc[pos]`\n",
      "  car_market_share[i,j] = market_shares[0]\n"
     ]
    },
    {
     "name": "stdout",
     "output_type": "stream",
     "text": [
      "iteration (9, 6) completed\n"
     ]
    },
    {
     "name": "stderr",
     "output_type": "stream",
     "text": [
      "C:\\Users\\majdy\\AppData\\Local\\Temp\\ipykernel_15056\\2469950845.py:49: FutureWarning: Series.__getitem__ treating keys as positions is deprecated. In a future version, integer keys will always be treated as labels (consistent with DataFrame behavior). To access a value by position, use `ser.iloc[pos]`\n",
      "  pt_market_share[i,j] = market_shares[1]\n",
      "C:\\Users\\majdy\\AppData\\Local\\Temp\\ipykernel_15056\\2469950845.py:50: FutureWarning: Series.__getitem__ treating keys as positions is deprecated. In a future version, integer keys will always be treated as labels (consistent with DataFrame behavior). To access a value by position, use `ser.iloc[pos]`\n",
      "  cycling_market_share[i,j] = market_shares[2]\n",
      "C:\\Users\\majdy\\AppData\\Local\\Temp\\ipykernel_15056\\2469950845.py:51: FutureWarning: Series.__getitem__ treating keys as positions is deprecated. In a future version, integer keys will always be treated as labels (consistent with DataFrame behavior). To access a value by position, use `ser.iloc[pos]`\n",
      "  walking_market_share[i,j] = market_shares[3]\n",
      "C:\\Users\\majdy\\AppData\\Local\\Temp\\ipykernel_15056\\2469950845.py:52: FutureWarning: Series.__getitem__ treating keys as positions is deprecated. In a future version, integer keys will always be treated as labels (consistent with DataFrame behavior). To access a value by position, use `ser.iloc[pos]`\n",
      "  car_market_share[i,j] = market_shares[0]\n"
     ]
    },
    {
     "name": "stdout",
     "output_type": "stream",
     "text": [
      "iteration (10, 6) completed\n"
     ]
    },
    {
     "name": "stderr",
     "output_type": "stream",
     "text": [
      "C:\\Users\\majdy\\AppData\\Local\\Temp\\ipykernel_15056\\2469950845.py:49: FutureWarning: Series.__getitem__ treating keys as positions is deprecated. In a future version, integer keys will always be treated as labels (consistent with DataFrame behavior). To access a value by position, use `ser.iloc[pos]`\n",
      "  pt_market_share[i,j] = market_shares[1]\n",
      "C:\\Users\\majdy\\AppData\\Local\\Temp\\ipykernel_15056\\2469950845.py:50: FutureWarning: Series.__getitem__ treating keys as positions is deprecated. In a future version, integer keys will always be treated as labels (consistent with DataFrame behavior). To access a value by position, use `ser.iloc[pos]`\n",
      "  cycling_market_share[i,j] = market_shares[2]\n",
      "C:\\Users\\majdy\\AppData\\Local\\Temp\\ipykernel_15056\\2469950845.py:51: FutureWarning: Series.__getitem__ treating keys as positions is deprecated. In a future version, integer keys will always be treated as labels (consistent with DataFrame behavior). To access a value by position, use `ser.iloc[pos]`\n",
      "  walking_market_share[i,j] = market_shares[3]\n",
      "C:\\Users\\majdy\\AppData\\Local\\Temp\\ipykernel_15056\\2469950845.py:52: FutureWarning: Series.__getitem__ treating keys as positions is deprecated. In a future version, integer keys will always be treated as labels (consistent with DataFrame behavior). To access a value by position, use `ser.iloc[pos]`\n",
      "  car_market_share[i,j] = market_shares[0]\n"
     ]
    },
    {
     "name": "stdout",
     "output_type": "stream",
     "text": [
      "iteration (0, 7) completed\n"
     ]
    },
    {
     "name": "stderr",
     "output_type": "stream",
     "text": [
      "C:\\Users\\majdy\\AppData\\Local\\Temp\\ipykernel_15056\\2469950845.py:49: FutureWarning: Series.__getitem__ treating keys as positions is deprecated. In a future version, integer keys will always be treated as labels (consistent with DataFrame behavior). To access a value by position, use `ser.iloc[pos]`\n",
      "  pt_market_share[i,j] = market_shares[1]\n",
      "C:\\Users\\majdy\\AppData\\Local\\Temp\\ipykernel_15056\\2469950845.py:50: FutureWarning: Series.__getitem__ treating keys as positions is deprecated. In a future version, integer keys will always be treated as labels (consistent with DataFrame behavior). To access a value by position, use `ser.iloc[pos]`\n",
      "  cycling_market_share[i,j] = market_shares[2]\n",
      "C:\\Users\\majdy\\AppData\\Local\\Temp\\ipykernel_15056\\2469950845.py:51: FutureWarning: Series.__getitem__ treating keys as positions is deprecated. In a future version, integer keys will always be treated as labels (consistent with DataFrame behavior). To access a value by position, use `ser.iloc[pos]`\n",
      "  walking_market_share[i,j] = market_shares[3]\n",
      "C:\\Users\\majdy\\AppData\\Local\\Temp\\ipykernel_15056\\2469950845.py:52: FutureWarning: Series.__getitem__ treating keys as positions is deprecated. In a future version, integer keys will always be treated as labels (consistent with DataFrame behavior). To access a value by position, use `ser.iloc[pos]`\n",
      "  car_market_share[i,j] = market_shares[0]\n"
     ]
    },
    {
     "name": "stdout",
     "output_type": "stream",
     "text": [
      "iteration (1, 7) completed\n"
     ]
    },
    {
     "name": "stderr",
     "output_type": "stream",
     "text": [
      "C:\\Users\\majdy\\AppData\\Local\\Temp\\ipykernel_15056\\2469950845.py:49: FutureWarning: Series.__getitem__ treating keys as positions is deprecated. In a future version, integer keys will always be treated as labels (consistent with DataFrame behavior). To access a value by position, use `ser.iloc[pos]`\n",
      "  pt_market_share[i,j] = market_shares[1]\n",
      "C:\\Users\\majdy\\AppData\\Local\\Temp\\ipykernel_15056\\2469950845.py:50: FutureWarning: Series.__getitem__ treating keys as positions is deprecated. In a future version, integer keys will always be treated as labels (consistent with DataFrame behavior). To access a value by position, use `ser.iloc[pos]`\n",
      "  cycling_market_share[i,j] = market_shares[2]\n",
      "C:\\Users\\majdy\\AppData\\Local\\Temp\\ipykernel_15056\\2469950845.py:51: FutureWarning: Series.__getitem__ treating keys as positions is deprecated. In a future version, integer keys will always be treated as labels (consistent with DataFrame behavior). To access a value by position, use `ser.iloc[pos]`\n",
      "  walking_market_share[i,j] = market_shares[3]\n",
      "C:\\Users\\majdy\\AppData\\Local\\Temp\\ipykernel_15056\\2469950845.py:52: FutureWarning: Series.__getitem__ treating keys as positions is deprecated. In a future version, integer keys will always be treated as labels (consistent with DataFrame behavior). To access a value by position, use `ser.iloc[pos]`\n",
      "  car_market_share[i,j] = market_shares[0]\n"
     ]
    },
    {
     "name": "stdout",
     "output_type": "stream",
     "text": [
      "iteration (2, 7) completed\n"
     ]
    },
    {
     "name": "stderr",
     "output_type": "stream",
     "text": [
      "C:\\Users\\majdy\\AppData\\Local\\Temp\\ipykernel_15056\\2469950845.py:49: FutureWarning: Series.__getitem__ treating keys as positions is deprecated. In a future version, integer keys will always be treated as labels (consistent with DataFrame behavior). To access a value by position, use `ser.iloc[pos]`\n",
      "  pt_market_share[i,j] = market_shares[1]\n",
      "C:\\Users\\majdy\\AppData\\Local\\Temp\\ipykernel_15056\\2469950845.py:50: FutureWarning: Series.__getitem__ treating keys as positions is deprecated. In a future version, integer keys will always be treated as labels (consistent with DataFrame behavior). To access a value by position, use `ser.iloc[pos]`\n",
      "  cycling_market_share[i,j] = market_shares[2]\n",
      "C:\\Users\\majdy\\AppData\\Local\\Temp\\ipykernel_15056\\2469950845.py:51: FutureWarning: Series.__getitem__ treating keys as positions is deprecated. In a future version, integer keys will always be treated as labels (consistent with DataFrame behavior). To access a value by position, use `ser.iloc[pos]`\n",
      "  walking_market_share[i,j] = market_shares[3]\n",
      "C:\\Users\\majdy\\AppData\\Local\\Temp\\ipykernel_15056\\2469950845.py:52: FutureWarning: Series.__getitem__ treating keys as positions is deprecated. In a future version, integer keys will always be treated as labels (consistent with DataFrame behavior). To access a value by position, use `ser.iloc[pos]`\n",
      "  car_market_share[i,j] = market_shares[0]\n"
     ]
    },
    {
     "name": "stdout",
     "output_type": "stream",
     "text": [
      "iteration (3, 7) completed\n"
     ]
    },
    {
     "name": "stderr",
     "output_type": "stream",
     "text": [
      "C:\\Users\\majdy\\AppData\\Local\\Temp\\ipykernel_15056\\2469950845.py:49: FutureWarning: Series.__getitem__ treating keys as positions is deprecated. In a future version, integer keys will always be treated as labels (consistent with DataFrame behavior). To access a value by position, use `ser.iloc[pos]`\n",
      "  pt_market_share[i,j] = market_shares[1]\n",
      "C:\\Users\\majdy\\AppData\\Local\\Temp\\ipykernel_15056\\2469950845.py:50: FutureWarning: Series.__getitem__ treating keys as positions is deprecated. In a future version, integer keys will always be treated as labels (consistent with DataFrame behavior). To access a value by position, use `ser.iloc[pos]`\n",
      "  cycling_market_share[i,j] = market_shares[2]\n",
      "C:\\Users\\majdy\\AppData\\Local\\Temp\\ipykernel_15056\\2469950845.py:51: FutureWarning: Series.__getitem__ treating keys as positions is deprecated. In a future version, integer keys will always be treated as labels (consistent with DataFrame behavior). To access a value by position, use `ser.iloc[pos]`\n",
      "  walking_market_share[i,j] = market_shares[3]\n",
      "C:\\Users\\majdy\\AppData\\Local\\Temp\\ipykernel_15056\\2469950845.py:52: FutureWarning: Series.__getitem__ treating keys as positions is deprecated. In a future version, integer keys will always be treated as labels (consistent with DataFrame behavior). To access a value by position, use `ser.iloc[pos]`\n",
      "  car_market_share[i,j] = market_shares[0]\n"
     ]
    },
    {
     "name": "stdout",
     "output_type": "stream",
     "text": [
      "iteration (4, 7) completed\n"
     ]
    },
    {
     "name": "stderr",
     "output_type": "stream",
     "text": [
      "C:\\Users\\majdy\\AppData\\Local\\Temp\\ipykernel_15056\\2469950845.py:49: FutureWarning: Series.__getitem__ treating keys as positions is deprecated. In a future version, integer keys will always be treated as labels (consistent with DataFrame behavior). To access a value by position, use `ser.iloc[pos]`\n",
      "  pt_market_share[i,j] = market_shares[1]\n",
      "C:\\Users\\majdy\\AppData\\Local\\Temp\\ipykernel_15056\\2469950845.py:50: FutureWarning: Series.__getitem__ treating keys as positions is deprecated. In a future version, integer keys will always be treated as labels (consistent with DataFrame behavior). To access a value by position, use `ser.iloc[pos]`\n",
      "  cycling_market_share[i,j] = market_shares[2]\n",
      "C:\\Users\\majdy\\AppData\\Local\\Temp\\ipykernel_15056\\2469950845.py:51: FutureWarning: Series.__getitem__ treating keys as positions is deprecated. In a future version, integer keys will always be treated as labels (consistent with DataFrame behavior). To access a value by position, use `ser.iloc[pos]`\n",
      "  walking_market_share[i,j] = market_shares[3]\n",
      "C:\\Users\\majdy\\AppData\\Local\\Temp\\ipykernel_15056\\2469950845.py:52: FutureWarning: Series.__getitem__ treating keys as positions is deprecated. In a future version, integer keys will always be treated as labels (consistent with DataFrame behavior). To access a value by position, use `ser.iloc[pos]`\n",
      "  car_market_share[i,j] = market_shares[0]\n"
     ]
    },
    {
     "name": "stdout",
     "output_type": "stream",
     "text": [
      "iteration (5, 7) completed\n"
     ]
    },
    {
     "name": "stderr",
     "output_type": "stream",
     "text": [
      "C:\\Users\\majdy\\AppData\\Local\\Temp\\ipykernel_15056\\2469950845.py:49: FutureWarning: Series.__getitem__ treating keys as positions is deprecated. In a future version, integer keys will always be treated as labels (consistent with DataFrame behavior). To access a value by position, use `ser.iloc[pos]`\n",
      "  pt_market_share[i,j] = market_shares[1]\n",
      "C:\\Users\\majdy\\AppData\\Local\\Temp\\ipykernel_15056\\2469950845.py:50: FutureWarning: Series.__getitem__ treating keys as positions is deprecated. In a future version, integer keys will always be treated as labels (consistent with DataFrame behavior). To access a value by position, use `ser.iloc[pos]`\n",
      "  cycling_market_share[i,j] = market_shares[2]\n",
      "C:\\Users\\majdy\\AppData\\Local\\Temp\\ipykernel_15056\\2469950845.py:51: FutureWarning: Series.__getitem__ treating keys as positions is deprecated. In a future version, integer keys will always be treated as labels (consistent with DataFrame behavior). To access a value by position, use `ser.iloc[pos]`\n",
      "  walking_market_share[i,j] = market_shares[3]\n",
      "C:\\Users\\majdy\\AppData\\Local\\Temp\\ipykernel_15056\\2469950845.py:52: FutureWarning: Series.__getitem__ treating keys as positions is deprecated. In a future version, integer keys will always be treated as labels (consistent with DataFrame behavior). To access a value by position, use `ser.iloc[pos]`\n",
      "  car_market_share[i,j] = market_shares[0]\n"
     ]
    },
    {
     "name": "stdout",
     "output_type": "stream",
     "text": [
      "iteration (6, 7) completed\n"
     ]
    },
    {
     "name": "stderr",
     "output_type": "stream",
     "text": [
      "C:\\Users\\majdy\\AppData\\Local\\Temp\\ipykernel_15056\\2469950845.py:49: FutureWarning: Series.__getitem__ treating keys as positions is deprecated. In a future version, integer keys will always be treated as labels (consistent with DataFrame behavior). To access a value by position, use `ser.iloc[pos]`\n",
      "  pt_market_share[i,j] = market_shares[1]\n",
      "C:\\Users\\majdy\\AppData\\Local\\Temp\\ipykernel_15056\\2469950845.py:50: FutureWarning: Series.__getitem__ treating keys as positions is deprecated. In a future version, integer keys will always be treated as labels (consistent with DataFrame behavior). To access a value by position, use `ser.iloc[pos]`\n",
      "  cycling_market_share[i,j] = market_shares[2]\n",
      "C:\\Users\\majdy\\AppData\\Local\\Temp\\ipykernel_15056\\2469950845.py:51: FutureWarning: Series.__getitem__ treating keys as positions is deprecated. In a future version, integer keys will always be treated as labels (consistent with DataFrame behavior). To access a value by position, use `ser.iloc[pos]`\n",
      "  walking_market_share[i,j] = market_shares[3]\n",
      "C:\\Users\\majdy\\AppData\\Local\\Temp\\ipykernel_15056\\2469950845.py:52: FutureWarning: Series.__getitem__ treating keys as positions is deprecated. In a future version, integer keys will always be treated as labels (consistent with DataFrame behavior). To access a value by position, use `ser.iloc[pos]`\n",
      "  car_market_share[i,j] = market_shares[0]\n"
     ]
    },
    {
     "name": "stdout",
     "output_type": "stream",
     "text": [
      "iteration (7, 7) completed\n"
     ]
    },
    {
     "name": "stderr",
     "output_type": "stream",
     "text": [
      "C:\\Users\\majdy\\AppData\\Local\\Temp\\ipykernel_15056\\2469950845.py:49: FutureWarning: Series.__getitem__ treating keys as positions is deprecated. In a future version, integer keys will always be treated as labels (consistent with DataFrame behavior). To access a value by position, use `ser.iloc[pos]`\n",
      "  pt_market_share[i,j] = market_shares[1]\n",
      "C:\\Users\\majdy\\AppData\\Local\\Temp\\ipykernel_15056\\2469950845.py:50: FutureWarning: Series.__getitem__ treating keys as positions is deprecated. In a future version, integer keys will always be treated as labels (consistent with DataFrame behavior). To access a value by position, use `ser.iloc[pos]`\n",
      "  cycling_market_share[i,j] = market_shares[2]\n",
      "C:\\Users\\majdy\\AppData\\Local\\Temp\\ipykernel_15056\\2469950845.py:51: FutureWarning: Series.__getitem__ treating keys as positions is deprecated. In a future version, integer keys will always be treated as labels (consistent with DataFrame behavior). To access a value by position, use `ser.iloc[pos]`\n",
      "  walking_market_share[i,j] = market_shares[3]\n",
      "C:\\Users\\majdy\\AppData\\Local\\Temp\\ipykernel_15056\\2469950845.py:52: FutureWarning: Series.__getitem__ treating keys as positions is deprecated. In a future version, integer keys will always be treated as labels (consistent with DataFrame behavior). To access a value by position, use `ser.iloc[pos]`\n",
      "  car_market_share[i,j] = market_shares[0]\n"
     ]
    },
    {
     "name": "stdout",
     "output_type": "stream",
     "text": [
      "iteration (8, 7) completed\n"
     ]
    },
    {
     "name": "stderr",
     "output_type": "stream",
     "text": [
      "C:\\Users\\majdy\\AppData\\Local\\Temp\\ipykernel_15056\\2469950845.py:49: FutureWarning: Series.__getitem__ treating keys as positions is deprecated. In a future version, integer keys will always be treated as labels (consistent with DataFrame behavior). To access a value by position, use `ser.iloc[pos]`\n",
      "  pt_market_share[i,j] = market_shares[1]\n",
      "C:\\Users\\majdy\\AppData\\Local\\Temp\\ipykernel_15056\\2469950845.py:50: FutureWarning: Series.__getitem__ treating keys as positions is deprecated. In a future version, integer keys will always be treated as labels (consistent with DataFrame behavior). To access a value by position, use `ser.iloc[pos]`\n",
      "  cycling_market_share[i,j] = market_shares[2]\n",
      "C:\\Users\\majdy\\AppData\\Local\\Temp\\ipykernel_15056\\2469950845.py:51: FutureWarning: Series.__getitem__ treating keys as positions is deprecated. In a future version, integer keys will always be treated as labels (consistent with DataFrame behavior). To access a value by position, use `ser.iloc[pos]`\n",
      "  walking_market_share[i,j] = market_shares[3]\n",
      "C:\\Users\\majdy\\AppData\\Local\\Temp\\ipykernel_15056\\2469950845.py:52: FutureWarning: Series.__getitem__ treating keys as positions is deprecated. In a future version, integer keys will always be treated as labels (consistent with DataFrame behavior). To access a value by position, use `ser.iloc[pos]`\n",
      "  car_market_share[i,j] = market_shares[0]\n"
     ]
    },
    {
     "name": "stdout",
     "output_type": "stream",
     "text": [
      "iteration (9, 7) completed\n"
     ]
    },
    {
     "name": "stderr",
     "output_type": "stream",
     "text": [
      "C:\\Users\\majdy\\AppData\\Local\\Temp\\ipykernel_15056\\2469950845.py:49: FutureWarning: Series.__getitem__ treating keys as positions is deprecated. In a future version, integer keys will always be treated as labels (consistent with DataFrame behavior). To access a value by position, use `ser.iloc[pos]`\n",
      "  pt_market_share[i,j] = market_shares[1]\n",
      "C:\\Users\\majdy\\AppData\\Local\\Temp\\ipykernel_15056\\2469950845.py:50: FutureWarning: Series.__getitem__ treating keys as positions is deprecated. In a future version, integer keys will always be treated as labels (consistent with DataFrame behavior). To access a value by position, use `ser.iloc[pos]`\n",
      "  cycling_market_share[i,j] = market_shares[2]\n",
      "C:\\Users\\majdy\\AppData\\Local\\Temp\\ipykernel_15056\\2469950845.py:51: FutureWarning: Series.__getitem__ treating keys as positions is deprecated. In a future version, integer keys will always be treated as labels (consistent with DataFrame behavior). To access a value by position, use `ser.iloc[pos]`\n",
      "  walking_market_share[i,j] = market_shares[3]\n",
      "C:\\Users\\majdy\\AppData\\Local\\Temp\\ipykernel_15056\\2469950845.py:52: FutureWarning: Series.__getitem__ treating keys as positions is deprecated. In a future version, integer keys will always be treated as labels (consistent with DataFrame behavior). To access a value by position, use `ser.iloc[pos]`\n",
      "  car_market_share[i,j] = market_shares[0]\n"
     ]
    },
    {
     "name": "stdout",
     "output_type": "stream",
     "text": [
      "iteration (10, 7) completed\n"
     ]
    },
    {
     "name": "stderr",
     "output_type": "stream",
     "text": [
      "C:\\Users\\majdy\\AppData\\Local\\Temp\\ipykernel_15056\\2469950845.py:49: FutureWarning: Series.__getitem__ treating keys as positions is deprecated. In a future version, integer keys will always be treated as labels (consistent with DataFrame behavior). To access a value by position, use `ser.iloc[pos]`\n",
      "  pt_market_share[i,j] = market_shares[1]\n",
      "C:\\Users\\majdy\\AppData\\Local\\Temp\\ipykernel_15056\\2469950845.py:50: FutureWarning: Series.__getitem__ treating keys as positions is deprecated. In a future version, integer keys will always be treated as labels (consistent with DataFrame behavior). To access a value by position, use `ser.iloc[pos]`\n",
      "  cycling_market_share[i,j] = market_shares[2]\n",
      "C:\\Users\\majdy\\AppData\\Local\\Temp\\ipykernel_15056\\2469950845.py:51: FutureWarning: Series.__getitem__ treating keys as positions is deprecated. In a future version, integer keys will always be treated as labels (consistent with DataFrame behavior). To access a value by position, use `ser.iloc[pos]`\n",
      "  walking_market_share[i,j] = market_shares[3]\n",
      "C:\\Users\\majdy\\AppData\\Local\\Temp\\ipykernel_15056\\2469950845.py:52: FutureWarning: Series.__getitem__ treating keys as positions is deprecated. In a future version, integer keys will always be treated as labels (consistent with DataFrame behavior). To access a value by position, use `ser.iloc[pos]`\n",
      "  car_market_share[i,j] = market_shares[0]\n"
     ]
    },
    {
     "name": "stdout",
     "output_type": "stream",
     "text": [
      "iteration (0, 8) completed\n"
     ]
    },
    {
     "name": "stderr",
     "output_type": "stream",
     "text": [
      "C:\\Users\\majdy\\AppData\\Local\\Temp\\ipykernel_15056\\2469950845.py:49: FutureWarning: Series.__getitem__ treating keys as positions is deprecated. In a future version, integer keys will always be treated as labels (consistent with DataFrame behavior). To access a value by position, use `ser.iloc[pos]`\n",
      "  pt_market_share[i,j] = market_shares[1]\n",
      "C:\\Users\\majdy\\AppData\\Local\\Temp\\ipykernel_15056\\2469950845.py:50: FutureWarning: Series.__getitem__ treating keys as positions is deprecated. In a future version, integer keys will always be treated as labels (consistent with DataFrame behavior). To access a value by position, use `ser.iloc[pos]`\n",
      "  cycling_market_share[i,j] = market_shares[2]\n",
      "C:\\Users\\majdy\\AppData\\Local\\Temp\\ipykernel_15056\\2469950845.py:51: FutureWarning: Series.__getitem__ treating keys as positions is deprecated. In a future version, integer keys will always be treated as labels (consistent with DataFrame behavior). To access a value by position, use `ser.iloc[pos]`\n",
      "  walking_market_share[i,j] = market_shares[3]\n",
      "C:\\Users\\majdy\\AppData\\Local\\Temp\\ipykernel_15056\\2469950845.py:52: FutureWarning: Series.__getitem__ treating keys as positions is deprecated. In a future version, integer keys will always be treated as labels (consistent with DataFrame behavior). To access a value by position, use `ser.iloc[pos]`\n",
      "  car_market_share[i,j] = market_shares[0]\n"
     ]
    },
    {
     "name": "stdout",
     "output_type": "stream",
     "text": [
      "iteration (1, 8) completed\n"
     ]
    },
    {
     "name": "stderr",
     "output_type": "stream",
     "text": [
      "C:\\Users\\majdy\\AppData\\Local\\Temp\\ipykernel_15056\\2469950845.py:49: FutureWarning: Series.__getitem__ treating keys as positions is deprecated. In a future version, integer keys will always be treated as labels (consistent with DataFrame behavior). To access a value by position, use `ser.iloc[pos]`\n",
      "  pt_market_share[i,j] = market_shares[1]\n",
      "C:\\Users\\majdy\\AppData\\Local\\Temp\\ipykernel_15056\\2469950845.py:50: FutureWarning: Series.__getitem__ treating keys as positions is deprecated. In a future version, integer keys will always be treated as labels (consistent with DataFrame behavior). To access a value by position, use `ser.iloc[pos]`\n",
      "  cycling_market_share[i,j] = market_shares[2]\n",
      "C:\\Users\\majdy\\AppData\\Local\\Temp\\ipykernel_15056\\2469950845.py:51: FutureWarning: Series.__getitem__ treating keys as positions is deprecated. In a future version, integer keys will always be treated as labels (consistent with DataFrame behavior). To access a value by position, use `ser.iloc[pos]`\n",
      "  walking_market_share[i,j] = market_shares[3]\n",
      "C:\\Users\\majdy\\AppData\\Local\\Temp\\ipykernel_15056\\2469950845.py:52: FutureWarning: Series.__getitem__ treating keys as positions is deprecated. In a future version, integer keys will always be treated as labels (consistent with DataFrame behavior). To access a value by position, use `ser.iloc[pos]`\n",
      "  car_market_share[i,j] = market_shares[0]\n"
     ]
    },
    {
     "name": "stdout",
     "output_type": "stream",
     "text": [
      "iteration (2, 8) completed\n"
     ]
    },
    {
     "name": "stderr",
     "output_type": "stream",
     "text": [
      "C:\\Users\\majdy\\AppData\\Local\\Temp\\ipykernel_15056\\2469950845.py:49: FutureWarning: Series.__getitem__ treating keys as positions is deprecated. In a future version, integer keys will always be treated as labels (consistent with DataFrame behavior). To access a value by position, use `ser.iloc[pos]`\n",
      "  pt_market_share[i,j] = market_shares[1]\n",
      "C:\\Users\\majdy\\AppData\\Local\\Temp\\ipykernel_15056\\2469950845.py:50: FutureWarning: Series.__getitem__ treating keys as positions is deprecated. In a future version, integer keys will always be treated as labels (consistent with DataFrame behavior). To access a value by position, use `ser.iloc[pos]`\n",
      "  cycling_market_share[i,j] = market_shares[2]\n",
      "C:\\Users\\majdy\\AppData\\Local\\Temp\\ipykernel_15056\\2469950845.py:51: FutureWarning: Series.__getitem__ treating keys as positions is deprecated. In a future version, integer keys will always be treated as labels (consistent with DataFrame behavior). To access a value by position, use `ser.iloc[pos]`\n",
      "  walking_market_share[i,j] = market_shares[3]\n",
      "C:\\Users\\majdy\\AppData\\Local\\Temp\\ipykernel_15056\\2469950845.py:52: FutureWarning: Series.__getitem__ treating keys as positions is deprecated. In a future version, integer keys will always be treated as labels (consistent with DataFrame behavior). To access a value by position, use `ser.iloc[pos]`\n",
      "  car_market_share[i,j] = market_shares[0]\n"
     ]
    },
    {
     "name": "stdout",
     "output_type": "stream",
     "text": [
      "iteration (3, 8) completed\n"
     ]
    },
    {
     "name": "stderr",
     "output_type": "stream",
     "text": [
      "C:\\Users\\majdy\\AppData\\Local\\Temp\\ipykernel_15056\\2469950845.py:49: FutureWarning: Series.__getitem__ treating keys as positions is deprecated. In a future version, integer keys will always be treated as labels (consistent with DataFrame behavior). To access a value by position, use `ser.iloc[pos]`\n",
      "  pt_market_share[i,j] = market_shares[1]\n",
      "C:\\Users\\majdy\\AppData\\Local\\Temp\\ipykernel_15056\\2469950845.py:50: FutureWarning: Series.__getitem__ treating keys as positions is deprecated. In a future version, integer keys will always be treated as labels (consistent with DataFrame behavior). To access a value by position, use `ser.iloc[pos]`\n",
      "  cycling_market_share[i,j] = market_shares[2]\n",
      "C:\\Users\\majdy\\AppData\\Local\\Temp\\ipykernel_15056\\2469950845.py:51: FutureWarning: Series.__getitem__ treating keys as positions is deprecated. In a future version, integer keys will always be treated as labels (consistent with DataFrame behavior). To access a value by position, use `ser.iloc[pos]`\n",
      "  walking_market_share[i,j] = market_shares[3]\n",
      "C:\\Users\\majdy\\AppData\\Local\\Temp\\ipykernel_15056\\2469950845.py:52: FutureWarning: Series.__getitem__ treating keys as positions is deprecated. In a future version, integer keys will always be treated as labels (consistent with DataFrame behavior). To access a value by position, use `ser.iloc[pos]`\n",
      "  car_market_share[i,j] = market_shares[0]\n"
     ]
    },
    {
     "name": "stdout",
     "output_type": "stream",
     "text": [
      "iteration (4, 8) completed\n"
     ]
    },
    {
     "name": "stderr",
     "output_type": "stream",
     "text": [
      "C:\\Users\\majdy\\AppData\\Local\\Temp\\ipykernel_15056\\2469950845.py:49: FutureWarning: Series.__getitem__ treating keys as positions is deprecated. In a future version, integer keys will always be treated as labels (consistent with DataFrame behavior). To access a value by position, use `ser.iloc[pos]`\n",
      "  pt_market_share[i,j] = market_shares[1]\n",
      "C:\\Users\\majdy\\AppData\\Local\\Temp\\ipykernel_15056\\2469950845.py:50: FutureWarning: Series.__getitem__ treating keys as positions is deprecated. In a future version, integer keys will always be treated as labels (consistent with DataFrame behavior). To access a value by position, use `ser.iloc[pos]`\n",
      "  cycling_market_share[i,j] = market_shares[2]\n",
      "C:\\Users\\majdy\\AppData\\Local\\Temp\\ipykernel_15056\\2469950845.py:51: FutureWarning: Series.__getitem__ treating keys as positions is deprecated. In a future version, integer keys will always be treated as labels (consistent with DataFrame behavior). To access a value by position, use `ser.iloc[pos]`\n",
      "  walking_market_share[i,j] = market_shares[3]\n",
      "C:\\Users\\majdy\\AppData\\Local\\Temp\\ipykernel_15056\\2469950845.py:52: FutureWarning: Series.__getitem__ treating keys as positions is deprecated. In a future version, integer keys will always be treated as labels (consistent with DataFrame behavior). To access a value by position, use `ser.iloc[pos]`\n",
      "  car_market_share[i,j] = market_shares[0]\n"
     ]
    },
    {
     "name": "stdout",
     "output_type": "stream",
     "text": [
      "iteration (5, 8) completed\n"
     ]
    },
    {
     "name": "stderr",
     "output_type": "stream",
     "text": [
      "C:\\Users\\majdy\\AppData\\Local\\Temp\\ipykernel_15056\\2469950845.py:49: FutureWarning: Series.__getitem__ treating keys as positions is deprecated. In a future version, integer keys will always be treated as labels (consistent with DataFrame behavior). To access a value by position, use `ser.iloc[pos]`\n",
      "  pt_market_share[i,j] = market_shares[1]\n",
      "C:\\Users\\majdy\\AppData\\Local\\Temp\\ipykernel_15056\\2469950845.py:50: FutureWarning: Series.__getitem__ treating keys as positions is deprecated. In a future version, integer keys will always be treated as labels (consistent with DataFrame behavior). To access a value by position, use `ser.iloc[pos]`\n",
      "  cycling_market_share[i,j] = market_shares[2]\n",
      "C:\\Users\\majdy\\AppData\\Local\\Temp\\ipykernel_15056\\2469950845.py:51: FutureWarning: Series.__getitem__ treating keys as positions is deprecated. In a future version, integer keys will always be treated as labels (consistent with DataFrame behavior). To access a value by position, use `ser.iloc[pos]`\n",
      "  walking_market_share[i,j] = market_shares[3]\n",
      "C:\\Users\\majdy\\AppData\\Local\\Temp\\ipykernel_15056\\2469950845.py:52: FutureWarning: Series.__getitem__ treating keys as positions is deprecated. In a future version, integer keys will always be treated as labels (consistent with DataFrame behavior). To access a value by position, use `ser.iloc[pos]`\n",
      "  car_market_share[i,j] = market_shares[0]\n"
     ]
    },
    {
     "name": "stdout",
     "output_type": "stream",
     "text": [
      "iteration (6, 8) completed\n"
     ]
    },
    {
     "name": "stderr",
     "output_type": "stream",
     "text": [
      "C:\\Users\\majdy\\AppData\\Local\\Temp\\ipykernel_15056\\2469950845.py:49: FutureWarning: Series.__getitem__ treating keys as positions is deprecated. In a future version, integer keys will always be treated as labels (consistent with DataFrame behavior). To access a value by position, use `ser.iloc[pos]`\n",
      "  pt_market_share[i,j] = market_shares[1]\n",
      "C:\\Users\\majdy\\AppData\\Local\\Temp\\ipykernel_15056\\2469950845.py:50: FutureWarning: Series.__getitem__ treating keys as positions is deprecated. In a future version, integer keys will always be treated as labels (consistent with DataFrame behavior). To access a value by position, use `ser.iloc[pos]`\n",
      "  cycling_market_share[i,j] = market_shares[2]\n",
      "C:\\Users\\majdy\\AppData\\Local\\Temp\\ipykernel_15056\\2469950845.py:51: FutureWarning: Series.__getitem__ treating keys as positions is deprecated. In a future version, integer keys will always be treated as labels (consistent with DataFrame behavior). To access a value by position, use `ser.iloc[pos]`\n",
      "  walking_market_share[i,j] = market_shares[3]\n",
      "C:\\Users\\majdy\\AppData\\Local\\Temp\\ipykernel_15056\\2469950845.py:52: FutureWarning: Series.__getitem__ treating keys as positions is deprecated. In a future version, integer keys will always be treated as labels (consistent with DataFrame behavior). To access a value by position, use `ser.iloc[pos]`\n",
      "  car_market_share[i,j] = market_shares[0]\n"
     ]
    },
    {
     "name": "stdout",
     "output_type": "stream",
     "text": [
      "iteration (7, 8) completed\n"
     ]
    },
    {
     "name": "stderr",
     "output_type": "stream",
     "text": [
      "C:\\Users\\majdy\\AppData\\Local\\Temp\\ipykernel_15056\\2469950845.py:49: FutureWarning: Series.__getitem__ treating keys as positions is deprecated. In a future version, integer keys will always be treated as labels (consistent with DataFrame behavior). To access a value by position, use `ser.iloc[pos]`\n",
      "  pt_market_share[i,j] = market_shares[1]\n",
      "C:\\Users\\majdy\\AppData\\Local\\Temp\\ipykernel_15056\\2469950845.py:50: FutureWarning: Series.__getitem__ treating keys as positions is deprecated. In a future version, integer keys will always be treated as labels (consistent with DataFrame behavior). To access a value by position, use `ser.iloc[pos]`\n",
      "  cycling_market_share[i,j] = market_shares[2]\n",
      "C:\\Users\\majdy\\AppData\\Local\\Temp\\ipykernel_15056\\2469950845.py:51: FutureWarning: Series.__getitem__ treating keys as positions is deprecated. In a future version, integer keys will always be treated as labels (consistent with DataFrame behavior). To access a value by position, use `ser.iloc[pos]`\n",
      "  walking_market_share[i,j] = market_shares[3]\n",
      "C:\\Users\\majdy\\AppData\\Local\\Temp\\ipykernel_15056\\2469950845.py:52: FutureWarning: Series.__getitem__ treating keys as positions is deprecated. In a future version, integer keys will always be treated as labels (consistent with DataFrame behavior). To access a value by position, use `ser.iloc[pos]`\n",
      "  car_market_share[i,j] = market_shares[0]\n"
     ]
    },
    {
     "name": "stdout",
     "output_type": "stream",
     "text": [
      "iteration (8, 8) completed\n"
     ]
    },
    {
     "name": "stderr",
     "output_type": "stream",
     "text": [
      "C:\\Users\\majdy\\AppData\\Local\\Temp\\ipykernel_15056\\2469950845.py:49: FutureWarning: Series.__getitem__ treating keys as positions is deprecated. In a future version, integer keys will always be treated as labels (consistent with DataFrame behavior). To access a value by position, use `ser.iloc[pos]`\n",
      "  pt_market_share[i,j] = market_shares[1]\n",
      "C:\\Users\\majdy\\AppData\\Local\\Temp\\ipykernel_15056\\2469950845.py:50: FutureWarning: Series.__getitem__ treating keys as positions is deprecated. In a future version, integer keys will always be treated as labels (consistent with DataFrame behavior). To access a value by position, use `ser.iloc[pos]`\n",
      "  cycling_market_share[i,j] = market_shares[2]\n",
      "C:\\Users\\majdy\\AppData\\Local\\Temp\\ipykernel_15056\\2469950845.py:51: FutureWarning: Series.__getitem__ treating keys as positions is deprecated. In a future version, integer keys will always be treated as labels (consistent with DataFrame behavior). To access a value by position, use `ser.iloc[pos]`\n",
      "  walking_market_share[i,j] = market_shares[3]\n",
      "C:\\Users\\majdy\\AppData\\Local\\Temp\\ipykernel_15056\\2469950845.py:52: FutureWarning: Series.__getitem__ treating keys as positions is deprecated. In a future version, integer keys will always be treated as labels (consistent with DataFrame behavior). To access a value by position, use `ser.iloc[pos]`\n",
      "  car_market_share[i,j] = market_shares[0]\n"
     ]
    },
    {
     "name": "stdout",
     "output_type": "stream",
     "text": [
      "iteration (9, 8) completed\n"
     ]
    },
    {
     "name": "stderr",
     "output_type": "stream",
     "text": [
      "C:\\Users\\majdy\\AppData\\Local\\Temp\\ipykernel_15056\\2469950845.py:49: FutureWarning: Series.__getitem__ treating keys as positions is deprecated. In a future version, integer keys will always be treated as labels (consistent with DataFrame behavior). To access a value by position, use `ser.iloc[pos]`\n",
      "  pt_market_share[i,j] = market_shares[1]\n",
      "C:\\Users\\majdy\\AppData\\Local\\Temp\\ipykernel_15056\\2469950845.py:50: FutureWarning: Series.__getitem__ treating keys as positions is deprecated. In a future version, integer keys will always be treated as labels (consistent with DataFrame behavior). To access a value by position, use `ser.iloc[pos]`\n",
      "  cycling_market_share[i,j] = market_shares[2]\n",
      "C:\\Users\\majdy\\AppData\\Local\\Temp\\ipykernel_15056\\2469950845.py:51: FutureWarning: Series.__getitem__ treating keys as positions is deprecated. In a future version, integer keys will always be treated as labels (consistent with DataFrame behavior). To access a value by position, use `ser.iloc[pos]`\n",
      "  walking_market_share[i,j] = market_shares[3]\n",
      "C:\\Users\\majdy\\AppData\\Local\\Temp\\ipykernel_15056\\2469950845.py:52: FutureWarning: Series.__getitem__ treating keys as positions is deprecated. In a future version, integer keys will always be treated as labels (consistent with DataFrame behavior). To access a value by position, use `ser.iloc[pos]`\n",
      "  car_market_share[i,j] = market_shares[0]\n"
     ]
    },
    {
     "name": "stdout",
     "output_type": "stream",
     "text": [
      "iteration (10, 8) completed\n"
     ]
    },
    {
     "name": "stderr",
     "output_type": "stream",
     "text": [
      "C:\\Users\\majdy\\AppData\\Local\\Temp\\ipykernel_15056\\2469950845.py:49: FutureWarning: Series.__getitem__ treating keys as positions is deprecated. In a future version, integer keys will always be treated as labels (consistent with DataFrame behavior). To access a value by position, use `ser.iloc[pos]`\n",
      "  pt_market_share[i,j] = market_shares[1]\n",
      "C:\\Users\\majdy\\AppData\\Local\\Temp\\ipykernel_15056\\2469950845.py:50: FutureWarning: Series.__getitem__ treating keys as positions is deprecated. In a future version, integer keys will always be treated as labels (consistent with DataFrame behavior). To access a value by position, use `ser.iloc[pos]`\n",
      "  cycling_market_share[i,j] = market_shares[2]\n",
      "C:\\Users\\majdy\\AppData\\Local\\Temp\\ipykernel_15056\\2469950845.py:51: FutureWarning: Series.__getitem__ treating keys as positions is deprecated. In a future version, integer keys will always be treated as labels (consistent with DataFrame behavior). To access a value by position, use `ser.iloc[pos]`\n",
      "  walking_market_share[i,j] = market_shares[3]\n",
      "C:\\Users\\majdy\\AppData\\Local\\Temp\\ipykernel_15056\\2469950845.py:52: FutureWarning: Series.__getitem__ treating keys as positions is deprecated. In a future version, integer keys will always be treated as labels (consistent with DataFrame behavior). To access a value by position, use `ser.iloc[pos]`\n",
      "  car_market_share[i,j] = market_shares[0]\n"
     ]
    },
    {
     "name": "stdout",
     "output_type": "stream",
     "text": [
      "iteration (0, 9) completed\n"
     ]
    },
    {
     "name": "stderr",
     "output_type": "stream",
     "text": [
      "C:\\Users\\majdy\\AppData\\Local\\Temp\\ipykernel_15056\\2469950845.py:49: FutureWarning: Series.__getitem__ treating keys as positions is deprecated. In a future version, integer keys will always be treated as labels (consistent with DataFrame behavior). To access a value by position, use `ser.iloc[pos]`\n",
      "  pt_market_share[i,j] = market_shares[1]\n",
      "C:\\Users\\majdy\\AppData\\Local\\Temp\\ipykernel_15056\\2469950845.py:50: FutureWarning: Series.__getitem__ treating keys as positions is deprecated. In a future version, integer keys will always be treated as labels (consistent with DataFrame behavior). To access a value by position, use `ser.iloc[pos]`\n",
      "  cycling_market_share[i,j] = market_shares[2]\n",
      "C:\\Users\\majdy\\AppData\\Local\\Temp\\ipykernel_15056\\2469950845.py:51: FutureWarning: Series.__getitem__ treating keys as positions is deprecated. In a future version, integer keys will always be treated as labels (consistent with DataFrame behavior). To access a value by position, use `ser.iloc[pos]`\n",
      "  walking_market_share[i,j] = market_shares[3]\n",
      "C:\\Users\\majdy\\AppData\\Local\\Temp\\ipykernel_15056\\2469950845.py:52: FutureWarning: Series.__getitem__ treating keys as positions is deprecated. In a future version, integer keys will always be treated as labels (consistent with DataFrame behavior). To access a value by position, use `ser.iloc[pos]`\n",
      "  car_market_share[i,j] = market_shares[0]\n"
     ]
    },
    {
     "name": "stdout",
     "output_type": "stream",
     "text": [
      "iteration (1, 9) completed\n"
     ]
    },
    {
     "name": "stderr",
     "output_type": "stream",
     "text": [
      "C:\\Users\\majdy\\AppData\\Local\\Temp\\ipykernel_15056\\2469950845.py:49: FutureWarning: Series.__getitem__ treating keys as positions is deprecated. In a future version, integer keys will always be treated as labels (consistent with DataFrame behavior). To access a value by position, use `ser.iloc[pos]`\n",
      "  pt_market_share[i,j] = market_shares[1]\n",
      "C:\\Users\\majdy\\AppData\\Local\\Temp\\ipykernel_15056\\2469950845.py:50: FutureWarning: Series.__getitem__ treating keys as positions is deprecated. In a future version, integer keys will always be treated as labels (consistent with DataFrame behavior). To access a value by position, use `ser.iloc[pos]`\n",
      "  cycling_market_share[i,j] = market_shares[2]\n",
      "C:\\Users\\majdy\\AppData\\Local\\Temp\\ipykernel_15056\\2469950845.py:51: FutureWarning: Series.__getitem__ treating keys as positions is deprecated. In a future version, integer keys will always be treated as labels (consistent with DataFrame behavior). To access a value by position, use `ser.iloc[pos]`\n",
      "  walking_market_share[i,j] = market_shares[3]\n",
      "C:\\Users\\majdy\\AppData\\Local\\Temp\\ipykernel_15056\\2469950845.py:52: FutureWarning: Series.__getitem__ treating keys as positions is deprecated. In a future version, integer keys will always be treated as labels (consistent with DataFrame behavior). To access a value by position, use `ser.iloc[pos]`\n",
      "  car_market_share[i,j] = market_shares[0]\n"
     ]
    },
    {
     "name": "stdout",
     "output_type": "stream",
     "text": [
      "iteration (2, 9) completed\n"
     ]
    },
    {
     "name": "stderr",
     "output_type": "stream",
     "text": [
      "C:\\Users\\majdy\\AppData\\Local\\Temp\\ipykernel_15056\\2469950845.py:49: FutureWarning: Series.__getitem__ treating keys as positions is deprecated. In a future version, integer keys will always be treated as labels (consistent with DataFrame behavior). To access a value by position, use `ser.iloc[pos]`\n",
      "  pt_market_share[i,j] = market_shares[1]\n",
      "C:\\Users\\majdy\\AppData\\Local\\Temp\\ipykernel_15056\\2469950845.py:50: FutureWarning: Series.__getitem__ treating keys as positions is deprecated. In a future version, integer keys will always be treated as labels (consistent with DataFrame behavior). To access a value by position, use `ser.iloc[pos]`\n",
      "  cycling_market_share[i,j] = market_shares[2]\n",
      "C:\\Users\\majdy\\AppData\\Local\\Temp\\ipykernel_15056\\2469950845.py:51: FutureWarning: Series.__getitem__ treating keys as positions is deprecated. In a future version, integer keys will always be treated as labels (consistent with DataFrame behavior). To access a value by position, use `ser.iloc[pos]`\n",
      "  walking_market_share[i,j] = market_shares[3]\n",
      "C:\\Users\\majdy\\AppData\\Local\\Temp\\ipykernel_15056\\2469950845.py:52: FutureWarning: Series.__getitem__ treating keys as positions is deprecated. In a future version, integer keys will always be treated as labels (consistent with DataFrame behavior). To access a value by position, use `ser.iloc[pos]`\n",
      "  car_market_share[i,j] = market_shares[0]\n"
     ]
    },
    {
     "name": "stdout",
     "output_type": "stream",
     "text": [
      "iteration (3, 9) completed\n"
     ]
    },
    {
     "name": "stderr",
     "output_type": "stream",
     "text": [
      "C:\\Users\\majdy\\AppData\\Local\\Temp\\ipykernel_15056\\2469950845.py:49: FutureWarning: Series.__getitem__ treating keys as positions is deprecated. In a future version, integer keys will always be treated as labels (consistent with DataFrame behavior). To access a value by position, use `ser.iloc[pos]`\n",
      "  pt_market_share[i,j] = market_shares[1]\n",
      "C:\\Users\\majdy\\AppData\\Local\\Temp\\ipykernel_15056\\2469950845.py:50: FutureWarning: Series.__getitem__ treating keys as positions is deprecated. In a future version, integer keys will always be treated as labels (consistent with DataFrame behavior). To access a value by position, use `ser.iloc[pos]`\n",
      "  cycling_market_share[i,j] = market_shares[2]\n",
      "C:\\Users\\majdy\\AppData\\Local\\Temp\\ipykernel_15056\\2469950845.py:51: FutureWarning: Series.__getitem__ treating keys as positions is deprecated. In a future version, integer keys will always be treated as labels (consistent with DataFrame behavior). To access a value by position, use `ser.iloc[pos]`\n",
      "  walking_market_share[i,j] = market_shares[3]\n",
      "C:\\Users\\majdy\\AppData\\Local\\Temp\\ipykernel_15056\\2469950845.py:52: FutureWarning: Series.__getitem__ treating keys as positions is deprecated. In a future version, integer keys will always be treated as labels (consistent with DataFrame behavior). To access a value by position, use `ser.iloc[pos]`\n",
      "  car_market_share[i,j] = market_shares[0]\n"
     ]
    },
    {
     "name": "stdout",
     "output_type": "stream",
     "text": [
      "iteration (4, 9) completed\n"
     ]
    },
    {
     "name": "stderr",
     "output_type": "stream",
     "text": [
      "C:\\Users\\majdy\\AppData\\Local\\Temp\\ipykernel_15056\\2469950845.py:49: FutureWarning: Series.__getitem__ treating keys as positions is deprecated. In a future version, integer keys will always be treated as labels (consistent with DataFrame behavior). To access a value by position, use `ser.iloc[pos]`\n",
      "  pt_market_share[i,j] = market_shares[1]\n",
      "C:\\Users\\majdy\\AppData\\Local\\Temp\\ipykernel_15056\\2469950845.py:50: FutureWarning: Series.__getitem__ treating keys as positions is deprecated. In a future version, integer keys will always be treated as labels (consistent with DataFrame behavior). To access a value by position, use `ser.iloc[pos]`\n",
      "  cycling_market_share[i,j] = market_shares[2]\n",
      "C:\\Users\\majdy\\AppData\\Local\\Temp\\ipykernel_15056\\2469950845.py:51: FutureWarning: Series.__getitem__ treating keys as positions is deprecated. In a future version, integer keys will always be treated as labels (consistent with DataFrame behavior). To access a value by position, use `ser.iloc[pos]`\n",
      "  walking_market_share[i,j] = market_shares[3]\n",
      "C:\\Users\\majdy\\AppData\\Local\\Temp\\ipykernel_15056\\2469950845.py:52: FutureWarning: Series.__getitem__ treating keys as positions is deprecated. In a future version, integer keys will always be treated as labels (consistent with DataFrame behavior). To access a value by position, use `ser.iloc[pos]`\n",
      "  car_market_share[i,j] = market_shares[0]\n"
     ]
    },
    {
     "name": "stdout",
     "output_type": "stream",
     "text": [
      "iteration (5, 9) completed\n"
     ]
    },
    {
     "name": "stderr",
     "output_type": "stream",
     "text": [
      "C:\\Users\\majdy\\AppData\\Local\\Temp\\ipykernel_15056\\2469950845.py:49: FutureWarning: Series.__getitem__ treating keys as positions is deprecated. In a future version, integer keys will always be treated as labels (consistent with DataFrame behavior). To access a value by position, use `ser.iloc[pos]`\n",
      "  pt_market_share[i,j] = market_shares[1]\n",
      "C:\\Users\\majdy\\AppData\\Local\\Temp\\ipykernel_15056\\2469950845.py:50: FutureWarning: Series.__getitem__ treating keys as positions is deprecated. In a future version, integer keys will always be treated as labels (consistent with DataFrame behavior). To access a value by position, use `ser.iloc[pos]`\n",
      "  cycling_market_share[i,j] = market_shares[2]\n",
      "C:\\Users\\majdy\\AppData\\Local\\Temp\\ipykernel_15056\\2469950845.py:51: FutureWarning: Series.__getitem__ treating keys as positions is deprecated. In a future version, integer keys will always be treated as labels (consistent with DataFrame behavior). To access a value by position, use `ser.iloc[pos]`\n",
      "  walking_market_share[i,j] = market_shares[3]\n",
      "C:\\Users\\majdy\\AppData\\Local\\Temp\\ipykernel_15056\\2469950845.py:52: FutureWarning: Series.__getitem__ treating keys as positions is deprecated. In a future version, integer keys will always be treated as labels (consistent with DataFrame behavior). To access a value by position, use `ser.iloc[pos]`\n",
      "  car_market_share[i,j] = market_shares[0]\n"
     ]
    },
    {
     "name": "stdout",
     "output_type": "stream",
     "text": [
      "iteration (6, 9) completed\n"
     ]
    },
    {
     "name": "stderr",
     "output_type": "stream",
     "text": [
      "C:\\Users\\majdy\\AppData\\Local\\Temp\\ipykernel_15056\\2469950845.py:49: FutureWarning: Series.__getitem__ treating keys as positions is deprecated. In a future version, integer keys will always be treated as labels (consistent with DataFrame behavior). To access a value by position, use `ser.iloc[pos]`\n",
      "  pt_market_share[i,j] = market_shares[1]\n",
      "C:\\Users\\majdy\\AppData\\Local\\Temp\\ipykernel_15056\\2469950845.py:50: FutureWarning: Series.__getitem__ treating keys as positions is deprecated. In a future version, integer keys will always be treated as labels (consistent with DataFrame behavior). To access a value by position, use `ser.iloc[pos]`\n",
      "  cycling_market_share[i,j] = market_shares[2]\n",
      "C:\\Users\\majdy\\AppData\\Local\\Temp\\ipykernel_15056\\2469950845.py:51: FutureWarning: Series.__getitem__ treating keys as positions is deprecated. In a future version, integer keys will always be treated as labels (consistent with DataFrame behavior). To access a value by position, use `ser.iloc[pos]`\n",
      "  walking_market_share[i,j] = market_shares[3]\n",
      "C:\\Users\\majdy\\AppData\\Local\\Temp\\ipykernel_15056\\2469950845.py:52: FutureWarning: Series.__getitem__ treating keys as positions is deprecated. In a future version, integer keys will always be treated as labels (consistent with DataFrame behavior). To access a value by position, use `ser.iloc[pos]`\n",
      "  car_market_share[i,j] = market_shares[0]\n"
     ]
    },
    {
     "name": "stdout",
     "output_type": "stream",
     "text": [
      "iteration (7, 9) completed\n"
     ]
    },
    {
     "name": "stderr",
     "output_type": "stream",
     "text": [
      "C:\\Users\\majdy\\AppData\\Local\\Temp\\ipykernel_15056\\2469950845.py:49: FutureWarning: Series.__getitem__ treating keys as positions is deprecated. In a future version, integer keys will always be treated as labels (consistent with DataFrame behavior). To access a value by position, use `ser.iloc[pos]`\n",
      "  pt_market_share[i,j] = market_shares[1]\n",
      "C:\\Users\\majdy\\AppData\\Local\\Temp\\ipykernel_15056\\2469950845.py:50: FutureWarning: Series.__getitem__ treating keys as positions is deprecated. In a future version, integer keys will always be treated as labels (consistent with DataFrame behavior). To access a value by position, use `ser.iloc[pos]`\n",
      "  cycling_market_share[i,j] = market_shares[2]\n",
      "C:\\Users\\majdy\\AppData\\Local\\Temp\\ipykernel_15056\\2469950845.py:51: FutureWarning: Series.__getitem__ treating keys as positions is deprecated. In a future version, integer keys will always be treated as labels (consistent with DataFrame behavior). To access a value by position, use `ser.iloc[pos]`\n",
      "  walking_market_share[i,j] = market_shares[3]\n",
      "C:\\Users\\majdy\\AppData\\Local\\Temp\\ipykernel_15056\\2469950845.py:52: FutureWarning: Series.__getitem__ treating keys as positions is deprecated. In a future version, integer keys will always be treated as labels (consistent with DataFrame behavior). To access a value by position, use `ser.iloc[pos]`\n",
      "  car_market_share[i,j] = market_shares[0]\n"
     ]
    },
    {
     "name": "stdout",
     "output_type": "stream",
     "text": [
      "iteration (8, 9) completed\n"
     ]
    },
    {
     "name": "stderr",
     "output_type": "stream",
     "text": [
      "C:\\Users\\majdy\\AppData\\Local\\Temp\\ipykernel_15056\\2469950845.py:49: FutureWarning: Series.__getitem__ treating keys as positions is deprecated. In a future version, integer keys will always be treated as labels (consistent with DataFrame behavior). To access a value by position, use `ser.iloc[pos]`\n",
      "  pt_market_share[i,j] = market_shares[1]\n",
      "C:\\Users\\majdy\\AppData\\Local\\Temp\\ipykernel_15056\\2469950845.py:50: FutureWarning: Series.__getitem__ treating keys as positions is deprecated. In a future version, integer keys will always be treated as labels (consistent with DataFrame behavior). To access a value by position, use `ser.iloc[pos]`\n",
      "  cycling_market_share[i,j] = market_shares[2]\n",
      "C:\\Users\\majdy\\AppData\\Local\\Temp\\ipykernel_15056\\2469950845.py:51: FutureWarning: Series.__getitem__ treating keys as positions is deprecated. In a future version, integer keys will always be treated as labels (consistent with DataFrame behavior). To access a value by position, use `ser.iloc[pos]`\n",
      "  walking_market_share[i,j] = market_shares[3]\n",
      "C:\\Users\\majdy\\AppData\\Local\\Temp\\ipykernel_15056\\2469950845.py:52: FutureWarning: Series.__getitem__ treating keys as positions is deprecated. In a future version, integer keys will always be treated as labels (consistent with DataFrame behavior). To access a value by position, use `ser.iloc[pos]`\n",
      "  car_market_share[i,j] = market_shares[0]\n"
     ]
    },
    {
     "name": "stdout",
     "output_type": "stream",
     "text": [
      "iteration (9, 9) completed\n"
     ]
    },
    {
     "name": "stderr",
     "output_type": "stream",
     "text": [
      "C:\\Users\\majdy\\AppData\\Local\\Temp\\ipykernel_15056\\2469950845.py:49: FutureWarning: Series.__getitem__ treating keys as positions is deprecated. In a future version, integer keys will always be treated as labels (consistent with DataFrame behavior). To access a value by position, use `ser.iloc[pos]`\n",
      "  pt_market_share[i,j] = market_shares[1]\n",
      "C:\\Users\\majdy\\AppData\\Local\\Temp\\ipykernel_15056\\2469950845.py:50: FutureWarning: Series.__getitem__ treating keys as positions is deprecated. In a future version, integer keys will always be treated as labels (consistent with DataFrame behavior). To access a value by position, use `ser.iloc[pos]`\n",
      "  cycling_market_share[i,j] = market_shares[2]\n",
      "C:\\Users\\majdy\\AppData\\Local\\Temp\\ipykernel_15056\\2469950845.py:51: FutureWarning: Series.__getitem__ treating keys as positions is deprecated. In a future version, integer keys will always be treated as labels (consistent with DataFrame behavior). To access a value by position, use `ser.iloc[pos]`\n",
      "  walking_market_share[i,j] = market_shares[3]\n",
      "C:\\Users\\majdy\\AppData\\Local\\Temp\\ipykernel_15056\\2469950845.py:52: FutureWarning: Series.__getitem__ treating keys as positions is deprecated. In a future version, integer keys will always be treated as labels (consistent with DataFrame behavior). To access a value by position, use `ser.iloc[pos]`\n",
      "  car_market_share[i,j] = market_shares[0]\n"
     ]
    },
    {
     "name": "stdout",
     "output_type": "stream",
     "text": [
      "iteration (10, 9) completed\n"
     ]
    },
    {
     "name": "stderr",
     "output_type": "stream",
     "text": [
      "C:\\Users\\majdy\\AppData\\Local\\Temp\\ipykernel_15056\\2469950845.py:49: FutureWarning: Series.__getitem__ treating keys as positions is deprecated. In a future version, integer keys will always be treated as labels (consistent with DataFrame behavior). To access a value by position, use `ser.iloc[pos]`\n",
      "  pt_market_share[i,j] = market_shares[1]\n",
      "C:\\Users\\majdy\\AppData\\Local\\Temp\\ipykernel_15056\\2469950845.py:50: FutureWarning: Series.__getitem__ treating keys as positions is deprecated. In a future version, integer keys will always be treated as labels (consistent with DataFrame behavior). To access a value by position, use `ser.iloc[pos]`\n",
      "  cycling_market_share[i,j] = market_shares[2]\n",
      "C:\\Users\\majdy\\AppData\\Local\\Temp\\ipykernel_15056\\2469950845.py:51: FutureWarning: Series.__getitem__ treating keys as positions is deprecated. In a future version, integer keys will always be treated as labels (consistent with DataFrame behavior). To access a value by position, use `ser.iloc[pos]`\n",
      "  walking_market_share[i,j] = market_shares[3]\n",
      "C:\\Users\\majdy\\AppData\\Local\\Temp\\ipykernel_15056\\2469950845.py:52: FutureWarning: Series.__getitem__ treating keys as positions is deprecated. In a future version, integer keys will always be treated as labels (consistent with DataFrame behavior). To access a value by position, use `ser.iloc[pos]`\n",
      "  car_market_share[i,j] = market_shares[0]\n"
     ]
    },
    {
     "name": "stdout",
     "output_type": "stream",
     "text": [
      "iteration (0, 10) completed\n"
     ]
    },
    {
     "name": "stderr",
     "output_type": "stream",
     "text": [
      "C:\\Users\\majdy\\AppData\\Local\\Temp\\ipykernel_15056\\2469950845.py:49: FutureWarning: Series.__getitem__ treating keys as positions is deprecated. In a future version, integer keys will always be treated as labels (consistent with DataFrame behavior). To access a value by position, use `ser.iloc[pos]`\n",
      "  pt_market_share[i,j] = market_shares[1]\n",
      "C:\\Users\\majdy\\AppData\\Local\\Temp\\ipykernel_15056\\2469950845.py:50: FutureWarning: Series.__getitem__ treating keys as positions is deprecated. In a future version, integer keys will always be treated as labels (consistent with DataFrame behavior). To access a value by position, use `ser.iloc[pos]`\n",
      "  cycling_market_share[i,j] = market_shares[2]\n",
      "C:\\Users\\majdy\\AppData\\Local\\Temp\\ipykernel_15056\\2469950845.py:51: FutureWarning: Series.__getitem__ treating keys as positions is deprecated. In a future version, integer keys will always be treated as labels (consistent with DataFrame behavior). To access a value by position, use `ser.iloc[pos]`\n",
      "  walking_market_share[i,j] = market_shares[3]\n",
      "C:\\Users\\majdy\\AppData\\Local\\Temp\\ipykernel_15056\\2469950845.py:52: FutureWarning: Series.__getitem__ treating keys as positions is deprecated. In a future version, integer keys will always be treated as labels (consistent with DataFrame behavior). To access a value by position, use `ser.iloc[pos]`\n",
      "  car_market_share[i,j] = market_shares[0]\n"
     ]
    },
    {
     "name": "stdout",
     "output_type": "stream",
     "text": [
      "iteration (1, 10) completed\n"
     ]
    },
    {
     "name": "stderr",
     "output_type": "stream",
     "text": [
      "C:\\Users\\majdy\\AppData\\Local\\Temp\\ipykernel_15056\\2469950845.py:49: FutureWarning: Series.__getitem__ treating keys as positions is deprecated. In a future version, integer keys will always be treated as labels (consistent with DataFrame behavior). To access a value by position, use `ser.iloc[pos]`\n",
      "  pt_market_share[i,j] = market_shares[1]\n",
      "C:\\Users\\majdy\\AppData\\Local\\Temp\\ipykernel_15056\\2469950845.py:50: FutureWarning: Series.__getitem__ treating keys as positions is deprecated. In a future version, integer keys will always be treated as labels (consistent with DataFrame behavior). To access a value by position, use `ser.iloc[pos]`\n",
      "  cycling_market_share[i,j] = market_shares[2]\n",
      "C:\\Users\\majdy\\AppData\\Local\\Temp\\ipykernel_15056\\2469950845.py:51: FutureWarning: Series.__getitem__ treating keys as positions is deprecated. In a future version, integer keys will always be treated as labels (consistent with DataFrame behavior). To access a value by position, use `ser.iloc[pos]`\n",
      "  walking_market_share[i,j] = market_shares[3]\n",
      "C:\\Users\\majdy\\AppData\\Local\\Temp\\ipykernel_15056\\2469950845.py:52: FutureWarning: Series.__getitem__ treating keys as positions is deprecated. In a future version, integer keys will always be treated as labels (consistent with DataFrame behavior). To access a value by position, use `ser.iloc[pos]`\n",
      "  car_market_share[i,j] = market_shares[0]\n"
     ]
    },
    {
     "name": "stdout",
     "output_type": "stream",
     "text": [
      "iteration (2, 10) completed\n"
     ]
    },
    {
     "name": "stderr",
     "output_type": "stream",
     "text": [
      "C:\\Users\\majdy\\AppData\\Local\\Temp\\ipykernel_15056\\2469950845.py:49: FutureWarning: Series.__getitem__ treating keys as positions is deprecated. In a future version, integer keys will always be treated as labels (consistent with DataFrame behavior). To access a value by position, use `ser.iloc[pos]`\n",
      "  pt_market_share[i,j] = market_shares[1]\n",
      "C:\\Users\\majdy\\AppData\\Local\\Temp\\ipykernel_15056\\2469950845.py:50: FutureWarning: Series.__getitem__ treating keys as positions is deprecated. In a future version, integer keys will always be treated as labels (consistent with DataFrame behavior). To access a value by position, use `ser.iloc[pos]`\n",
      "  cycling_market_share[i,j] = market_shares[2]\n",
      "C:\\Users\\majdy\\AppData\\Local\\Temp\\ipykernel_15056\\2469950845.py:51: FutureWarning: Series.__getitem__ treating keys as positions is deprecated. In a future version, integer keys will always be treated as labels (consistent with DataFrame behavior). To access a value by position, use `ser.iloc[pos]`\n",
      "  walking_market_share[i,j] = market_shares[3]\n",
      "C:\\Users\\majdy\\AppData\\Local\\Temp\\ipykernel_15056\\2469950845.py:52: FutureWarning: Series.__getitem__ treating keys as positions is deprecated. In a future version, integer keys will always be treated as labels (consistent with DataFrame behavior). To access a value by position, use `ser.iloc[pos]`\n",
      "  car_market_share[i,j] = market_shares[0]\n"
     ]
    },
    {
     "name": "stdout",
     "output_type": "stream",
     "text": [
      "iteration (3, 10) completed\n"
     ]
    },
    {
     "name": "stderr",
     "output_type": "stream",
     "text": [
      "C:\\Users\\majdy\\AppData\\Local\\Temp\\ipykernel_15056\\2469950845.py:49: FutureWarning: Series.__getitem__ treating keys as positions is deprecated. In a future version, integer keys will always be treated as labels (consistent with DataFrame behavior). To access a value by position, use `ser.iloc[pos]`\n",
      "  pt_market_share[i,j] = market_shares[1]\n",
      "C:\\Users\\majdy\\AppData\\Local\\Temp\\ipykernel_15056\\2469950845.py:50: FutureWarning: Series.__getitem__ treating keys as positions is deprecated. In a future version, integer keys will always be treated as labels (consistent with DataFrame behavior). To access a value by position, use `ser.iloc[pos]`\n",
      "  cycling_market_share[i,j] = market_shares[2]\n",
      "C:\\Users\\majdy\\AppData\\Local\\Temp\\ipykernel_15056\\2469950845.py:51: FutureWarning: Series.__getitem__ treating keys as positions is deprecated. In a future version, integer keys will always be treated as labels (consistent with DataFrame behavior). To access a value by position, use `ser.iloc[pos]`\n",
      "  walking_market_share[i,j] = market_shares[3]\n",
      "C:\\Users\\majdy\\AppData\\Local\\Temp\\ipykernel_15056\\2469950845.py:52: FutureWarning: Series.__getitem__ treating keys as positions is deprecated. In a future version, integer keys will always be treated as labels (consistent with DataFrame behavior). To access a value by position, use `ser.iloc[pos]`\n",
      "  car_market_share[i,j] = market_shares[0]\n"
     ]
    },
    {
     "name": "stdout",
     "output_type": "stream",
     "text": [
      "iteration (4, 10) completed\n"
     ]
    },
    {
     "name": "stderr",
     "output_type": "stream",
     "text": [
      "C:\\Users\\majdy\\AppData\\Local\\Temp\\ipykernel_15056\\2469950845.py:49: FutureWarning: Series.__getitem__ treating keys as positions is deprecated. In a future version, integer keys will always be treated as labels (consistent with DataFrame behavior). To access a value by position, use `ser.iloc[pos]`\n",
      "  pt_market_share[i,j] = market_shares[1]\n",
      "C:\\Users\\majdy\\AppData\\Local\\Temp\\ipykernel_15056\\2469950845.py:50: FutureWarning: Series.__getitem__ treating keys as positions is deprecated. In a future version, integer keys will always be treated as labels (consistent with DataFrame behavior). To access a value by position, use `ser.iloc[pos]`\n",
      "  cycling_market_share[i,j] = market_shares[2]\n",
      "C:\\Users\\majdy\\AppData\\Local\\Temp\\ipykernel_15056\\2469950845.py:51: FutureWarning: Series.__getitem__ treating keys as positions is deprecated. In a future version, integer keys will always be treated as labels (consistent with DataFrame behavior). To access a value by position, use `ser.iloc[pos]`\n",
      "  walking_market_share[i,j] = market_shares[3]\n",
      "C:\\Users\\majdy\\AppData\\Local\\Temp\\ipykernel_15056\\2469950845.py:52: FutureWarning: Series.__getitem__ treating keys as positions is deprecated. In a future version, integer keys will always be treated as labels (consistent with DataFrame behavior). To access a value by position, use `ser.iloc[pos]`\n",
      "  car_market_share[i,j] = market_shares[0]\n"
     ]
    },
    {
     "name": "stdout",
     "output_type": "stream",
     "text": [
      "iteration (5, 10) completed\n"
     ]
    },
    {
     "name": "stderr",
     "output_type": "stream",
     "text": [
      "C:\\Users\\majdy\\AppData\\Local\\Temp\\ipykernel_15056\\2469950845.py:49: FutureWarning: Series.__getitem__ treating keys as positions is deprecated. In a future version, integer keys will always be treated as labels (consistent with DataFrame behavior). To access a value by position, use `ser.iloc[pos]`\n",
      "  pt_market_share[i,j] = market_shares[1]\n",
      "C:\\Users\\majdy\\AppData\\Local\\Temp\\ipykernel_15056\\2469950845.py:50: FutureWarning: Series.__getitem__ treating keys as positions is deprecated. In a future version, integer keys will always be treated as labels (consistent with DataFrame behavior). To access a value by position, use `ser.iloc[pos]`\n",
      "  cycling_market_share[i,j] = market_shares[2]\n",
      "C:\\Users\\majdy\\AppData\\Local\\Temp\\ipykernel_15056\\2469950845.py:51: FutureWarning: Series.__getitem__ treating keys as positions is deprecated. In a future version, integer keys will always be treated as labels (consistent with DataFrame behavior). To access a value by position, use `ser.iloc[pos]`\n",
      "  walking_market_share[i,j] = market_shares[3]\n",
      "C:\\Users\\majdy\\AppData\\Local\\Temp\\ipykernel_15056\\2469950845.py:52: FutureWarning: Series.__getitem__ treating keys as positions is deprecated. In a future version, integer keys will always be treated as labels (consistent with DataFrame behavior). To access a value by position, use `ser.iloc[pos]`\n",
      "  car_market_share[i,j] = market_shares[0]\n"
     ]
    },
    {
     "name": "stdout",
     "output_type": "stream",
     "text": [
      "iteration (6, 10) completed\n"
     ]
    },
    {
     "name": "stderr",
     "output_type": "stream",
     "text": [
      "C:\\Users\\majdy\\AppData\\Local\\Temp\\ipykernel_15056\\2469950845.py:49: FutureWarning: Series.__getitem__ treating keys as positions is deprecated. In a future version, integer keys will always be treated as labels (consistent with DataFrame behavior). To access a value by position, use `ser.iloc[pos]`\n",
      "  pt_market_share[i,j] = market_shares[1]\n",
      "C:\\Users\\majdy\\AppData\\Local\\Temp\\ipykernel_15056\\2469950845.py:50: FutureWarning: Series.__getitem__ treating keys as positions is deprecated. In a future version, integer keys will always be treated as labels (consistent with DataFrame behavior). To access a value by position, use `ser.iloc[pos]`\n",
      "  cycling_market_share[i,j] = market_shares[2]\n",
      "C:\\Users\\majdy\\AppData\\Local\\Temp\\ipykernel_15056\\2469950845.py:51: FutureWarning: Series.__getitem__ treating keys as positions is deprecated. In a future version, integer keys will always be treated as labels (consistent with DataFrame behavior). To access a value by position, use `ser.iloc[pos]`\n",
      "  walking_market_share[i,j] = market_shares[3]\n",
      "C:\\Users\\majdy\\AppData\\Local\\Temp\\ipykernel_15056\\2469950845.py:52: FutureWarning: Series.__getitem__ treating keys as positions is deprecated. In a future version, integer keys will always be treated as labels (consistent with DataFrame behavior). To access a value by position, use `ser.iloc[pos]`\n",
      "  car_market_share[i,j] = market_shares[0]\n"
     ]
    },
    {
     "name": "stdout",
     "output_type": "stream",
     "text": [
      "iteration (7, 10) completed\n"
     ]
    },
    {
     "name": "stderr",
     "output_type": "stream",
     "text": [
      "C:\\Users\\majdy\\AppData\\Local\\Temp\\ipykernel_15056\\2469950845.py:49: FutureWarning: Series.__getitem__ treating keys as positions is deprecated. In a future version, integer keys will always be treated as labels (consistent with DataFrame behavior). To access a value by position, use `ser.iloc[pos]`\n",
      "  pt_market_share[i,j] = market_shares[1]\n",
      "C:\\Users\\majdy\\AppData\\Local\\Temp\\ipykernel_15056\\2469950845.py:50: FutureWarning: Series.__getitem__ treating keys as positions is deprecated. In a future version, integer keys will always be treated as labels (consistent with DataFrame behavior). To access a value by position, use `ser.iloc[pos]`\n",
      "  cycling_market_share[i,j] = market_shares[2]\n",
      "C:\\Users\\majdy\\AppData\\Local\\Temp\\ipykernel_15056\\2469950845.py:51: FutureWarning: Series.__getitem__ treating keys as positions is deprecated. In a future version, integer keys will always be treated as labels (consistent with DataFrame behavior). To access a value by position, use `ser.iloc[pos]`\n",
      "  walking_market_share[i,j] = market_shares[3]\n",
      "C:\\Users\\majdy\\AppData\\Local\\Temp\\ipykernel_15056\\2469950845.py:52: FutureWarning: Series.__getitem__ treating keys as positions is deprecated. In a future version, integer keys will always be treated as labels (consistent with DataFrame behavior). To access a value by position, use `ser.iloc[pos]`\n",
      "  car_market_share[i,j] = market_shares[0]\n"
     ]
    },
    {
     "name": "stdout",
     "output_type": "stream",
     "text": [
      "iteration (8, 10) completed\n"
     ]
    },
    {
     "name": "stderr",
     "output_type": "stream",
     "text": [
      "C:\\Users\\majdy\\AppData\\Local\\Temp\\ipykernel_15056\\2469950845.py:49: FutureWarning: Series.__getitem__ treating keys as positions is deprecated. In a future version, integer keys will always be treated as labels (consistent with DataFrame behavior). To access a value by position, use `ser.iloc[pos]`\n",
      "  pt_market_share[i,j] = market_shares[1]\n",
      "C:\\Users\\majdy\\AppData\\Local\\Temp\\ipykernel_15056\\2469950845.py:50: FutureWarning: Series.__getitem__ treating keys as positions is deprecated. In a future version, integer keys will always be treated as labels (consistent with DataFrame behavior). To access a value by position, use `ser.iloc[pos]`\n",
      "  cycling_market_share[i,j] = market_shares[2]\n",
      "C:\\Users\\majdy\\AppData\\Local\\Temp\\ipykernel_15056\\2469950845.py:51: FutureWarning: Series.__getitem__ treating keys as positions is deprecated. In a future version, integer keys will always be treated as labels (consistent with DataFrame behavior). To access a value by position, use `ser.iloc[pos]`\n",
      "  walking_market_share[i,j] = market_shares[3]\n",
      "C:\\Users\\majdy\\AppData\\Local\\Temp\\ipykernel_15056\\2469950845.py:52: FutureWarning: Series.__getitem__ treating keys as positions is deprecated. In a future version, integer keys will always be treated as labels (consistent with DataFrame behavior). To access a value by position, use `ser.iloc[pos]`\n",
      "  car_market_share[i,j] = market_shares[0]\n"
     ]
    },
    {
     "name": "stdout",
     "output_type": "stream",
     "text": [
      "iteration (9, 10) completed\n",
      "iteration (10, 10) completed\n"
     ]
    },
    {
     "name": "stderr",
     "output_type": "stream",
     "text": [
      "C:\\Users\\majdy\\AppData\\Local\\Temp\\ipykernel_15056\\2469950845.py:49: FutureWarning: Series.__getitem__ treating keys as positions is deprecated. In a future version, integer keys will always be treated as labels (consistent with DataFrame behavior). To access a value by position, use `ser.iloc[pos]`\n",
      "  pt_market_share[i,j] = market_shares[1]\n",
      "C:\\Users\\majdy\\AppData\\Local\\Temp\\ipykernel_15056\\2469950845.py:50: FutureWarning: Series.__getitem__ treating keys as positions is deprecated. In a future version, integer keys will always be treated as labels (consistent with DataFrame behavior). To access a value by position, use `ser.iloc[pos]`\n",
      "  cycling_market_share[i,j] = market_shares[2]\n",
      "C:\\Users\\majdy\\AppData\\Local\\Temp\\ipykernel_15056\\2469950845.py:51: FutureWarning: Series.__getitem__ treating keys as positions is deprecated. In a future version, integer keys will always be treated as labels (consistent with DataFrame behavior). To access a value by position, use `ser.iloc[pos]`\n",
      "  walking_market_share[i,j] = market_shares[3]\n",
      "C:\\Users\\majdy\\AppData\\Local\\Temp\\ipykernel_15056\\2469950845.py:52: FutureWarning: Series.__getitem__ treating keys as positions is deprecated. In a future version, integer keys will always be treated as labels (consistent with DataFrame behavior). To access a value by position, use `ser.iloc[pos]`\n",
      "  car_market_share[i,j] = market_shares[0]\n"
     ]
    }
   ],
   "source": [
    "# Define percentage reductions for access time\n",
    "percentage_times = np.linspace(0, 1, 11)\n",
    "percentage_costs = np.linspace(0, 1, 11)\n",
    "\n",
    "# initialise market share arrays\n",
    "pt_market_share = np.zeros((len(percentage_times),len(percentage_costs)))\n",
    "cycling_market_share = np.zeros((len(percentage_times),len(percentage_costs)))\n",
    "walking_market_share = np.zeros((len(percentage_times),len(percentage_costs)))\n",
    "car_market_share = np.zeros((len(percentage_times),len(percentage_costs)))\n",
    "\n",
    "# Loop through each percentage reduction\n",
    "for j, perccost in enumerate(percentage_costs):\n",
    "    for i, perctime in enumerate(percentage_times):\n",
    "        # Define utility function with reduced access time\n",
    "        V_intervention_PT = (Beta0_PT +\n",
    "                             BetaTT_PT * TT_PT + \n",
    "                             BetaFare_PT * FARE_PT +\n",
    "                             BetaAC_PT * AC_PT*(1-perccost) +\n",
    "                             BetaAT_PT * AT_PT*(1-perctime) + \n",
    "                             BetaWT_PT * WT_PT + \n",
    "                             baseline_user)\n",
    "        \n",
    "        # Create a new utility functions dictionary for this scenario\n",
    "        V_intervention = {4: V_baseline_car, 3: V_intervention_PT, 2: V_baseline_cycling, 1: V_baseline_walking}\n",
    "\n",
    "        # # Estimate the model for Intervention 2\n",
    "        # logprob_intervention2 = models.loglogit(V_intervention2, av, CHOSEN_MODE)\n",
    "        # model_intervention2 = bio.BIOGEME(db, logprob_intervention2)\n",
    "        # model_intervention2.modelName = f'intervention2_{int(percentage*100)}'\n",
    "        # results_intervention2 = model_intervention2.estimate()\n",
    "\n",
    "        simulate = {'Prob. Car': models.logit(V_intervention, av, 4),\n",
    "                    'Prob. Public Transport': models.logit(V_intervention, av, 3),\n",
    "                    'Prob. Cycling': models.logit(V_intervention, av, 2),\n",
    "                    'Prob. Walking': models.logit(V_intervention, av, 1)}\n",
    "        \n",
    "        biosim_intervention = bio.BIOGEME(db, simulate)\n",
    "        biosim_intervention.modelName = f'intervention_time{int(perctime)}_cost{int(perccost)}_simulation'\n",
    "        \n",
    "        # Simulate and calculate market shares\n",
    "        simulated_values = biosim_intervention.simulate(the_beta_values=results_baseline.get_beta_values())\n",
    "        probabilities = simulated_values.mean(axis=0)\n",
    "        \n",
    "        # Normalize probabilities to ensure they sum to one\n",
    "        total_probabilities = probabilities.sum()\n",
    "        market_shares = probabilities / total_probabilities\n",
    "\n",
    "        # store the market shares into the arrays\n",
    "        pt_market_share[i,j] = market_shares[1]\n",
    "        cycling_market_share[i,j] = market_shares[2]\n",
    "        walking_market_share[i,j] = market_shares[3]\n",
    "        car_market_share[i,j] = market_shares[0]\n",
    "\n",
    "        print(f'iteration {i,j} completed')\n",
    "        \n",
    "        # # Store market shares in the DataFrame\n",
    "        # market_shares_df.loc[f'{int(percentage*100)}%'] = [\n",
    "        #     market_shares_2[0],  # Car\n",
    "        #     market_shares_2[1],  # Public Transport\n",
    "        #     market_shares_2[2],  # Cycling\n",
    "        #     market_shares_2[3]   # Walking\n",
    "        # ]\n",
    "\n"
   ]
  },
  {
   "cell_type": "code",
   "execution_count": 22,
   "metadata": {},
   "outputs": [],
   "source": [
    "# Save the market share arrays to .dat files\n",
    "np.savetxt('pt_market_share.dat', pt_market_share, delimiter=',')\n",
    "np.savetxt('cycling_market_share.dat', cycling_market_share, delimiter=',')\n",
    "np.savetxt('walking_market_share.dat', walking_market_share, delimiter=',')\n",
    "np.savetxt('car_market_share.dat', car_market_share, delimiter=',')"
   ]
  },
  {
   "cell_type": "code",
   "execution_count": 23,
   "metadata": {},
   "outputs": [],
   "source": [
    "# load the market share arrays\n",
    "pt_market_share = np.loadtxt('pt_market_share.dat', delimiter=',')\n",
    "cycling_market_share = np.loadtxt('cycling_market_share.dat', delimiter=',')\n",
    "walking_market_share = np.loadtxt('walking_market_share.dat', delimiter=',')\n",
    "car_market_share = np.loadtxt('car_market_share.dat', delimiter=',')"
   ]
  },
  {
   "cell_type": "code",
   "execution_count": 24,
   "metadata": {},
   "outputs": [
    {
     "data": {
      "image/png": "[encoded data removed]",
      "text/plain": [
       "<Figure size 1200x1200 with 8 Axes>"
      ]
     },
     "metadata": {},
     "output_type": "display_data"
    }
   ],
   "source": [
    "from matplotlib.ticker import PercentFormatter\n",
    "\n",
    "# meshgrid for the contour plots\n",
    "X, Y = np.meshgrid(percentage_times, percentage_costs)\n",
    "\n",
    "# contour plots\n",
    "fig, axs = plt.subplots(2, 2, figsize=(12, 12))\n",
    "\n",
    "# Public Transport\n",
    "cs1 = axs[0, 0].contourf(X, Y, pt_market_share, levels=20)\n",
    "fig.colorbar(cs1, ax=axs[0, 0])\n",
    "axs[0, 0].set_title('Public Transport Market Share')\n",
    "axs[0, 0].set_xlabel('Percentage Reduction in Access Time')\n",
    "axs[0, 0].set_ylabel('Percentage Reduction in Access Costs')\n",
    "axs[0, 0].xaxis.set_major_formatter(PercentFormatter(1))\n",
    "axs[0, 0].yaxis.set_major_formatter(PercentFormatter(1))\n",
    "\n",
    "# Cycling\n",
    "cs2 = axs[0, 1].contourf(X, Y, cycling_market_share, levels=20)\n",
    "fig.colorbar(cs2, ax=axs[0, 1])\n",
    "axs[0, 1].set_title('Cycling Market Share')\n",
    "axs[0, 1].set_xlabel('Percentage Reduction in Access Time')\n",
    "axs[0, 1].set_ylabel('Percentage Reduction in Access Costs')\n",
    "axs[0, 1].xaxis.set_major_formatter(PercentFormatter(1))\n",
    "axs[0, 1].yaxis.set_major_formatter(PercentFormatter(1))\n",
    "\n",
    "# Walking\n",
    "cs3 = axs[1, 0].contourf(X, Y, walking_market_share, levels=20)\n",
    "fig.colorbar(cs3, ax=axs[1, 0])\n",
    "axs[1, 0].set_title('Walking Market Share')\n",
    "axs[1, 0].set_xlabel('Percentage Reduction in Access Time')\n",
    "axs[1, 0].set_ylabel('Percentage Reduction in Access Costs')\n",
    "axs[1, 0].xaxis.set_major_formatter(PercentFormatter(1))\n",
    "axs[1, 0].yaxis.set_major_formatter(PercentFormatter(1))\n",
    "\n",
    "# Car\n",
    "cs4 = axs[1, 1].contourf(X, Y, car_market_share, levels=20)\n",
    "fig.colorbar(cs4, ax=axs[1, 1])\n",
    "axs[1, 1].set_title('Car Market Share')\n",
    "axs[1, 1].set_xlabel('Percentage Reduction in Access Time')\n",
    "axs[1, 1].set_ylabel('Percentage Reduction in Costs')\n",
    "axs[1, 1].xaxis.set_major_formatter(PercentFormatter(1))\n",
    "axs[1, 1].yaxis.set_major_formatter(PercentFormatter(1))\n",
    "\n",
    "plt.tight_layout()\n",
    "plt.show()"
   ]
  }
 ],
 "metadata": {
  "kernelspec": {
   "display_name": "myenv",
   "language": "python",
   "name": "python3"
  },
  "language_info": {
   "codemirror_mode": {
    "name": "ipython",
    "version": 3
   },
   "file_extension": ".py",
   "mimetype": "text/x-python",
   "name": "python",
   "nbconvert_exporter": "python",
   "pygments_lexer": "ipython3",
   "version": "3.11.4"
  }
 },
 "nbformat": 4,
 "nbformat_minor": 2
}
