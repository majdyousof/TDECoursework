{
 "cells": [
  {
   "cell_type": "code",
   "execution_count": 3,
   "id": "b90e6e08",
   "metadata": {},
   "outputs": [],
   "source": [
    "import pandas as pd\n",
    "import biogeme.biogeme as bio\n",
    "import biogeme.database as db\n",
    "from biogeme import models\n",
    "from biogeme.expressions import Beta\n",
    "import numpy as np"
   ]
  },
  {
   "cell_type": "code",
   "execution_count": 4,
   "id": "cfb45082",
   "metadata": {},
   "outputs": [],
   "source": [
    "# load the data\n",
    "# if loading CSV file \n",
    "# df_Car_SP_data = pd.read_csv('Car_SP_data.csv')\n",
    "\n",
    "df=pd.read_csv('data.dat',delimiter='\\t')"
   ]
  },
  {
   "cell_type": "code",
   "execution_count": 5,
   "id": "f152c077",
   "metadata": {},
   "outputs": [
    {
     "data": {
      "text/html": [
       "<div>\n",
       "<style scoped>\n",
       "    .dataframe tbody tr th:only-of-type {\n",
       "        vertical-align: middle;\n",
       "    }\n",
       "\n",
       "    .dataframe tbody tr th {\n",
       "        vertical-align: top;\n",
       "    }\n",
       "\n",
       "    .dataframe thead th {\n",
       "        text-align: right;\n",
       "    }\n",
       "</style>\n",
       "<table border=\"1\" class=\"dataframe\">\n",
       "  <thead>\n",
       "    <tr style=\"text-align: right;\">\n",
       "      <th></th>\n",
       "      <th>Individual</th>\n",
       "      <th>Children_u16</th>\n",
       "      <th>Car_travel_time</th>\n",
       "      <th>PT_travel_time</th>\n",
       "      <th>Chosen_alternative</th>\n",
       "    </tr>\n",
       "  </thead>\n",
       "  <tbody>\n",
       "    <tr>\n",
       "      <th>0</th>\n",
       "      <td>1</td>\n",
       "      <td>1</td>\n",
       "      <td>28</td>\n",
       "      <td>48</td>\n",
       "      <td>0</td>\n",
       "    </tr>\n",
       "    <tr>\n",
       "      <th>1</th>\n",
       "      <td>2</td>\n",
       "      <td>1</td>\n",
       "      <td>48</td>\n",
       "      <td>64</td>\n",
       "      <td>0</td>\n",
       "    </tr>\n",
       "    <tr>\n",
       "      <th>2</th>\n",
       "      <td>3</td>\n",
       "      <td>0</td>\n",
       "      <td>36</td>\n",
       "      <td>70</td>\n",
       "      <td>1</td>\n",
       "    </tr>\n",
       "    <tr>\n",
       "      <th>3</th>\n",
       "      <td>4</td>\n",
       "      <td>1</td>\n",
       "      <td>15</td>\n",
       "      <td>72</td>\n",
       "      <td>1</td>\n",
       "    </tr>\n",
       "    <tr>\n",
       "      <th>4</th>\n",
       "      <td>5</td>\n",
       "      <td>0</td>\n",
       "      <td>14</td>\n",
       "      <td>36</td>\n",
       "      <td>0</td>\n",
       "    </tr>\n",
       "    <tr>\n",
       "      <th>...</th>\n",
       "      <td>...</td>\n",
       "      <td>...</td>\n",
       "      <td>...</td>\n",
       "      <td>...</td>\n",
       "      <td>...</td>\n",
       "    </tr>\n",
       "    <tr>\n",
       "      <th>95</th>\n",
       "      <td>96</td>\n",
       "      <td>0</td>\n",
       "      <td>27</td>\n",
       "      <td>30</td>\n",
       "      <td>0</td>\n",
       "    </tr>\n",
       "    <tr>\n",
       "      <th>96</th>\n",
       "      <td>97</td>\n",
       "      <td>1</td>\n",
       "      <td>21</td>\n",
       "      <td>62</td>\n",
       "      <td>1</td>\n",
       "    </tr>\n",
       "    <tr>\n",
       "      <th>97</th>\n",
       "      <td>98</td>\n",
       "      <td>1</td>\n",
       "      <td>43</td>\n",
       "      <td>47</td>\n",
       "      <td>0</td>\n",
       "    </tr>\n",
       "    <tr>\n",
       "      <th>98</th>\n",
       "      <td>99</td>\n",
       "      <td>1</td>\n",
       "      <td>48</td>\n",
       "      <td>79</td>\n",
       "      <td>1</td>\n",
       "    </tr>\n",
       "    <tr>\n",
       "      <th>99</th>\n",
       "      <td>100</td>\n",
       "      <td>1</td>\n",
       "      <td>62</td>\n",
       "      <td>50</td>\n",
       "      <td>0</td>\n",
       "    </tr>\n",
       "  </tbody>\n",
       "</table>\n",
       "<p>100 rows × 5 columns</p>\n",
       "</div>"
      ],
      "text/plain": [
       "    Individual  Children_u16  Car_travel_time  PT_travel_time  \\\n",
       "0            1             1               28              48   \n",
       "1            2             1               48              64   \n",
       "2            3             0               36              70   \n",
       "3            4             1               15              72   \n",
       "4            5             0               14              36   \n",
       "..         ...           ...              ...             ...   \n",
       "95          96             0               27              30   \n",
       "96          97             1               21              62   \n",
       "97          98             1               43              47   \n",
       "98          99             1               48              79   \n",
       "99         100             1               62              50   \n",
       "\n",
       "    Chosen_alternative  \n",
       "0                    0  \n",
       "1                    0  \n",
       "2                    1  \n",
       "3                    1  \n",
       "4                    0  \n",
       "..                 ...  \n",
       "95                   0  \n",
       "96                   1  \n",
       "97                   0  \n",
       "98                   1  \n",
       "99                   0  \n",
       "\n",
       "[100 rows x 5 columns]"
      ]
     },
     "execution_count": 5,
     "metadata": {},
     "output_type": "execute_result"
    }
   ],
   "source": [
    "df"
   ]
  },
  {
   "cell_type": "code",
   "execution_count": 6,
   "id": "625c32c8",
   "metadata": {},
   "outputs": [],
   "source": [
    "# convert pandas dataframe object to Biogeme Database\n",
    "database = db.Database('application', df)"
   ]
  },
  {
   "cell_type": "code",
   "execution_count": 7,
   "id": "03d8a124",
   "metadata": {},
   "outputs": [
    {
     "name": "stderr",
     "output_type": "stream",
     "text": [
      "C:\\Users\\majdy\\AppData\\Local\\Temp\\ipykernel_23664\\3503777369.py:2: DeprecationWarning: getSampleSize is deprecated; use get_sample_size instead.\n",
      "  display(database.getSampleSize())\n"
     ]
    },
    {
     "data": {
      "text/plain": [
       "100"
      ]
     },
     "metadata": {},
     "output_type": "display_data"
    },
    {
     "data": {
      "text/plain": [
       "{'Individual': Individual,\n",
       " 'Children_u16': Children_u16,\n",
       " 'Car_travel_time': Car_travel_time,\n",
       " 'PT_travel_time': PT_travel_time,\n",
       " 'Chosen_alternative': Chosen_alternative}"
      ]
     },
     "metadata": {},
     "output_type": "display_data"
    }
   ],
   "source": [
    "# display database info\n",
    "display(database.getSampleSize())\n",
    "display(database.variables)"
   ]
  },
  {
   "cell_type": "code",
   "execution_count": 8,
   "id": "e10d1273",
   "metadata": {},
   "outputs": [],
   "source": [
    "# The following statement allows you to use the names of the\n",
    "# variable as Python variable.\n",
    "globals().update(database.variables)"
   ]
  },
  {
   "cell_type": "code",
   "execution_count": 9,
   "id": "46de79c4",
   "metadata": {},
   "outputs": [],
   "source": [
    "# Parameters to be estimated\n",
    "# Arguments:\n",
    "#   - 1  Name for report; Typically, the same as the variable.\n",
    "#   - 2  Starting value.\n",
    "#   - 3  Lower bound.\n",
    "#   - 4  Upper bound.\n",
    "#   - 5  0: estimate the parameter, 1: keep it fixed.\n",
    "\n",
    "ASC_CAR = Beta('ASC_CAR', 0, None, None, 1)\n",
    "ASC_PT= Beta('ASC_PT', 0, None, None, 0)\n",
    "B_TT = Beta('B_TT', 0, None, None, 0)\n",
    "B_kids = Beta('B_kids', 0, None, None, 0)\n"
   ]
  },
  {
   "cell_type": "code",
   "execution_count": 10,
   "id": "7f8aee40",
   "metadata": {},
   "outputs": [],
   "source": [
    "# Definition of Utility functions\n",
    "V0 = ASC_PT  +  B_TT*PT_travel_time\n",
    "V1 = ASC_CAR +  B_TT*Car_travel_time + B_kids*Children_u16"
   ]
  },
  {
   "cell_type": "code",
   "execution_count": 11,
   "id": "16f65871",
   "metadata": {},
   "outputs": [],
   "source": [
    "# Associate utility functions with the numbering of alternatives\n",
    "V = {0: V0, 1: V1}"
   ]
  },
  {
   "cell_type": "code",
   "execution_count": 12,
   "id": "d8698fce",
   "metadata": {},
   "outputs": [],
   "source": [
    "# Associate the availability conditions with the alternatives\n",
    "Av_PT=1\n",
    "Av_CAR=1\n",
    "\n",
    "av = {0:Av_PT,1:Av_CAR}"
   ]
  },
  {
   "cell_type": "code",
   "execution_count": 13,
   "id": "42f4d4e0",
   "metadata": {},
   "outputs": [],
   "source": [
    "# The choice model is a logit, with availability conditions\n",
    "logprob = models.loglogit(V, av, Chosen_alternative)"
   ]
  },
  {
   "cell_type": "code",
   "execution_count": 14,
   "id": "bf2a49f9",
   "metadata": {},
   "outputs": [
    {
     "name": "stderr",
     "output_type": "stream",
     "text": [
      "File biogeme.toml has been created\n"
     ]
    }
   ],
   "source": [
    "# Create the Biogeme object\n",
    "biogeme = bio.BIOGEME(database, logprob)\n",
    "biogeme.modelName = 'model_with_biogeme'"
   ]
  },
  {
   "cell_type": "code",
   "execution_count": null,
   "id": "e0a34280",
   "metadata": {},
   "outputs": [
    {
     "name": "stderr",
     "output_type": "stream",
     "text": [
      "C:\\Users\\majdy\\AppData\\Local\\Temp\\ipykernel_23664\\488280124.py:3: DeprecationWarning: getEstimatedParameters is deprecated; use get_estimated_parameters instead.\n",
      "  results.getEstimatedParameters()\n"
     ]
    },
    {
     "data": {
      "text/html": [
       "<div>\n",
       "<style scoped>\n",
       "    .dataframe tbody tr th:only-of-type {\n",
       "        vertical-align: middle;\n",
       "    }\n",
       "\n",
       "    .dataframe tbody tr th {\n",
       "        vertical-align: top;\n",
       "    }\n",
       "\n",
       "    .dataframe thead th {\n",
       "        text-align: right;\n",
       "    }\n",
       "</style>\n",
       "<table border=\"1\" class=\"dataframe\">\n",
       "  <thead>\n",
       "    <tr style=\"text-align: right;\">\n",
       "      <th></th>\n",
       "      <th>Value</th>\n",
       "      <th>Rob. Std err</th>\n",
       "      <th>Rob. t-test</th>\n",
       "      <th>Rob. p-value</th>\n",
       "    </tr>\n",
       "  </thead>\n",
       "  <tbody>\n",
       "    <tr>\n",
       "      <th>ASC_PT</th>\n",
       "      <td>2.388567</td>\n",
       "      <td>0.771937</td>\n",
       "      <td>3.094252</td>\n",
       "      <td>1.973101e-03</td>\n",
       "    </tr>\n",
       "    <tr>\n",
       "      <th>B_TT</th>\n",
       "      <td>-0.120369</td>\n",
       "      <td>0.023719</td>\n",
       "      <td>-5.074728</td>\n",
       "      <td>3.880503e-07</td>\n",
       "    </tr>\n",
       "    <tr>\n",
       "      <th>B_kids</th>\n",
       "      <td>0.158518</td>\n",
       "      <td>0.671311</td>\n",
       "      <td>0.236132</td>\n",
       "      <td>8.133300e-01</td>\n",
       "    </tr>\n",
       "  </tbody>\n",
       "</table>\n",
       "</div>"
      ],
      "text/plain": [
       "           Value  Rob. Std err  Rob. t-test  Rob. p-value\n",
       "ASC_PT  2.388567      0.771937     3.094252  1.973101e-03\n",
       "B_TT   -0.120369      0.023719    -5.074728  3.880503e-07\n",
       "B_kids  0.158518      0.671311     0.236132  8.133300e-01"
      ]
     },
     "execution_count": 15,
     "metadata": {},
     "output_type": "execute_result"
    }
   ],
   "source": [
    "# Estimate the parameters\n",
    "results = biogeme.estimate()\n",
    "results.get_estimated_parameters()"
   ]
  },
  {
   "cell_type": "code",
   "execution_count": 16,
   "id": "195161ca",
   "metadata": {},
   "outputs": [],
   "source": [
    "df['Av_PT']=1\n",
    "df['Av_Car']=1\n",
    "df.to_csv('data.csv',index=False)"
   ]
  }
 ],
 "metadata": {
  "kernelspec": {
   "display_name": "Python 3",
   "language": "python",
   "name": "python3"
  },
  "language_info": {
   "codemirror_mode": {
    "name": "ipython",
    "version": 3
   },
   "file_extension": ".py",
   "mimetype": "text/x-python",
   "name": "python",
   "nbconvert_exporter": "python",
   "pygments_lexer": "ipython3",
   "version": "3.11.4"
  }
 },
 "nbformat": 4,
 "nbformat_minor": 5
}
